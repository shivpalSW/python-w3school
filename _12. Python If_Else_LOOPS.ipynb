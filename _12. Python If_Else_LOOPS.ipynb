{
 "cells": [
  {
   "cell_type": "markdown",
   "id": "57bdb22f",
   "metadata": {},
   "source": [
    "# <center> 12. Python If_Else\n",
    "    \n",
    "https://www.w3schools.com/python/python_conditions.asp"
   ]
  },
  {
   "cell_type": "code",
   "execution_count": null,
   "id": "3f2912e3",
   "metadata": {},
   "outputs": [],
   "source": [
    "Python Conditions and If statements\n",
    "Python supports the usual logical conditions from mathematics:\n",
    "\n",
    "Equals: a == b\n",
    "Not Equals: a != b\n",
    "Less than: a < b\n",
    "Less than or equal to: a <= b\n",
    "Greater than: a > b\n",
    "Greater than or equal to: a >= b\n",
    "These conditions can be used in several ways, most commonly in \"if statements\" and loops.\n",
    "\n",
    "An \"if statement\" is written by using the if keyword."
   ]
  },
  {
   "cell_type": "code",
   "execution_count": 1,
   "id": "6890e533",
   "metadata": {},
   "outputs": [
    {
     "name": "stdout",
     "output_type": "stream",
     "text": [
      "b is greater than a\n"
     ]
    }
   ],
   "source": [
    "# Example:\n",
    "\n",
    "a= 23\n",
    "b=200\n",
    "\n",
    "if b>a:\n",
    "    print(\"b is greater than a\")"
   ]
  },
  {
   "cell_type": "markdown",
   "id": "d9b36deb",
   "metadata": {},
   "source": [
    "## Indentation\n",
    "Python relies on indentation (whitespace at the beginning of a line) to define scope in the code. Other programming languages often use curly-brackets for this purpose."
   ]
  },
  {
   "cell_type": "code",
   "execution_count": 2,
   "id": "58dc6845",
   "metadata": {},
   "outputs": [
    {
     "ename": "IndentationError",
     "evalue": "expected an indented block (Temp/ipykernel_19916/1532010471.py, line 7)",
     "output_type": "error",
     "traceback": [
      "\u001b[1;36m  File \u001b[1;32m\"C:\\Users\\wshru\\AppData\\Local\\Temp/ipykernel_19916/1532010471.py\"\u001b[1;36m, line \u001b[1;32m7\u001b[0m\n\u001b[1;33m    print(\" b is greater than a\")  # we wiill get an error\u001b[0m\n\u001b[1;37m    ^\u001b[0m\n\u001b[1;31mIndentationError\u001b[0m\u001b[1;31m:\u001b[0m expected an indented block\n"
     ]
    }
   ],
   "source": [
    "# If statement, without indentation (will raise an error):\n",
    "\n",
    "a= 23\n",
    "b= 200\n",
    "\n",
    "if b>a:\n",
    "print(\" b is greater than a\")  # we wiill get an error"
   ]
  },
  {
   "cell_type": "markdown",
   "id": "c4aba67f",
   "metadata": {},
   "source": [
    "## Elif:\n",
    "\n",
    "The elif keyword is pythons way of saying \"if the previous conditions were not true, then try this condition\"."
   ]
  },
  {
   "cell_type": "code",
   "execution_count": 3,
   "id": "593c2bfb",
   "metadata": {},
   "outputs": [
    {
     "name": "stdout",
     "output_type": "stream",
     "text": [
      "a and b are equal\n"
     ]
    }
   ],
   "source": [
    "a= 33\n",
    "b= 33\n",
    "if b > a:\n",
    "    print(\"b is greater than a\")\n",
    "elif a==b:\n",
    "    print(\"a and b are equal\")"
   ]
  },
  {
   "cell_type": "raw",
   "id": "06213f6d",
   "metadata": {},
   "source": [
    "In this example a is equal to b, so the first condition is not true, but the elif condition is true, so we print to screen that \"a and b are equal\"."
   ]
  },
  {
   "cell_type": "markdown",
   "id": "3d3bea33",
   "metadata": {},
   "source": [
    "## Else\n",
    "The else keyword catches anything which isn't caught by the preceding conditions."
   ]
  },
  {
   "cell_type": "code",
   "execution_count": 7,
   "id": "c52c2979",
   "metadata": {},
   "outputs": [
    {
     "name": "stdout",
     "output_type": "stream",
     "text": [
      "a is greter than b\n"
     ]
    }
   ],
   "source": [
    "a = 200\n",
    "b = 33 \n",
    "\n",
    "if b>a:\n",
    "    print(\"b is greater than a\")\n",
    "    \n",
    "elif a==b:\n",
    "    print(\"a and b are equal\")\n",
    "    \n",
    "else:\n",
    "    print(\"a is greater than b\")"
   ]
  },
  {
   "cell_type": "raw",
   "id": "535808ed",
   "metadata": {},
   "source": [
    "In this example a is greater than b, so the first condition is not true, also the elif condition is not true, so we go to the else condition and print to screen that \"a is greater than b\"."
   ]
  },
  {
   "cell_type": "raw",
   "id": "eb864315",
   "metadata": {},
   "source": [
    "You can also have an else without the elif:"
   ]
  },
  {
   "cell_type": "code",
   "execution_count": 8,
   "id": "6d1a376b",
   "metadata": {},
   "outputs": [
    {
     "name": "stdout",
     "output_type": "stream",
     "text": [
      "b is not greater than a\n"
     ]
    }
   ],
   "source": [
    "a = 200\n",
    "b = 33\n",
    "if b > a:\n",
    "    print(\"b is greater than a\")\n",
    "else:\n",
    "    print(\"b is not greater than a\")"
   ]
  },
  {
   "cell_type": "markdown",
   "id": "650b3ab9",
   "metadata": {},
   "source": [
    "### Short Hand If\n",
    "If you have only one statement to execute, you can put it on the same line as the if statement."
   ]
  },
  {
   "cell_type": "code",
   "execution_count": 10,
   "id": "c584ed6c",
   "metadata": {},
   "outputs": [
    {
     "name": "stdout",
     "output_type": "stream",
     "text": [
      " a is greater then b\n"
     ]
    }
   ],
   "source": [
    "if a > b: print(\" a is greater then b\")"
   ]
  },
  {
   "cell_type": "markdown",
   "id": "7bd260c3",
   "metadata": {},
   "source": [
    "### Short Hand If ... Else\n",
    "If you have only one statement to execute, one for if, and one for else, you can put it all on the same line:"
   ]
  },
  {
   "cell_type": "code",
   "execution_count": 11,
   "id": "4aa8019f",
   "metadata": {},
   "outputs": [
    {
     "name": "stdout",
     "output_type": "stream",
     "text": [
      "B\n"
     ]
    }
   ],
   "source": [
    "a= 2 \n",
    "b= 330 \n",
    "print(\"A\") if a>b else print(\"B\")"
   ]
  },
  {
   "cell_type": "raw",
   "id": "82dabd2d",
   "metadata": {},
   "source": [
    "This technique is known as Ternary Operators, or Conditional Expressions."
   ]
  },
  {
   "cell_type": "code",
   "execution_count": null,
   "id": "acc6c73c",
   "metadata": {},
   "outputs": [],
   "source": [
    "You can also have multiple else statements on the same line:"
   ]
  },
  {
   "cell_type": "code",
   "execution_count": 14,
   "id": "e65929aa",
   "metadata": {},
   "outputs": [
    {
     "name": "stdout",
     "output_type": "stream",
     "text": [
      "=\n"
     ]
    }
   ],
   "source": [
    "# One line if else statement, with 3 conditions:\n",
    "\n",
    "a = 330\n",
    "b = 330\n",
    "print(\"A\") if a > b else print(\"=\") if a == b else print(\"B\")"
   ]
  },
  {
   "cell_type": "markdown",
   "id": "0f6287ab",
   "metadata": {},
   "source": [
    "### And:\n",
    "\n",
    "The and keyword is a logical operator, and is used to combine conditional statements:"
   ]
  },
  {
   "cell_type": "code",
   "execution_count": 15,
   "id": "f69de2ec",
   "metadata": {},
   "outputs": [
    {
     "name": "stdout",
     "output_type": "stream",
     "text": [
      "Both conditions are true\n"
     ]
    }
   ],
   "source": [
    "# Test if a is greater than b, AND if c is greater than a:\n",
    "a= 200\n",
    "b= 33\n",
    "c= 500\n",
    "\n",
    "if a>b and c>a:\n",
    "    print(\"Both conditions are true\")"
   ]
  },
  {
   "cell_type": "markdown",
   "id": "ca0fc90c",
   "metadata": {},
   "source": [
    "### Or\n",
    "The or keyword is a logical operator, and is used to combine conditional statements:"
   ]
  },
  {
   "cell_type": "code",
   "execution_count": 16,
   "id": "d11532b7",
   "metadata": {},
   "outputs": [
    {
     "name": "stdout",
     "output_type": "stream",
     "text": [
      "At least one of the conditions is True\n"
     ]
    }
   ],
   "source": [
    "# Example\n",
    "# Test if a is greater than b, OR if a is greater than c:\n",
    "\n",
    "a= 200\n",
    "b= 33\n",
    "c= 500\n",
    "\n",
    "if a>b or a >c :\n",
    "    print(\"At least one of the conditions is True\")"
   ]
  },
  {
   "cell_type": "markdown",
   "id": "f1842427",
   "metadata": {},
   "source": [
    "### Nested If:\n",
    "\n",
    "You can have if statements inside if statements, this is called nested if statements."
   ]
  },
  {
   "cell_type": "code",
   "execution_count": 19,
   "id": "15806fe8",
   "metadata": {},
   "outputs": [
    {
     "name": "stdout",
     "output_type": "stream",
     "text": [
      "Above ten,\n",
      "yeyyy and also above Twenty !!!!!\n"
     ]
    }
   ],
   "source": [
    "x= 49\n",
    "\n",
    "if x>10:\n",
    "    print(\"Above ten,\")\n",
    "    \n",
    "    if x>20:\n",
    "        print('yeyyy and also above Twenty !!!!!')\n",
    "        \n",
    "    else:\n",
    "        print(\"But not above 20 \")"
   ]
  },
  {
   "cell_type": "markdown",
   "id": "72123d45",
   "metadata": {},
   "source": [
    "### The pass Statement\n",
    "if statements cannot be empty, but if you for some reason have an if statement with no content, put in the pass statement to avoid getting an error."
   ]
  },
  {
   "cell_type": "code",
   "execution_count": 20,
   "id": "19312ec1",
   "metadata": {},
   "outputs": [],
   "source": [
    "a= 33\n",
    "b=200\n",
    "\n",
    "if b >a:\n",
    "    pass "
   ]
  },
  {
   "cell_type": "markdown",
   "id": "860948f8",
   "metadata": {},
   "source": [
    "# <center> Python While Loops"
   ]
  },
  {
   "cell_type": "markdown",
   "id": "6bff0a01",
   "metadata": {},
   "source": [
    "#### Python Loops\n",
    "#### Python has two primitive loop commands:\n",
    "\n",
    "1. while loops\n",
    "2. for loops"
   ]
  },
  {
   "cell_type": "markdown",
   "id": "86c95861",
   "metadata": {},
   "source": [
    "## The while Loop\n",
    "With the while loop we can execute a set of statements as long as a condition is true."
   ]
  },
  {
   "cell_type": "code",
   "execution_count": 23,
   "id": "ebcb4bc2",
   "metadata": {},
   "outputs": [
    {
     "name": "stdout",
     "output_type": "stream",
     "text": [
      "1\n",
      "2\n",
      "3\n",
      "4\n",
      "5\n"
     ]
    }
   ],
   "source": [
    "# Print i as long as i is less than 6:\n",
    "\n",
    "i = 1\n",
    "while i < 6:\n",
    "    print(i)\n",
    "    i += 1"
   ]
  },
  {
   "cell_type": "raw",
   "id": "839ecae3",
   "metadata": {},
   "source": [
    "The while loop requires relevant variables to be ready, in this example we need to define an indexing variable, i, which we set to 1.\n"
   ]
  },
  {
   "cell_type": "markdown",
   "id": "384571e2",
   "metadata": {},
   "source": [
    "### The break Statement\n",
    "With the break statement we can stop the loop even if the while condition is true:"
   ]
  },
  {
   "cell_type": "code",
   "execution_count": 25,
   "id": "52816a84",
   "metadata": {},
   "outputs": [
    {
     "name": "stdout",
     "output_type": "stream",
     "text": [
      "1\n",
      "2\n",
      "3\n"
     ]
    }
   ],
   "source": [
    "i = 1 \n",
    "while i < 6:\n",
    "    print(i)\n",
    "    \n",
    "    if i ==3:\n",
    "        break\n",
    "    i +=1"
   ]
  },
  {
   "cell_type": "markdown",
   "id": "17e89509",
   "metadata": {},
   "source": [
    "### The continue Statement\n",
    "With the continue statement we can stop the current iteration, and continue with the next:"
   ]
  },
  {
   "cell_type": "code",
   "execution_count": 29,
   "id": "2d3e549e",
   "metadata": {},
   "outputs": [
    {
     "name": "stdout",
     "output_type": "stream",
     "text": [
      "1\n",
      "2\n",
      "4\n",
      "5\n",
      "6\n"
     ]
    }
   ],
   "source": [
    "i = 0 \n",
    "    \n",
    "while i < 6:\n",
    "    i += 1 \n",
    "    \n",
    "    if i ==3:\n",
    "        continue\n",
    "    print(i)"
   ]
  },
  {
   "cell_type": "markdown",
   "id": "8de41e9e",
   "metadata": {},
   "source": [
    "### The else Statement\n",
    "With the else statement we can run a block of code once when the condition no longer is true:"
   ]
  },
  {
   "cell_type": "code",
   "execution_count": 32,
   "id": "b47c7cc8",
   "metadata": {},
   "outputs": [
    {
     "name": "stdout",
     "output_type": "stream",
     "text": [
      "1\n",
      "2\n",
      "3\n",
      "4\n",
      "5\n",
      "i is no longer less than 6\n"
     ]
    }
   ],
   "source": [
    "i= 1 \n",
    "\n",
    "while i <6 :\n",
    "    print(i)\n",
    "    i += 1 \n",
    "    \n",
    "else:\n",
    "    print(\"i is no longer less than 6\")"
   ]
  },
  {
   "cell_type": "markdown",
   "id": "65d3aaa0",
   "metadata": {},
   "source": [
    "# <CENTER> <FONT COLOR = RED> Python For Loops"
   ]
  },
  {
   "cell_type": "markdown",
   "id": "d79567cb",
   "metadata": {},
   "source": [
    "### Python For Loops:\n",
    "\n",
    "* A for loop is used for iterating over a sequence (that is either a list, a tuple, a dictionary, a set, or a string).\n",
    "\n",
    "* This is less like the for keyword in other programming languages, and works more like an iterator method as found in other object-orientated programming languages.\n",
    "\n",
    "* With the for loop we can execute a set of statements, once for each item in a list, tuple, set etc"
   ]
  },
  {
   "cell_type": "code",
   "execution_count": 35,
   "id": "1ea0dc0e",
   "metadata": {},
   "outputs": [
    {
     "name": "stdout",
     "output_type": "stream",
     "text": [
      "apple\n",
      "banana\n",
      "cherry\n",
      "Mango\n",
      "Kiwi\n"
     ]
    }
   ],
   "source": [
    "# Example:\n",
    "    \n",
    "# Print the each fruit in fruit list:\n",
    "\n",
    "fruits = [\"apple\", \"banana\", \"cherry\",\"Mango\",\"Kiwi\"]\n",
    "\n",
    "for item in fruits:\n",
    "    print(item)"
   ]
  },
  {
   "cell_type": "raw",
   "id": "fe9d3894",
   "metadata": {},
   "source": [
    "The for loop does not require an indexing variable to set beforehand."
   ]
  },
  {
   "cell_type": "markdown",
   "id": "dfc6f7bc",
   "metadata": {},
   "source": [
    "### Looping Through a String\n",
    "Even strings are iterable objects, they contain a sequence of characters:"
   ]
  },
  {
   "cell_type": "markdown",
   "id": "46077fc0",
   "metadata": {},
   "source": [
    "### Example:\n",
    "\n",
    "* Loop through the letters in the word \"banana\":"
   ]
  },
  {
   "cell_type": "code",
   "execution_count": 39,
   "id": "463fadac",
   "metadata": {},
   "outputs": [
    {
     "name": "stdout",
     "output_type": "stream",
     "text": [
      "M\n",
      "a\n",
      "n\n",
      "g\n",
      "o\n"
     ]
    }
   ],
   "source": [
    "for x in \"Mango\":\n",
    "    print(x)"
   ]
  },
  {
   "cell_type": "markdown",
   "id": "df3894cc",
   "metadata": {},
   "source": [
    "### The break Statement:\n",
    "\n",
    "* With the break statement we can stop the loop before it has looped through all the items:"
   ]
  },
  {
   "cell_type": "raw",
   "id": "70f114ac",
   "metadata": {},
   "source": [
    "Exit the loop when x is \"banana\":"
   ]
  },
  {
   "cell_type": "code",
   "execution_count": 43,
   "id": "e3a1b045",
   "metadata": {},
   "outputs": [
    {
     "name": "stdout",
     "output_type": "stream",
     "text": [
      "apple\n",
      "banana\n",
      "cherry\n"
     ]
    }
   ],
   "source": [
    "fruits = [\"apple\", \"banana\", \"cherry\",\"Mango\",\"Kiwi\"]\n",
    "\n",
    "for x in fruits:\n",
    "    print(x)\n",
    "    \n",
    "    if x== \"cherry\":\n",
    "        break"
   ]
  },
  {
   "cell_type": "markdown",
   "id": "ac84eadf",
   "metadata": {},
   "source": [
    "### Example:\n",
    "\n",
    "* Exit the loop when x is \"banana\", but this time the break comes before the print:"
   ]
  },
  {
   "cell_type": "markdown",
   "id": "11fc381e",
   "metadata": {},
   "source": [
    "### The continue Statement\n",
    "* With the continue statement we can stop the current iteration of the loop, and continue with the next:"
   ]
  },
  {
   "cell_type": "code",
   "execution_count": null,
   "id": "5880abd1",
   "metadata": {},
   "outputs": [],
   "source": [
    "## Example\n",
    "## Do not print banana:"
   ]
  },
  {
   "cell_type": "code",
   "execution_count": 44,
   "id": "8a044293",
   "metadata": {},
   "outputs": [
    {
     "name": "stdout",
     "output_type": "stream",
     "text": [
      "apple\n",
      "banana\n",
      "Mango\n",
      "Kiwi\n"
     ]
    }
   ],
   "source": [
    "fruits = [\"apple\", \"banana\", \"cherry\",\"Mango\",\"Kiwi\"]\n",
    "\n",
    "for x in fruits:\n",
    "    \n",
    "    if x== \"cherry\":\n",
    "        continue\n",
    "        \n",
    "    print(x)"
   ]
  },
  {
   "cell_type": "markdown",
   "id": "69fa77f9",
   "metadata": {},
   "source": [
    "### The range() Function:\n",
    "\n",
    "* To loop through a set of code a specified number of times, we can use the range() function,\n",
    "* The range() function returns a sequence of numbers, starting from 0 by default, and increments by 1 (by default), and ends at a specified number."
   ]
  },
  {
   "cell_type": "code",
   "execution_count": 47,
   "id": "7a35f81f",
   "metadata": {},
   "outputs": [
    {
     "name": "stdout",
     "output_type": "stream",
     "text": [
      "0\n",
      "1\n",
      "2\n",
      "3\n",
      "4\n",
      "5\n"
     ]
    }
   ],
   "source": [
    "# Example using range funvtion:\n",
    "\n",
    "for x in range(0,6):\n",
    "    print(x)"
   ]
  },
  {
   "cell_type": "raw",
   "id": "93fc9de7",
   "metadata": {},
   "source": [
    "Note that range(6) is not the values of 0 to 6, but the values 0 to 5.\n",
    "\n",
    "The range() function defaults to 0 as a starting value, however it is possible to specify the starting value by adding a parameter: range(2, 6), which means values from 2 to 6 (but not including 6):"
   ]
  },
  {
   "cell_type": "code",
   "execution_count": 48,
   "id": "7305a0e5",
   "metadata": {},
   "outputs": [
    {
     "name": "stdout",
     "output_type": "stream",
     "text": [
      "2\n",
      "3\n",
      "4\n",
      "5\n"
     ]
    }
   ],
   "source": [
    "# Using the start parameter:\n",
    "\n",
    "for x in range(2, 6):\n",
    "    print(x)"
   ]
  },
  {
   "cell_type": "raw",
   "id": "e677fd52",
   "metadata": {},
   "source": [
    "The range() function defaults to increment the sequence by 1, however it is possible to specify the increment value by adding a third parameter: range(2, 30, 3):"
   ]
  },
  {
   "cell_type": "raw",
   "id": "d9966a58",
   "metadata": {},
   "source": [
    "Increment the sequence with 3 (default is 1):"
   ]
  },
  {
   "cell_type": "code",
   "execution_count": 49,
   "id": "d36e57a0",
   "metadata": {},
   "outputs": [
    {
     "name": "stdout",
     "output_type": "stream",
     "text": [
      "1\n",
      "3\n",
      "5\n",
      "7\n",
      "9\n",
      "11\n",
      "13\n",
      "15\n",
      "17\n",
      "19\n"
     ]
    }
   ],
   "source": [
    "for x in range(1,20,2):\n",
    "    print(x)"
   ]
  },
  {
   "cell_type": "markdown",
   "id": "a01a7b18",
   "metadata": {},
   "source": [
    "### Else in For Loop:\n",
    "\n",
    "The else keyword in a for loop specifies a block of code to be executed when the loop is finished:"
   ]
  },
  {
   "cell_type": "raw",
   "id": "ba321191",
   "metadata": {},
   "source": [
    "Print all numbers from 0 to 5, and print a message when the loop has ended:"
   ]
  },
  {
   "cell_type": "code",
   "execution_count": 50,
   "id": "575c10b1",
   "metadata": {},
   "outputs": [
    {
     "name": "stdout",
     "output_type": "stream",
     "text": [
      "0\n",
      "1\n",
      "2\n",
      "3\n",
      "4\n",
      "5\n",
      "Finally Finished\n"
     ]
    }
   ],
   "source": [
    "for x in range(6):\n",
    "    print(x)\n",
    "else:\n",
    "    print(\"Finally Finished\")"
   ]
  },
  {
   "cell_type": "raw",
   "id": "93113506",
   "metadata": {},
   "source": [
    "Note: The else block will NOT be executed if the loop is stopped by a break statement."
   ]
  },
  {
   "cell_type": "code",
   "execution_count": null,
   "id": "d647556b",
   "metadata": {},
   "outputs": [],
   "source": [
    "### Example\n",
    "Break the loop when x is 3, and see what happens with the else block:"
   ]
  },
  {
   "cell_type": "code",
   "execution_count": 54,
   "id": "a53481d9",
   "metadata": {},
   "outputs": [
    {
     "name": "stdout",
     "output_type": "stream",
     "text": [
      "0\n",
      "1\n",
      "2\n"
     ]
    }
   ],
   "source": [
    "for x in range(6):\n",
    "    \n",
    "    if x== 3: break \n",
    "    print(x)\n",
    "else:\n",
    "    print(\"Finally Finished\")"
   ]
  },
  {
   "cell_type": "markdown",
   "id": "1677b9c1",
   "metadata": {},
   "source": [
    "### Nested Loops\n",
    "* A nested loop is a loop inside a loop.\n",
    "\n",
    "* The \"inner loop\" will be executed one time for each iteration of the \"outer loop\":"
   ]
  },
  {
   "cell_type": "code",
   "execution_count": 57,
   "id": "6bf082f5",
   "metadata": {},
   "outputs": [
    {
     "name": "stdout",
     "output_type": "stream",
     "text": [
      "red apple\n",
      "red banana\n",
      "red cherry\n",
      "big apple\n",
      "big banana\n",
      "big cherry\n",
      "tasty apple\n",
      "tasty banana\n",
      "tasty cherry\n"
     ]
    }
   ],
   "source": [
    "# Print each adjective for every fruit:\n",
    "\n",
    "adj = [\"red\", \"big\", \"tasty\"]\n",
    "\n",
    "fruits = [\"apple\", \"banana\", \"cherry\"]\n",
    "\n",
    "for x in adj:\n",
    "    for y in fruits:\n",
    "        print(x,y)"
   ]
  },
  {
   "cell_type": "markdown",
   "id": "91369357",
   "metadata": {},
   "source": [
    "### The pass Statement\n",
    "for loops cannot be empty, but if you for some reason have a for loop with no content, put in the pass statement to avoid getting an error."
   ]
  },
  {
   "cell_type": "code",
   "execution_count": 58,
   "id": "13eb0be3",
   "metadata": {},
   "outputs": [],
   "source": [
    "for x in [0, 1, 2]:\n",
    "    pass"
   ]
  },
  {
   "cell_type": "code",
   "execution_count": null,
   "id": "1b05199a",
   "metadata": {},
   "outputs": [],
   "source": []
  }
 ],
 "metadata": {
  "kernelspec": {
   "display_name": "Python 3 (ipykernel)",
   "language": "python",
   "name": "python3"
  },
  "language_info": {
   "codemirror_mode": {
    "name": "ipython",
    "version": 3
   },
   "file_extension": ".py",
   "mimetype": "text/x-python",
   "name": "python",
   "nbconvert_exporter": "python",
   "pygments_lexer": "ipython3",
   "version": "3.8.12"
  }
 },
 "nbformat": 4,
 "nbformat_minor": 5
}
