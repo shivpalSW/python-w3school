{
 "cells": [
  {
   "cell_type": "markdown",
   "id": "26448072",
   "metadata": {},
   "source": [
    "# <center> 15. Python Arrays"
   ]
  },
  {
   "cell_type": "raw",
   "id": "5a7765fd",
   "metadata": {},
   "source": [
    "Note:\n",
    "Python does not have built-in support for Arrays, but Python Lists can be used instead."
   ]
  },
  {
   "cell_type": "raw",
   "id": "ef19f082",
   "metadata": {},
   "source": [
    "Arrays\n",
    "Note: This page shows you how to use LISTS as ARRAYS, however, to work with arrays in Python you will have to import a library, like the NumPy library."
   ]
  },
  {
   "cell_type": "code",
   "execution_count": null,
   "id": "c87bc26e",
   "metadata": {},
   "outputs": [],
   "source": [
    "cars= [\"Ford\",\"Volvo\",\"BMW\"]\n"
   ]
  },
  {
   "cell_type": "raw",
   "id": "5d54c568",
   "metadata": {},
   "source": [
    "What is an Array?\n",
    "An array is a special variable, which can hold more than one value at a time.\n",
    "\n",
    "If you have a list of items (a list of car names, for example), storing the cars in single variables could look like this:\n",
    "\n",
    "car1 = \"Ford\"\n",
    "car2 = \"Volvo\"\n",
    "car3 = \"BMW\"\n",
    "However, what if you want to loop through the cars and find a specific one? And what if you had not 3 cars, but 300?\n",
    "\n",
    "The solution is an array!\n",
    "\n",
    "An array can hold many values under a single name, and you can access the values by referring to an index number."
   ]
  },
  {
   "cell_type": "markdown",
   "id": "6d100282",
   "metadata": {},
   "source": [
    "### Access the Elements of an Array\n",
    "You refer to an array element by referring to the index number."
   ]
  },
  {
   "cell_type": "code",
   "execution_count": 1,
   "id": "9e152f9a",
   "metadata": {},
   "outputs": [
    {
     "name": "stdout",
     "output_type": "stream",
     "text": [
      "Ford\n"
     ]
    }
   ],
   "source": [
    "cars= [\"Ford\",\"Volvo\",\"BMW\"]\n",
    "\n",
    "x= cars[0]\n",
    "print(x)"
   ]
  },
  {
   "cell_type": "code",
   "execution_count": 5,
   "id": "8457e932",
   "metadata": {},
   "outputs": [
    {
     "name": "stdout",
     "output_type": "stream",
     "text": [
      "['Tata Motors', 'Volvo', 'BMW']\n"
     ]
    }
   ],
   "source": [
    "# Modify the values of the first array item:\n",
    "    \n",
    "cars[0]=\"Tata Motors\"\n",
    "\n",
    "print(cars)"
   ]
  },
  {
   "cell_type": "markdown",
   "id": "467ab890",
   "metadata": {},
   "source": [
    "### The Length of an Array\n",
    "Use the len() method to return the length of an array (the number of elements in an array)."
   ]
  },
  {
   "cell_type": "code",
   "execution_count": 6,
   "id": "d6dba725",
   "metadata": {},
   "outputs": [
    {
     "name": "stdout",
     "output_type": "stream",
     "text": [
      "3\n"
     ]
    }
   ],
   "source": [
    "x= len(cars)\n",
    "print(x)"
   ]
  },
  {
   "cell_type": "raw",
   "id": "b79ca2d1",
   "metadata": {},
   "source": [
    "Note:\n",
    "    The length of an array is always one or more than the highest array index>\n",
    "    "
   ]
  },
  {
   "cell_type": "markdown",
   "id": "fe91ab9f",
   "metadata": {},
   "source": [
    "### Looping Array Elements\n",
    "You can use the for in loop to loop through all the elements of an array."
   ]
  },
  {
   "cell_type": "code",
   "execution_count": 17,
   "id": "aab65416",
   "metadata": {},
   "outputs": [
    {
     "name": "stdout",
     "output_type": "stream",
     "text": [
      "Tata Motors\n",
      "Volvo Motors\n",
      "BMWR Motors\n"
     ]
    }
   ],
   "source": [
    "cars = ['Tata Motors', 'Volvo Motors', 'BMWR Motors']\n",
    "\n",
    "for i in cars:\n",
    "    print(i)"
   ]
  },
  {
   "cell_type": "code",
   "execution_count": 19,
   "id": "98fc7e18",
   "metadata": {},
   "outputs": [
    {
     "name": "stdout",
     "output_type": "stream",
     "text": [
      "T\n",
      "V\n",
      "B\n"
     ]
    }
   ],
   "source": [
    "cars = ['Tata Motors', 'Volvo Motors', 'BMWR Motors']\n",
    "\n",
    "for i in cars:\n",
    "    print(i[0])"
   ]
  },
  {
   "cell_type": "code",
   "execution_count": 18,
   "id": "9edc5d14",
   "metadata": {},
   "outputs": [
    {
     "name": "stdout",
     "output_type": "stream",
     "text": [
      "a\n",
      "v\n",
      "R\n"
     ]
    }
   ],
   "source": [
    "cars = ['Tata Motors', 'Volvo Motors', 'BMWR Motors']\n",
    "\n",
    "for i in cars:\n",
    "    print(i[3])"
   ]
  },
  {
   "cell_type": "markdown",
   "id": "287e6494",
   "metadata": {},
   "source": [
    "### Adding Array Elements\n",
    "You can use the append() method to add an element to an array."
   ]
  },
  {
   "cell_type": "code",
   "execution_count": 22,
   "id": "44b3c6e8",
   "metadata": {},
   "outputs": [
    {
     "name": "stdout",
     "output_type": "stream",
     "text": [
      "['Tata Motors', 'Volvo Motors', 'BMWR Motors', 'Hyundai Motors']\n"
     ]
    }
   ],
   "source": [
    "cars = ['Tata Motors', 'Volvo Motors', 'BMWR Motors']\n",
    "\n",
    "cars.append('Hyundai Motors')\n",
    "print(cars)"
   ]
  },
  {
   "cell_type": "markdown",
   "id": "5b6f7e3f",
   "metadata": {},
   "source": [
    "### Removing Array Elements\n",
    "You can use the pop() method to remove an element from the array."
   ]
  },
  {
   "cell_type": "raw",
   "id": "66ac938b",
   "metadata": {},
   "source": [
    "You can use the pop() method to remove an element from the array"
   ]
  },
  {
   "cell_type": "code",
   "execution_count": 23,
   "id": "0c6929a5",
   "metadata": {},
   "outputs": [
    {
     "name": "stdout",
     "output_type": "stream",
     "text": [
      "['Tata Motors', 'BMWR Motors', 'Hyundai Motors']\n"
     ]
    }
   ],
   "source": [
    "cars.pop(1)\n",
    "print(cars)"
   ]
  },
  {
   "cell_type": "raw",
   "id": "8d5a4aef",
   "metadata": {},
   "source": [
    "You can also use the remove() method to remove an element from the array."
   ]
  },
  {
   "cell_type": "code",
   "execution_count": 25,
   "id": "24e501a2",
   "metadata": {},
   "outputs": [
    {
     "name": "stdout",
     "output_type": "stream",
     "text": [
      "['Tata Motors', 'BMWR Motors']\n"
     ]
    }
   ],
   "source": [
    "cars = ['Tata Motors', 'Volvo Motors', 'BMWR Motors']\n",
    "cars.remove(\"Volvo Motors\")\n",
    "print(cars)"
   ]
  },
  {
   "cell_type": "raw",
   "id": "c40d0163",
   "metadata": {},
   "source": [
    "Note: \n",
    "The list's remove() method only removes the first occurrence of the specified value."
   ]
  },
  {
   "cell_type": "raw",
   "id": "83514b49",
   "metadata": {},
   "source": [
    "Note: \n",
    "Python does not have built-in support for Arrays, but Python Lists can be used instead."
   ]
  },
  {
   "cell_type": "markdown",
   "id": "9133a2b6",
   "metadata": {},
   "source": [
    "## Array Methods:"
   ]
  },
  {
   "cell_type": "markdown",
   "id": "20ffe4be",
   "metadata": {},
   "source": [
    "### 1.List append() Method"
   ]
  },
  {
   "cell_type": "raw",
   "id": "19b1c0f9",
   "metadata": {},
   "source": [
    "Definition and Usage\n",
    "The append() method appends an element to the end of the list.\n",
    "\n"
   ]
  },
  {
   "cell_type": "code",
   "execution_count": 26,
   "id": "fecb6ae3",
   "metadata": {},
   "outputs": [
    {
     "name": "stdout",
     "output_type": "stream",
     "text": [
      "['apple', 'banana', 'cherry', 'Mango']\n"
     ]
    }
   ],
   "source": [
    "fruits = ['apple', 'banana', 'cherry']\n",
    "\n",
    "fruits.append(\"Mango\")\n",
    "print(fruits)"
   ]
  },
  {
   "cell_type": "code",
   "execution_count": 27,
   "id": "07a40e82",
   "metadata": {},
   "outputs": [
    {
     "name": "stdout",
     "output_type": "stream",
     "text": [
      "['apple', 'banana', 'cherry', ['Ford', 'BMW', 'Volvo']]\n"
     ]
    }
   ],
   "source": [
    "a = [\"apple\", \"banana\", \"cherry\"]\n",
    "b = [\"Ford\", \"BMW\", \"Volvo\"]\n",
    "\n",
    "a.append(b)\n",
    "\n",
    "print(a)"
   ]
  },
  {
   "cell_type": "markdown",
   "id": "c931f000",
   "metadata": {},
   "source": [
    "### 2.List clear() Method"
   ]
  },
  {
   "cell_type": "raw",
   "id": "89cee79c",
   "metadata": {},
   "source": [
    "Definition and Usage\n",
    "The clear() method removes all the elements from a list."
   ]
  },
  {
   "cell_type": "code",
   "execution_count": 28,
   "id": "27f278e6",
   "metadata": {},
   "outputs": [],
   "source": [
    "fruits = ['apple', 'banana', 'cherry', 'orange']\n",
    "\n",
    "fruits.clear()"
   ]
  },
  {
   "cell_type": "code",
   "execution_count": 29,
   "id": "933e47c9",
   "metadata": {},
   "outputs": [
    {
     "name": "stdout",
     "output_type": "stream",
     "text": [
      "[]\n"
     ]
    }
   ],
   "source": [
    "print(fruits)"
   ]
  },
  {
   "cell_type": "markdown",
   "id": "93efb01e",
   "metadata": {},
   "source": [
    "### 3.  List copy() Method"
   ]
  },
  {
   "cell_type": "raw",
   "id": "6c4c572c",
   "metadata": {},
   "source": [
    "Definition and Usage\n",
    "The copy() method returns a copy of the specified list."
   ]
  },
  {
   "cell_type": "code",
   "execution_count": 30,
   "id": "72eb6e8a",
   "metadata": {},
   "outputs": [
    {
     "name": "stdout",
     "output_type": "stream",
     "text": [
      "['apple', 'banana', 'cherry', 'orange']\n"
     ]
    }
   ],
   "source": [
    "fruits = ['apple', 'banana', 'cherry', 'orange']\n",
    "\n",
    "x= fruits.copy()\n",
    "print(x)"
   ]
  },
  {
   "cell_type": "markdown",
   "id": "39e91ce0",
   "metadata": {},
   "source": [
    "### 4.List count() Method"
   ]
  },
  {
   "cell_type": "raw",
   "id": "4f1512de",
   "metadata": {},
   "source": [
    "Definition and Usage\n",
    "The count() method returns the number of elements with the specified value."
   ]
  },
  {
   "cell_type": "raw",
   "id": "61bc1c2c",
   "metadata": {},
   "source": [
    "Definition and Usage\n",
    "The count() method returns the number of elements with the specified value.\n",
    "\n"
   ]
  },
  {
   "cell_type": "code",
   "execution_count": 32,
   "id": "5db08bed",
   "metadata": {},
   "outputs": [
    {
     "name": "stdout",
     "output_type": "stream",
     "text": [
      "2\n"
     ]
    }
   ],
   "source": [
    "fruits = ['apple', 'banana', 'cherry',\"apple\"]\n",
    "\n",
    "x= fruits.count(\"apple\")\n",
    "print(x)"
   ]
  },
  {
   "cell_type": "code",
   "execution_count": 34,
   "id": "0c486c71",
   "metadata": {},
   "outputs": [
    {
     "name": "stdout",
     "output_type": "stream",
     "text": [
      "2\n"
     ]
    }
   ],
   "source": [
    "points = [1, 4, 2, 9, 7, 8, 9, 3, 1]\n",
    "\n",
    "x= points.count(1)\n",
    "print(x)"
   ]
  },
  {
   "cell_type": "markdown",
   "id": "5e729eb9",
   "metadata": {},
   "source": [
    "### 5.List extend() Method"
   ]
  },
  {
   "cell_type": "raw",
   "id": "0372b933",
   "metadata": {},
   "source": [
    "Definition and Usage\n",
    "The extend() method adds the specified list elements (or any iterable) to the end of the current list."
   ]
  },
  {
   "cell_type": "code",
   "execution_count": 36,
   "id": "c262af25",
   "metadata": {},
   "outputs": [
    {
     "name": "stdout",
     "output_type": "stream",
     "text": [
      "['apple', 'banana', 'cherry', 'Ford', 'BMW', 'Volvo']\n"
     ]
    }
   ],
   "source": [
    "fruits = ['apple', 'banana', 'cherry']\n",
    "\n",
    "cars = ['Ford', 'BMW', 'Volvo']\n",
    "\n",
    "fruits.extend(cars)\n",
    "print(fruits)"
   ]
  },
  {
   "cell_type": "code",
   "execution_count": 37,
   "id": "7bf24aaa",
   "metadata": {},
   "outputs": [
    {
     "name": "stdout",
     "output_type": "stream",
     "text": [
      "['apple', 'banana', 'cherry', 1, 4, 5, 9]\n"
     ]
    }
   ],
   "source": [
    "fruits = ['apple', 'banana', 'cherry']\n",
    "\n",
    "points = (1, 4, 5, 9)\n",
    "\n",
    "fruits.extend(points)\n",
    "print(fruits)"
   ]
  },
  {
   "cell_type": "markdown",
   "id": "65a88115",
   "metadata": {},
   "source": [
    "### 6. List index() Method"
   ]
  },
  {
   "cell_type": "raw",
   "id": "9e9e464d",
   "metadata": {},
   "source": [
    "Definition and Usage\n",
    "The index() method returns the position at the first occurrence of the specified value."
   ]
  },
  {
   "cell_type": "code",
   "execution_count": 38,
   "id": "579313e4",
   "metadata": {},
   "outputs": [
    {
     "name": "stdout",
     "output_type": "stream",
     "text": [
      "2\n"
     ]
    }
   ],
   "source": [
    "fruits = ['apple', 'banana', 'cherry']\n",
    "\n",
    "x = fruits.index(\"cherry\")\n",
    "print(x)"
   ]
  },
  {
   "cell_type": "code",
   "execution_count": 39,
   "id": "6aab462e",
   "metadata": {},
   "outputs": [
    {
     "name": "stdout",
     "output_type": "stream",
     "text": [
      "3\n"
     ]
    }
   ],
   "source": [
    "fruits = [4, 55, 64, 32, 16, 32]\n",
    "\n",
    "x = fruits.index(32)\n",
    "print(x)"
   ]
  },
  {
   "cell_type": "raw",
   "id": "9962ada6",
   "metadata": {},
   "source": [
    "Note: The index() method only returns the first occurrence of the value."
   ]
  },
  {
   "cell_type": "markdown",
   "id": "4321b038",
   "metadata": {},
   "source": [
    "### 7. List insert() Method"
   ]
  },
  {
   "cell_type": "raw",
   "id": "cac48d43",
   "metadata": {},
   "source": [
    "Definition and Usage\n",
    "The insert() method inserts the specified value at the specified position."
   ]
  },
  {
   "cell_type": "code",
   "execution_count": 40,
   "id": "e468ec3c",
   "metadata": {},
   "outputs": [
    {
     "name": "stdout",
     "output_type": "stream",
     "text": [
      "['Tata Motors', 'volkswagan', 'Volvo Motors', 'BMWR Motors', 'Hyundai Motors']\n"
     ]
    }
   ],
   "source": [
    "cars=['Tata Motors', 'Volvo Motors', 'BMWR Motors', 'Hyundai Motors']\n",
    "\n",
    "cars.insert(1,\"volkswagan\")\n",
    "print(cars)"
   ]
  },
  {
   "cell_type": "markdown",
   "id": "80bd16ae",
   "metadata": {},
   "source": [
    "### 8.List pop() Method"
   ]
  },
  {
   "cell_type": "raw",
   "id": "4deee258",
   "metadata": {},
   "source": [
    "Definition and Usage\n",
    "The pop() method removes the element at the specified position."
   ]
  },
  {
   "cell_type": "code",
   "execution_count": 43,
   "id": "be78d19f",
   "metadata": {},
   "outputs": [
    {
     "name": "stdout",
     "output_type": "stream",
     "text": [
      "Volvo Motors\n",
      "['Tata Motors', 'BMWR Motors', 'Hyundai Motors']\n"
     ]
    }
   ],
   "source": [
    "cars=['Tata Motors', 'Volvo Motors', 'BMWR Motors', 'Hyundai Motors']\n",
    "\n",
    "x=cars.pop(1) \n",
    "print(x)\n",
    "\n",
    "print(cars)"
   ]
  },
  {
   "cell_type": "raw",
   "id": "ee31c98a",
   "metadata": {},
   "source": [
    "Note:\n",
    "    The pop() method returns removed value."
   ]
  },
  {
   "cell_type": "markdown",
   "id": "93f6cd7b",
   "metadata": {},
   "source": [
    "### 9.List remove() Method"
   ]
  },
  {
   "cell_type": "raw",
   "id": "76fc55a3",
   "metadata": {},
   "source": [
    "Definition and Usage\n",
    "The remove() method removes the first occurrence of the element with the specified value."
   ]
  },
  {
   "cell_type": "code",
   "execution_count": 44,
   "id": "0857686c",
   "metadata": {},
   "outputs": [
    {
     "name": "stdout",
     "output_type": "stream",
     "text": [
      "['Tata Motors', 'BMWR Motors', 'Hyundai Motors']\n"
     ]
    }
   ],
   "source": [
    "cars=['Tata Motors', 'Volvo Motors', 'BMWR Motors', 'Hyundai Motors']\n",
    "\n",
    "cars.remove(\"Volvo Motors\")\n",
    "\n",
    "print(cars)"
   ]
  },
  {
   "cell_type": "markdown",
   "id": "b89ca598",
   "metadata": {},
   "source": [
    "### 10. List reverse() Method"
   ]
  },
  {
   "cell_type": "raw",
   "id": "bad17621",
   "metadata": {},
   "source": [
    "Definition and Usage\n",
    "The reverse() method reverses the sorting order of the elements."
   ]
  },
  {
   "cell_type": "code",
   "execution_count": 46,
   "id": "b358c430",
   "metadata": {},
   "outputs": [
    {
     "name": "stdout",
     "output_type": "stream",
     "text": [
      "['Hyundai Motors', 'BMWR Motors', 'Volvo Motors', 'Tata Motors']\n"
     ]
    }
   ],
   "source": [
    "cars=['Tata Motors', 'Volvo Motors', 'BMWR Motors', 'Hyundai Motors']\n",
    "\n",
    "cars.reverse()\n",
    "print(cars)"
   ]
  },
  {
   "cell_type": "markdown",
   "id": "608cd953",
   "metadata": {},
   "source": [
    "### 11.reversed() Function"
   ]
  },
  {
   "cell_type": "raw",
   "id": "1787a723",
   "metadata": {},
   "source": [
    "Definition and Usage\n",
    "The reversed() function returns a reversed iterator object."
   ]
  },
  {
   "cell_type": "code",
   "execution_count": 47,
   "id": "9fecaab7",
   "metadata": {},
   "outputs": [
    {
     "name": "stdout",
     "output_type": "stream",
     "text": [
      "d\n",
      "c\n",
      "b\n",
      "a\n"
     ]
    }
   ],
   "source": [
    "alph = [\"a\", \"b\", \"c\", \"d\"]\n",
    "\n",
    "ralph= reversed(alph)\n",
    "\n",
    "\n",
    "for x in ralph:\n",
    "    print(x)"
   ]
  },
  {
   "cell_type": "markdown",
   "id": "425ca85a",
   "metadata": {},
   "source": [
    "### 12. List sort() Method"
   ]
  },
  {
   "cell_type": "raw",
   "id": "dbfc9ca4",
   "metadata": {},
   "source": [
    "Definition and Usage\n",
    "The sort() method sorts the list ascending by default.\n",
    "\n",
    "You can also make a function to decide the sorting criteria(s)."
   ]
  },
  {
   "cell_type": "code",
   "execution_count": 48,
   "id": "93b4f2e2",
   "metadata": {},
   "outputs": [
    {
     "name": "stdout",
     "output_type": "stream",
     "text": [
      "['BMWR Motors', 'Hyundai Motors', 'Tata Motors', 'Volvo Motors']\n"
     ]
    }
   ],
   "source": [
    "cars=['Tata Motors', 'Volvo Motors', 'BMWR Motors', 'Hyundai Motors']\n",
    "\n",
    "cars.sort()\n",
    "print(cars)"
   ]
  },
  {
   "cell_type": "code",
   "execution_count": 50,
   "id": "404705a7",
   "metadata": {},
   "outputs": [
    {
     "name": "stdout",
     "output_type": "stream",
     "text": [
      "['Volvo', 'Ford', 'BMW']\n"
     ]
    }
   ],
   "source": [
    "cars = ['Ford', 'BMW', 'Volvo']\n",
    "\n",
    "cars.sort(reverse=True)\n",
    "print(cars)"
   ]
  },
  {
   "cell_type": "markdown",
   "id": "f50b0783",
   "metadata": {},
   "source": [
    "### Parameter Values\n",
    "\n",
    "1. reverse\t= Optional. reverse=True will sort the list descending. Default is reverse=False\n",
    "\n",
    "2. key\t= Optional. A function to specify the sorting criteria(s)"
   ]
  },
  {
   "cell_type": "code",
   "execution_count": 51,
   "id": "a6c23b5e",
   "metadata": {},
   "outputs": [
    {
     "name": "stdout",
     "output_type": "stream",
     "text": [
      "['VW', 'BMW', 'Ford', 'Mitsubishi']\n"
     ]
    }
   ],
   "source": [
    "#Sort the list by the length of the values:\n",
    "# A function that returns the length of the value:\n",
    "\n",
    "def myfunc(e):\n",
    "    return len(e)\n",
    "\n",
    "cars = ['Ford', 'Mitsubishi', 'BMW', 'VW']\n",
    "\n",
    "cars.sort(key=myfunc)\n",
    "print(cars)"
   ]
  },
  {
   "cell_type": "code",
   "execution_count": 52,
   "id": "1c9135f1",
   "metadata": {},
   "outputs": [
    {
     "name": "stdout",
     "output_type": "stream",
     "text": [
      "[{'car': 'Mitsubishi', 'year': 2000}, {'car': 'Ford', 'year': 2005}, {'car': 'VW', 'year': 2011}, {'car': 'BMW', 'year': 2019}]\n"
     ]
    }
   ],
   "source": [
    "#### Sort a list of dictionaries based on the \"year\" value of the dictionaries:\n",
    "\n",
    "def myfunc(e):\n",
    "    return e[\"year\"]\n",
    "\n",
    "cars = [\n",
    "  {'car': 'Ford', 'year': 2005},\n",
    "  {'car': 'Mitsubishi', 'year': 2000},\n",
    "  {'car': 'BMW', 'year': 2019},\n",
    "  {'car': 'VW', 'year': 2011}\n",
    "]\n",
    "\n",
    "cars.sort(key=myfunc)\n",
    "\n",
    "print(cars)"
   ]
  },
  {
   "cell_type": "code",
   "execution_count": 53,
   "id": "63a24758",
   "metadata": {},
   "outputs": [
    {
     "name": "stdout",
     "output_type": "stream",
     "text": [
      "[{'car': 'BMW', 'year': 2019}, {'car': 'Ford', 'year': 2005}, {'car': 'Mitsubishi', 'year': 2000}, {'car': 'VW', 'year': 2011}]\n"
     ]
    }
   ],
   "source": [
    "def myfunc(e):\n",
    "    return e[\"car\"]\n",
    "\n",
    "cars = [\n",
    "  {'car': 'Ford', 'year': 2005},\n",
    "  {'car': 'Mitsubishi', 'year': 2000},\n",
    "  {'car': 'BMW', 'year': 2019},\n",
    "  {'car': 'VW', 'year': 2011}\n",
    "]\n",
    "\n",
    "cars.sort(key=myfunc)\n",
    "\n",
    "print(cars)"
   ]
  },
  {
   "cell_type": "code",
   "execution_count": 54,
   "id": "22dc14d8",
   "metadata": {},
   "outputs": [
    {
     "name": "stdout",
     "output_type": "stream",
     "text": [
      "['Mitsubishi', 'Ford', 'BMW', 'VW']\n"
     ]
    }
   ],
   "source": [
    "# Sort the list by the length of the values and reversed:\n",
    "\n",
    "def myfunc(e):\n",
    "    return len(e)\n",
    "\n",
    "cars = ['Ford', 'Mitsubishi', 'BMW', 'VW']\n",
    "\n",
    "cars.sort(reverse=True,key=myfunc)\n",
    "\n",
    "print(cars)"
   ]
  },
  {
   "cell_type": "code",
   "execution_count": null,
   "id": "6035dedb",
   "metadata": {},
   "outputs": [],
   "source": []
  }
 ],
 "metadata": {
  "kernelspec": {
   "display_name": "Python 3 (ipykernel)",
   "language": "python",
   "name": "python3"
  },
  "language_info": {
   "codemirror_mode": {
    "name": "ipython",
    "version": 3
   },
   "file_extension": ".py",
   "mimetype": "text/x-python",
   "name": "python",
   "nbconvert_exporter": "python",
   "pygments_lexer": "ipython3",
   "version": "3.8.12"
  }
 },
 "nbformat": 4,
 "nbformat_minor": 5
}
