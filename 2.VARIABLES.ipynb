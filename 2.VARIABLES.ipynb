{
 "cells": [
  {
   "cell_type": "markdown",
   "id": "a9e517e4",
   "metadata": {},
   "source": [
    "# 2.VARIABLES"
   ]
  },
  {
   "cell_type": "markdown",
   "id": "80760a12",
   "metadata": {},
   "source": [
    "https://www.w3schools.com/python/python_variables.asp"
   ]
  },
  {
   "cell_type": "code",
   "execution_count": 2,
   "id": "5e2bc585",
   "metadata": {},
   "outputs": [
    {
     "name": "stdout",
     "output_type": "stream",
     "text": [
      "5\n",
      "Ram\n"
     ]
    }
   ],
   "source": [
    "X= 5\n",
    "Y=\"Ram\"\n",
    "print(X)\n",
    "print(Y)"
   ]
  },
  {
   "cell_type": "markdown",
   "id": "65125208",
   "metadata": {},
   "source": [
    "### casting"
   ]
  },
  {
   "cell_type": "code",
   "execution_count": 3,
   "id": "d08cecdc",
   "metadata": {},
   "outputs": [
    {
     "name": "stdout",
     "output_type": "stream",
     "text": [
      "233\n",
      "133\n",
      "100.0\n"
     ]
    }
   ],
   "source": [
    "x= str(233)\n",
    "y= int(133.520)\n",
    "z= float(100)\n",
    "\n",
    "print(x)\n",
    "print(y)\n",
    "print(z)"
   ]
  },
  {
   "cell_type": "markdown",
   "id": "66dfe2f2",
   "metadata": {},
   "source": [
    "### Get the type:"
   ]
  },
  {
   "cell_type": "code",
   "execution_count": 4,
   "id": "83205309",
   "metadata": {},
   "outputs": [
    {
     "name": "stdout",
     "output_type": "stream",
     "text": [
      "<class 'int'>\n",
      "<class 'str'>\n"
     ]
    }
   ],
   "source": [
    "x= 5\n",
    "y=\"Arjun\"\n",
    "\n",
    "print(type(x))\n",
    "print(type(y))"
   ]
  },
  {
   "cell_type": "markdown",
   "id": "9398416a",
   "metadata": {},
   "source": [
    "### single or double quotes:"
   ]
  },
  {
   "cell_type": "code",
   "execution_count": 8,
   "id": "fae48852",
   "metadata": {},
   "outputs": [
    {
     "name": "stdout",
     "output_type": "stream",
     "text": [
      "x is: Arjun and y is: Arjun  Both are same strings in differenct quotes\n"
     ]
    }
   ],
   "source": [
    "x= \"Arjun\"\n",
    "# is the same as\n",
    "y ='Arjun'\n",
    "\n",
    "print(\"x is:\",x,\"and y is:\", y,\" Both are same strings in differenct quotes\")"
   ]
  },
  {
   "cell_type": "markdown",
   "id": "25ab6824",
   "metadata": {},
   "source": [
    "### Case Sensitive:"
   ]
  },
  {
   "cell_type": "code",
   "execution_count": 10,
   "id": "40b0a86a",
   "metadata": {},
   "outputs": [
    {
     "name": "stdout",
     "output_type": "stream",
     "text": [
      "4\n",
      "Amar\n"
     ]
    }
   ],
   "source": [
    "a= 4\n",
    "A= \"Amar\"\n",
    "# A will not overrrite a\n",
    "print(a)\n",
    "print(A)"
   ]
  },
  {
   "cell_type": "markdown",
   "id": "2c7f097b",
   "metadata": {},
   "source": [
    "# Variable Names\n"
   ]
  },
  {
   "cell_type": "code",
   "execution_count": null,
   "id": "7b2f3d07",
   "metadata": {},
   "outputs": [],
   "source": [
    "A variable can have a short name (like x and y) or a more descriptive name (age, carname, total_volume). Rules for Python variables:\n",
    "A variable name must start with a letter or the underscore character\n",
    "A variable name cannot start with a number\n",
    "A variable name can only contain alpha-numeric characters and underscores (A-z, 0-9, and _ )\n",
    "Variable names are case-sensitive (age, Age and AGE are three different variables)"
   ]
  },
  {
   "cell_type": "code",
   "execution_count": null,
   "id": "b065c153",
   "metadata": {},
   "outputs": [],
   "source": [
    "Example\n",
    "Legal variable names:\n",
    "    \n",
    "myvar = \"John\"\n",
    "my_var = \"John\"\n",
    "_my_var = \"John\"\n",
    "myVar = \"John\"\n",
    "MYVAR = \"John\"\n",
    "myvar2 = \"John\""
   ]
  },
  {
   "cell_type": "code",
   "execution_count": null,
   "id": "25770ed2",
   "metadata": {},
   "outputs": [],
   "source": [
    "Illegal variable names:\n",
    "\n",
    "2myvar = \"John\"\n",
    "my-var = \"John\"\n",
    "my var = \"John\""
   ]
  },
  {
   "cell_type": "code",
   "execution_count": null,
   "id": "cdcf108e",
   "metadata": {},
   "outputs": [],
   "source": [
    "Multi Words Variable Names\n",
    "Variable names with more than one word can be difficult to read.\n",
    "\n",
    "There are several techniques you can use to make them more readable:\n",
    "\n"
   ]
  },
  {
   "cell_type": "markdown",
   "id": "9db89e01",
   "metadata": {},
   "source": [
    "### Camel Case\n",
    "Each word, except the first, starts with a capital letter:"
   ]
  },
  {
   "cell_type": "code",
   "execution_count": null,
   "id": "ca1f30ab",
   "metadata": {},
   "outputs": [],
   "source": [
    "myVariableName= \"Arjun\""
   ]
  },
  {
   "cell_type": "markdown",
   "id": "480d2d4c",
   "metadata": {},
   "source": [
    "### Pascal \n",
    "\n",
    "Each word starts with a capital letter:"
   ]
  },
  {
   "cell_type": "code",
   "execution_count": null,
   "id": "f1b6f275",
   "metadata": {},
   "outputs": [],
   "source": [
    "MyVariableName=\"Arjun\""
   ]
  },
  {
   "cell_type": "markdown",
   "id": "0ada2942",
   "metadata": {},
   "source": [
    "### Snake Case\n",
    "Each word is separated by an underscore character:"
   ]
  },
  {
   "cell_type": "code",
   "execution_count": null,
   "id": "01fd27c8",
   "metadata": {},
   "outputs": [],
   "source": [
    "my_variable_name=\"Arjun\""
   ]
  },
  {
   "cell_type": "markdown",
   "id": "b93d8043",
   "metadata": {},
   "source": [
    "# Python Variables - Assign Multiple Values"
   ]
  },
  {
   "cell_type": "markdown",
   "id": "4d942313",
   "metadata": {},
   "source": [
    "### Many Values to Multiple Variables\n",
    "\n",
    "Python allows you to assign values to multiple variables in one line:"
   ]
  },
  {
   "cell_type": "code",
   "execution_count": 11,
   "id": "50dd4217",
   "metadata": {},
   "outputs": [
    {
     "name": "stdout",
     "output_type": "stream",
     "text": [
      "Orange Banana Cherry\n"
     ]
    }
   ],
   "source": [
    "x,y,z='Orange','Banana','Cherry'\n",
    "print(x,y,z)"
   ]
  },
  {
   "cell_type": "markdown",
   "id": "10a94bd1",
   "metadata": {},
   "source": [
    "### One Value to Multiple Variables\n",
    "\n",
    "And you can assign the same value to multiple variables in one line:"
   ]
  },
  {
   "cell_type": "code",
   "execution_count": 13,
   "id": "67721968",
   "metadata": {},
   "outputs": [
    {
     "name": "stdout",
     "output_type": "stream",
     "text": [
      "Orange Orange Orange\n"
     ]
    }
   ],
   "source": [
    "x=y=z=\"Orange\"\n",
    "print(x,y,z)"
   ]
  },
  {
   "cell_type": "markdown",
   "id": "b6cbd8bc",
   "metadata": {},
   "source": [
    "### Unpack a Collection\n",
    "If you have a collection of values in a list, tuple etc. Python allows you to extract the values into variables. This is called unpacking."
   ]
  },
  {
   "cell_type": "code",
   "execution_count": 14,
   "id": "a86ad74e",
   "metadata": {},
   "outputs": [
    {
     "name": "stdout",
     "output_type": "stream",
     "text": [
      "apple\n",
      "banana\n",
      "cherry\n"
     ]
    }
   ],
   "source": [
    "fruits = [\"apple\", \"banana\", \"cherry\"]\n",
    "x, y, z = fruits\n",
    "\n",
    "print(x)\n",
    "print(y)\n",
    "print(z)"
   ]
  },
  {
   "cell_type": "markdown",
   "id": "37186e4a",
   "metadata": {},
   "source": [
    "# <center> Python - Output Variables"
   ]
  },
  {
   "cell_type": "code",
   "execution_count": null,
   "id": "33583501",
   "metadata": {},
   "outputs": [],
   "source": [
    "Output Variables\n",
    "The Python print() function is often used to output variables."
   ]
  },
  {
   "cell_type": "code",
   "execution_count": 17,
   "id": "3b55b3a2",
   "metadata": {},
   "outputs": [
    {
     "name": "stdout",
     "output_type": "stream",
     "text": [
      "Python is awesome\n"
     ]
    }
   ],
   "source": [
    "x= \"Python is awesome\"\n",
    "print(x)"
   ]
  },
  {
   "cell_type": "code",
   "execution_count": 18,
   "id": "9bab8019",
   "metadata": {},
   "outputs": [
    {
     "name": "stdout",
     "output_type": "stream",
     "text": [
      "python is awesome\n"
     ]
    }
   ],
   "source": [
    "x=\"python\"\n",
    "y= \"is\"\n",
    "z=\"awesome\"\n",
    "print(x,y,z)"
   ]
  },
  {
   "cell_type": "markdown",
   "id": "4dfa43bf",
   "metadata": {},
   "source": [
    "#### You can also use the + operator to output multiple variables:"
   ]
  },
  {
   "cell_type": "code",
   "execution_count": 20,
   "id": "f396c5f9",
   "metadata": {},
   "outputs": [
    {
     "name": "stdout",
     "output_type": "stream",
     "text": [
      "python is awesome\n"
     ]
    }
   ],
   "source": [
    "x=\"python\"\n",
    "y= \"is\"\n",
    "z=\"awesome\"\n",
    "\n",
    "print(x +\" \"+ y +\" \"+ z)"
   ]
  },
  {
   "cell_type": "code",
   "execution_count": null,
   "id": "f75e02d7",
   "metadata": {},
   "outputs": [],
   "source": [
    "For numbers, the + character works as a mathematical operator:"
   ]
  },
  {
   "cell_type": "code",
   "execution_count": 22,
   "id": "75bf6bff",
   "metadata": {},
   "outputs": [
    {
     "name": "stdout",
     "output_type": "stream",
     "text": [
      "15\n"
     ]
    }
   ],
   "source": [
    "x= 5\n",
    "y=10\n",
    "print(x+y)"
   ]
  },
  {
   "cell_type": "code",
   "execution_count": 24,
   "id": "fabc5c19",
   "metadata": {},
   "outputs": [
    {
     "ename": "TypeError",
     "evalue": "unsupported operand type(s) for +: 'int' and 'str'",
     "output_type": "error",
     "traceback": [
      "\u001b[1;31m---------------------------------------------------------------------------\u001b[0m",
      "\u001b[1;31mTypeError\u001b[0m                                 Traceback (most recent call last)",
      "\u001b[1;32m~\\AppData\\Local\\Temp/ipykernel_16244/305929637.py\u001b[0m in \u001b[0;36m<module>\u001b[1;34m\u001b[0m\n\u001b[0;32m      2\u001b[0m \u001b[0mx\u001b[0m\u001b[1;33m=\u001b[0m \u001b[1;36m5\u001b[0m\u001b[1;33m\u001b[0m\u001b[1;33m\u001b[0m\u001b[0m\n\u001b[0;32m      3\u001b[0m \u001b[0my\u001b[0m \u001b[1;33m=\u001b[0m \u001b[1;34m\"John\"\u001b[0m\u001b[1;33m\u001b[0m\u001b[1;33m\u001b[0m\u001b[0m\n\u001b[1;32m----> 4\u001b[1;33m \u001b[0mprint\u001b[0m\u001b[1;33m(\u001b[0m\u001b[0mx\u001b[0m \u001b[1;33m+\u001b[0m \u001b[0my\u001b[0m\u001b[1;33m)\u001b[0m\u001b[1;33m\u001b[0m\u001b[1;33m\u001b[0m\u001b[0m\n\u001b[0m",
      "\u001b[1;31mTypeError\u001b[0m: unsupported operand type(s) for +: 'int' and 'str'"
     ]
    }
   ],
   "source": [
    "# In the print() function, when you try to combine a string and a number with the + operator, Python will give you an error:\n",
    "x= 5\n",
    "y = \"John\"\n",
    "print(x + y)"
   ]
  },
  {
   "cell_type": "code",
   "execution_count": 25,
   "id": "1cf86b29",
   "metadata": {},
   "outputs": [
    {
     "name": "stdout",
     "output_type": "stream",
     "text": [
      "5 John\n"
     ]
    }
   ],
   "source": [
    "x= 5\n",
    "y = \"John\"\n",
    "print(x , y)"
   ]
  },
  {
   "cell_type": "markdown",
   "id": "3154f6b2",
   "metadata": {},
   "source": [
    "# <center>  Python - Global Variables"
   ]
  },
  {
   "cell_type": "code",
   "execution_count": null,
   "id": "81a42204",
   "metadata": {},
   "outputs": [],
   "source": [
    "Global Variables\n",
    "\n",
    "Variables that are created outside of a function (as in all of the examples above) are known as global variables.\n",
    "\n",
    "Global variables can be used by everyone, both inside of functions and outside."
   ]
  },
  {
   "cell_type": "code",
   "execution_count": 28,
   "id": "9f750b7a",
   "metadata": {},
   "outputs": [
    {
     "name": "stdout",
     "output_type": "stream",
     "text": [
      "python is awesome\n"
     ]
    }
   ],
   "source": [
    "x= \"awesome\"\n",
    "\n",
    "def myfunc():\n",
    "    print(\"python is \" + x)\n",
    "    \n",
    "myfunc()"
   ]
  },
  {
   "cell_type": "raw",
   "id": "dc3ab83c",
   "metadata": {},
   "source": [
    "If you create a variable with the same name inside a function, this variable will be local, and can only be used inside the function. The global variable with the same name will remain as it was, global and with the original value."
   ]
  },
  {
   "cell_type": "code",
   "execution_count": 31,
   "id": "33af8a13",
   "metadata": {},
   "outputs": [
    {
     "name": "stdout",
     "output_type": "stream",
     "text": [
      "Python is Fantastic\n",
      "python is Awesome\n"
     ]
    }
   ],
   "source": [
    "x= \" Awesome\"\n",
    "\n",
    "def myfunc():\n",
    "    x= \"Fantastic\"\n",
    "    print(\"Python is \" + x)\n",
    "    \n",
    "myfunc()\n",
    "\n",
    "print(\"python is\"+ x)"
   ]
  },
  {
   "cell_type": "markdown",
   "id": "92ad97f8",
   "metadata": {},
   "source": [
    "### The global Keyword"
   ]
  },
  {
   "cell_type": "code",
   "execution_count": 33,
   "id": "c9d4ea37",
   "metadata": {},
   "outputs": [
    {
     "name": "stdout",
     "output_type": "stream",
     "text": [
      "Python is Fantastic\n"
     ]
    }
   ],
   "source": [
    "def myfunc():\n",
    "    \n",
    "    global x\n",
    "    x= \"Fantastic\"\n",
    "    \n",
    "myfunc()\n",
    "\n",
    "print(\"Python is \"+ x)"
   ]
  },
  {
   "cell_type": "code",
   "execution_count": 37,
   "id": "c29e9a53",
   "metadata": {},
   "outputs": [
    {
     "name": "stdout",
     "output_type": "stream",
     "text": [
      " Python is Fantastic\n"
     ]
    }
   ],
   "source": [
    "# To change the value of a global variable inside a function, refer to the variable by using the global keyword:\n",
    "\n",
    "x= \" Awesome\"\n",
    "\n",
    "def myfunc():\n",
    "    global x\n",
    "    x= \" Fantastic\"\n",
    "    \n",
    "myfunc()\n",
    "\n",
    "print(\" Python is\"+ x)"
   ]
  },
  {
   "cell_type": "markdown",
   "id": "c92bbef5",
   "metadata": {},
   "source": [
    "# <center> Python - Variable Exercises"
   ]
  },
  {
   "cell_type": "code",
   "execution_count": 40,
   "id": "68fe5341",
   "metadata": {},
   "outputs": [
    {
     "name": "stdout",
     "output_type": "stream",
     "text": [
      " Volvo\n"
     ]
    }
   ],
   "source": [
    "# Create a variable named carname and assign the value Volvo to it.\n",
    "carName= \" Volvo\"\n",
    "print(carName)"
   ]
  },
  {
   "cell_type": "code",
   "execution_count": null,
   "id": "32cef1f1",
   "metadata": {},
   "outputs": [],
   "source": []
  }
 ],
 "metadata": {
  "kernelspec": {
   "display_name": "Python 3 (ipykernel)",
   "language": "python",
   "name": "python3"
  },
  "language_info": {
   "codemirror_mode": {
    "name": "ipython",
    "version": 3
   },
   "file_extension": ".py",
   "mimetype": "text/x-python",
   "name": "python",
   "nbconvert_exporter": "python",
   "pygments_lexer": "ipython3",
   "version": "3.8.12"
  }
 },
 "nbformat": 4,
 "nbformat_minor": 5
}
