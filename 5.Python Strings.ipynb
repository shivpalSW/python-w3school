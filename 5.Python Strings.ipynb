{
 "cells": [
  {
   "cell_type": "markdown",
   "id": "42829b54",
   "metadata": {},
   "source": [
    "# <center> 5.Python Strings\n",
    "    \n",
    "https://www.w3schools.com/python/python_strings.asp"
   ]
  },
  {
   "cell_type": "raw",
   "id": "a8d62660",
   "metadata": {},
   "source": [
    "Strings\n",
    "Strings in python are surrounded by either single quotation marks, or double quotation marks.\n",
    "\n",
    "'hello' is the same as \"hello\".\n",
    "\n",
    "You can display a string literal with the print() function"
   ]
  },
  {
   "cell_type": "code",
   "execution_count": 1,
   "id": "1851458d",
   "metadata": {},
   "outputs": [
    {
     "name": "stdout",
     "output_type": "stream",
     "text": [
      "Hello\n",
      "Hello\n"
     ]
    }
   ],
   "source": [
    "print(\"Hello\")\n",
    "print('Hello')"
   ]
  },
  {
   "cell_type": "markdown",
   "id": "a6d8b300",
   "metadata": {},
   "source": [
    "### Assign String to a Variable\n",
    "Assigning a string to a variable is done with the variable name followed by an equal sign and the string:"
   ]
  },
  {
   "cell_type": "code",
   "execution_count": 2,
   "id": "9f6b99b0",
   "metadata": {},
   "outputs": [
    {
     "data": {
      "text/plain": [
       "'hello'"
      ]
     },
     "metadata": {},
     "output_type": "display_data"
    }
   ],
   "source": [
    "a = \"hello\"\n",
    "display(a)"
   ]
  },
  {
   "cell_type": "markdown",
   "id": "38f72a95",
   "metadata": {},
   "source": [
    "### Multiline Strings\n",
    "You can assign a multiline string to a variable by using three quotes:"
   ]
  },
  {
   "cell_type": "code",
   "execution_count": 3,
   "id": "c4078015",
   "metadata": {},
   "outputs": [
    {
     "name": "stdout",
     "output_type": "stream",
     "text": [
      "Lorem ipsum dolor sit amet,\n",
      "consectetur adipiscing elit,\n",
      "sed do eiusmod tempor incididunt\n",
      "ut labore et dolore magna aliqua.\n"
     ]
    }
   ],
   "source": [
    "a = \"\"\"Lorem ipsum dolor sit amet,\n",
    "consectetur adipiscing elit,\n",
    "sed do eiusmod tempor incididunt\n",
    "ut labore et dolore magna aliqua.\"\"\"\n",
    "print(a)"
   ]
  },
  {
   "cell_type": "code",
   "execution_count": 4,
   "id": "03304602",
   "metadata": {},
   "outputs": [
    {
     "name": "stdout",
     "output_type": "stream",
     "text": [
      "Lorem ipsum dolor sit amet,\n",
      "consectetur adipiscing elit,\n",
      "sed do eiusmod tempor incididunt\n",
      "ut labore et dolore magna aliqua.\n"
     ]
    }
   ],
   "source": [
    "# Or three single quotes:\n",
    "\n",
    "a = '''Lorem ipsum dolor sit amet,\n",
    "consectetur adipiscing elit,\n",
    "sed do eiusmod tempor incididunt\n",
    "ut labore et dolore magna aliqua.'''\n",
    "print(a)"
   ]
  },
  {
   "cell_type": "markdown",
   "id": "521a2ac0",
   "metadata": {},
   "source": [
    "### Strings are Arrays\n",
    "Like many other popular programming languages, strings in Python are arrays of bytes representing unicode characters.\n",
    "\n",
    "However, Python does not have a character data type, a single character is simply a string with a length of 1.\n",
    "\n",
    "Square brackets can be used to access elements of the string."
   ]
  },
  {
   "cell_type": "code",
   "execution_count": 6,
   "id": "8fa9c5bb",
   "metadata": {},
   "outputs": [
    {
     "name": "stdout",
     "output_type": "stream",
     "text": [
      "e\n"
     ]
    }
   ],
   "source": [
    "a= \"Hello world!\"\n",
    "print(a[1])"
   ]
  },
  {
   "cell_type": "markdown",
   "id": "39756c1b",
   "metadata": {},
   "source": [
    "### Looping Through a String\n",
    "Since strings are arrays, we can loop through the characters in a string, with a for loop."
   ]
  },
  {
   "cell_type": "code",
   "execution_count": 8,
   "id": "dbf2379b",
   "metadata": {},
   "outputs": [
    {
     "name": "stdout",
     "output_type": "stream",
     "text": [
      "b\n",
      "a\n",
      "n\n",
      "a\n",
      "n\n",
      "a\n"
     ]
    }
   ],
   "source": [
    "#Example:\n",
    "    \n",
    "#Loop through the letters in the word \"banana\":\n",
    "    \n",
    "for x in \"banana\":\n",
    "    print(x)"
   ]
  },
  {
   "cell_type": "markdown",
   "id": "ebe5de4e",
   "metadata": {},
   "source": [
    "### String Length\n",
    "To get the length of a string, use the len() function."
   ]
  },
  {
   "cell_type": "code",
   "execution_count": 9,
   "id": "d4d23fae",
   "metadata": {},
   "outputs": [
    {
     "name": "stdout",
     "output_type": "stream",
     "text": [
      "16\n"
     ]
    }
   ],
   "source": [
    "a= \"Machine Learning\"\n",
    "print(len(a))"
   ]
  },
  {
   "cell_type": "markdown",
   "id": "b895ca68",
   "metadata": {},
   "source": [
    "### Check string:"
   ]
  },
  {
   "cell_type": "raw",
   "id": "1aa2585c",
   "metadata": {},
   "source": [
    "To check if a certain phrase or character is present in a string, we can use the keyword in."
   ]
  },
  {
   "cell_type": "code",
   "execution_count": 11,
   "id": "ced1b875",
   "metadata": {},
   "outputs": [
    {
     "name": "stdout",
     "output_type": "stream",
     "text": [
      "True\n"
     ]
    }
   ],
   "source": [
    "txt = \"The best things in life are free!\"\n",
    "print(\"free\" in txt)"
   ]
  },
  {
   "cell_type": "code",
   "execution_count": null,
   "id": "01e9c54a",
   "metadata": {},
   "outputs": [],
   "source": [
    "Use it in an if statement:"
   ]
  },
  {
   "cell_type": "code",
   "execution_count": 12,
   "id": "e5af497c",
   "metadata": {},
   "outputs": [
    {
     "name": "stdout",
     "output_type": "stream",
     "text": [
      "Yes,'Free' is present\n"
     ]
    }
   ],
   "source": [
    "txt = \"The best things in life are free!\"\n",
    "\n",
    "if \"free\" in txt:\n",
    "    print(\"Yes,'Free' is present\")"
   ]
  },
  {
   "cell_type": "markdown",
   "id": "eda1c09e",
   "metadata": {},
   "source": [
    "### Check if NOT"
   ]
  },
  {
   "cell_type": "raw",
   "id": "09127b94",
   "metadata": {},
   "source": [
    "To check if a certain phrase or character is NOT present in a string, we can use the keyword not in."
   ]
  },
  {
   "cell_type": "code",
   "execution_count": 14,
   "id": "8ace0c7f",
   "metadata": {},
   "outputs": [
    {
     "name": "stdout",
     "output_type": "stream",
     "text": [
      "True\n"
     ]
    }
   ],
   "source": [
    "txt = \"The best things in life are free!\"\n",
    "\n",
    "print(\"Expensive\" not in txt)"
   ]
  },
  {
   "cell_type": "raw",
   "id": "60b5b339",
   "metadata": {},
   "source": [
    "Use it in an if statement:"
   ]
  },
  {
   "cell_type": "code",
   "execution_count": 15,
   "id": "ce788bb6",
   "metadata": {},
   "outputs": [
    {
     "name": "stdout",
     "output_type": "stream",
     "text": [
      "Yes it is not pesent\n"
     ]
    }
   ],
   "source": [
    "txt = \"The best things in life are free!\"\n",
    "\n",
    "if \" Expensive\" not in txt:\n",
    "    print(\"Yes it is not pesent\")"
   ]
  },
  {
   "cell_type": "markdown",
   "id": "58c98e4d",
   "metadata": {},
   "source": [
    "# <center> Python - Slicing Strings"
   ]
  },
  {
   "cell_type": "markdown",
   "id": "39334277",
   "metadata": {},
   "source": [
    "## Slicing:\n",
    "\n",
    "You can return a range of characters by using the slice syntax.\n",
    "\n",
    "Specify the start index and the end index, separated by a colon, to return a part of the string."
   ]
  },
  {
   "cell_type": "code",
   "execution_count": 16,
   "id": "dd95bc79",
   "metadata": {},
   "outputs": [
    {
     "name": "stdout",
     "output_type": "stream",
     "text": [
      " Data science\n"
     ]
    }
   ],
   "source": [
    "# Get the characters from position 2 to position 5 (not included):\n",
    "\n",
    "b=\" Data science\"\n",
    "print(b[ : ])"
   ]
  },
  {
   "cell_type": "code",
   "execution_count": 17,
   "id": "999ea701",
   "metadata": {},
   "outputs": [
    {
     "name": "stdout",
     "output_type": "stream",
     "text": [
      " Data science\n"
     ]
    }
   ],
   "source": [
    "b=\" Data science\"\n",
    "print(b[ : len(b)])"
   ]
  },
  {
   "cell_type": "code",
   "execution_count": 21,
   "id": "d7484858",
   "metadata": {},
   "outputs": [
    {
     "name": "stdout",
     "output_type": "stream",
     "text": [
      " Data science\n"
     ]
    }
   ],
   "source": [
    "b=\" Data science\"\n",
    "print(b[ 0: ])"
   ]
  },
  {
   "cell_type": "code",
   "execution_count": 18,
   "id": "ca88c865",
   "metadata": {},
   "outputs": [
    {
     "name": "stdout",
     "output_type": "stream",
     "text": [
      " Data\n"
     ]
    }
   ],
   "source": [
    "b=\" Data science\"\n",
    "print(b[0 : 5])"
   ]
  },
  {
   "cell_type": "code",
   "execution_count": 19,
   "id": "ea5b4c85",
   "metadata": {},
   "outputs": [
    {
     "name": "stdout",
     "output_type": "stream",
     "text": [
      " science\n"
     ]
    }
   ],
   "source": [
    "b=\" Data science\"\n",
    "print(b[5 : ])"
   ]
  },
  {
   "cell_type": "code",
   "execution_count": 20,
   "id": "9ba82e69",
   "metadata": {},
   "outputs": [
    {
     "name": "stdout",
     "output_type": "stream",
     "text": [
      "e\n"
     ]
    }
   ],
   "source": [
    "b=\" Data science\"\n",
    "print(b[ -1: ])"
   ]
  },
  {
   "cell_type": "markdown",
   "id": "160dae91",
   "metadata": {},
   "source": [
    "### Negative indexing\n",
    "\n"
   ]
  },
  {
   "cell_type": "code",
   "execution_count": 22,
   "id": "094d0cd8",
   "metadata": {},
   "outputs": [
    {
     "name": "stdout",
     "output_type": "stream",
     "text": [
      "orl\n"
     ]
    }
   ],
   "source": [
    "b = \"Hello, World!\"\n",
    "print(b[-5:-2])"
   ]
  },
  {
   "cell_type": "markdown",
   "id": "678d8551",
   "metadata": {},
   "source": [
    "# <center> Python - Modify Strings"
   ]
  },
  {
   "cell_type": "code",
   "execution_count": null,
   "id": "6d5d3b7d",
   "metadata": {},
   "outputs": [],
   "source": [
    "Python has a set of built-in methods that you can use on strings."
   ]
  },
  {
   "cell_type": "markdown",
   "id": "10e6cc0e",
   "metadata": {},
   "source": [
    "### Upper case:\n"
   ]
  },
  {
   "cell_type": "code",
   "execution_count": 24,
   "id": "b7324468",
   "metadata": {},
   "outputs": [
    {
     "name": "stdout",
     "output_type": "stream",
     "text": [
      "LOGISTIC REGRESSION\n"
     ]
    }
   ],
   "source": [
    "a = \"logistic regression\"\n",
    "print(a.upper())"
   ]
  },
  {
   "cell_type": "markdown",
   "id": "5585308a",
   "metadata": {},
   "source": [
    "### Lower case:"
   ]
  },
  {
   "cell_type": "code",
   "execution_count": 26,
   "id": "73a65a43",
   "metadata": {},
   "outputs": [
    {
     "name": "stdout",
     "output_type": "stream",
     "text": [
      "web framework\n"
     ]
    }
   ],
   "source": [
    "a= \"WEB FRAMEWORK\"\n",
    "print(a.lower())"
   ]
  },
  {
   "cell_type": "markdown",
   "id": "92d7baab",
   "metadata": {},
   "source": [
    "### Remove whotespaces:"
   ]
  },
  {
   "cell_type": "code",
   "execution_count": 29,
   "id": "4bb7f365",
   "metadata": {},
   "outputs": [
    {
     "name": "stdout",
     "output_type": "stream",
     "text": [
      "HyperParameter Tuning\n"
     ]
    }
   ],
   "source": [
    "a= \"  HyperParameter Tuning  \"\n",
    "print(a.strip())"
   ]
  },
  {
   "cell_type": "markdown",
   "id": "9f575040",
   "metadata": {},
   "source": [
    "### Replacing string:"
   ]
  },
  {
   "cell_type": "code",
   "execution_count": 32,
   "id": "22b0628f",
   "metadata": {},
   "outputs": [
    {
     "name": "stdout",
     "output_type": "stream",
     "text": [
      "  SuperParameter Tuning  \n"
     ]
    }
   ],
   "source": [
    "# using replace function:\n",
    "\n",
    "a= \"  HyperParameter Tuning  \"\n",
    "a.strip()\n",
    "print(a.replace(\"Hy\",\"Su\"))\n"
   ]
  },
  {
   "cell_type": "markdown",
   "id": "b6d223c8",
   "metadata": {},
   "source": [
    "### Split String:"
   ]
  },
  {
   "cell_type": "raw",
   "id": "e17501de",
   "metadata": {},
   "source": [
    "The split() method returns a list where the text between the specified separator becomes the list items."
   ]
  },
  {
   "cell_type": "code",
   "execution_count": 34,
   "id": "f3c19886",
   "metadata": {},
   "outputs": [
    {
     "name": "stdout",
     "output_type": "stream",
     "text": [
      "['Confusion', 'matrix', 'is', 'used', 'to', 'analyse', 'the', 'performance', 'of', 'the', 'algorithm']\n"
     ]
    }
   ],
   "source": [
    "a= \"Confusion matrix is used to analyse the performance of the algorithm\"\n",
    "a= a.split((\" \"))\n",
    "print(a)"
   ]
  },
  {
   "cell_type": "code",
   "execution_count": 35,
   "id": "b6b3f7ed",
   "metadata": {},
   "outputs": [
    {
     "name": "stdout",
     "output_type": "stream",
     "text": [
      "['Confusion matrix is ', 'used to analyse the performance', ' of the algorithm']\n"
     ]
    }
   ],
   "source": [
    "a= \"Confusion matrix is ,used to analyse the performance, of the algorithm\"\n",
    "a= a.split((\",\"))\n",
    "print(a)"
   ]
  },
  {
   "cell_type": "markdown",
   "id": "5c3366d0",
   "metadata": {},
   "source": [
    "## <center> Python - String Concatenation"
   ]
  },
  {
   "cell_type": "raw",
   "id": "f04c65d2",
   "metadata": {},
   "source": [
    "String Concatenation:\n",
    "\n",
    "To concatenate, or combine, two strings you can use the + operator."
   ]
  },
  {
   "cell_type": "code",
   "execution_count": 37,
   "id": "ba246e60",
   "metadata": {},
   "outputs": [
    {
     "name": "stdout",
     "output_type": "stream",
     "text": [
      "Financial Risk Aalysis\n"
     ]
    }
   ],
   "source": [
    "a= \"Financial\"\n",
    "b= \" Risk\"\n",
    "c= \" Aalysis\"\n",
    "print( a+\"\"+ b +\"\"+ c)"
   ]
  },
  {
   "cell_type": "markdown",
   "id": "0a928dac",
   "metadata": {},
   "source": [
    "## <center> Python - Format - Strings"
   ]
  },
  {
   "cell_type": "code",
   "execution_count": 41,
   "id": "831b40b9",
   "metadata": {},
   "outputs": [
    {
     "ename": "TypeError",
     "evalue": "can only concatenate str (not \"int\") to str",
     "output_type": "error",
     "traceback": [
      "\u001b[1;31m---------------------------------------------------------------------------\u001b[0m",
      "\u001b[1;31mTypeError\u001b[0m                                 Traceback (most recent call last)",
      "\u001b[1;32m~\\AppData\\Local\\Temp/ipykernel_19884/1290647988.py\u001b[0m in \u001b[0;36m<module>\u001b[1;34m\u001b[0m\n\u001b[0;32m      1\u001b[0m \u001b[0mage\u001b[0m \u001b[1;33m=\u001b[0m \u001b[1;36m24\u001b[0m\u001b[1;33m\u001b[0m\u001b[1;33m\u001b[0m\u001b[0m\n\u001b[1;32m----> 2\u001b[1;33m \u001b[0mtxt\u001b[0m\u001b[1;33m=\u001b[0m \u001b[1;34m\" My name is Ranjeet,i'm\"\u001b[0m \u001b[1;33m+\u001b[0m \u001b[0mage\u001b[0m\u001b[1;33m\u001b[0m\u001b[1;33m\u001b[0m\u001b[0m\n\u001b[0m\u001b[0;32m      3\u001b[0m \u001b[0mprint\u001b[0m\u001b[1;33m(\u001b[0m\u001b[0mtxt\u001b[0m\u001b[1;33m)\u001b[0m\u001b[1;33m\u001b[0m\u001b[1;33m\u001b[0m\u001b[0m\n",
      "\u001b[1;31mTypeError\u001b[0m: can only concatenate str (not \"int\") to str"
     ]
    }
   ],
   "source": [
    "age = 24\n",
    "txt= \" My name is Ranjeet,i'm\" + age\n",
    "print(txt)\n",
    "\n",
    "#But we can combine strings and numbers by using the format() method!\n",
    "\n",
    "#The format() method takes the passed arguments, formats them, and places them in the string where the placeholders {} are:"
   ]
  },
  {
   "cell_type": "raw",
   "id": "36d38a77",
   "metadata": {},
   "source": [
    "Use the format() method to insert numbers into strings:"
   ]
  },
  {
   "cell_type": "code",
   "execution_count": 47,
   "id": "0b3fba78",
   "metadata": {},
   "outputs": [
    {
     "name": "stdout",
     "output_type": "stream",
     "text": [
      " My name is Ranjeet,i'm 24 \n"
     ]
    }
   ],
   "source": [
    "# {} - it is called as placeholder\n",
    "\n",
    "age = 24\n",
    "txt= \" My name is Ranjeet,i'm {} \"\n",
    "\n",
    "print(txt.format(age))"
   ]
  },
  {
   "cell_type": "code",
   "execution_count": 48,
   "id": "c1943781",
   "metadata": {},
   "outputs": [
    {
     "name": "stdout",
     "output_type": "stream",
     "text": [
      " My name is Ranjeet,i'm 24 \n"
     ]
    }
   ],
   "source": [
    "age = 24\n",
    "\n",
    "print( \" My name is Ranjeet,i'm {} \".format(age))"
   ]
  },
  {
   "cell_type": "raw",
   "id": "5272bd49",
   "metadata": {},
   "source": [
    "The format() method takes unlimited number of arguments, and are placed into the respective placeholders:"
   ]
  },
  {
   "cell_type": "code",
   "execution_count": 49,
   "id": "07a615f5",
   "metadata": {},
   "outputs": [
    {
     "name": "stdout",
     "output_type": "stream",
     "text": [
      "I want 3 pieces of item 567 for 49.95 dollars.\n"
     ]
    }
   ],
   "source": [
    "quantity = 3\n",
    "itemno = 567\n",
    "price = 49.95\n",
    "\n",
    "myorder= \"I want {} pieces of item {} for {} dollars.\"\n",
    "print(myorder.format(quantity,itemno,price))\n"
   ]
  },
  {
   "cell_type": "raw",
   "id": "7560053a",
   "metadata": {},
   "source": [
    "Note:-\n",
    "\n",
    "You can use index numbers {0} to be sure the arguments are placed in the correct placeholders:"
   ]
  },
  {
   "cell_type": "code",
   "execution_count": 56,
   "id": "990905bc",
   "metadata": {},
   "outputs": [
    {
     "name": "stdout",
     "output_type": "stream",
     "text": [
      "I want 49.95 pieces of item 567 for 3 dollars.\n"
     ]
    }
   ],
   "source": [
    "quantity = 3\n",
    "itemno = 567\n",
    "price = 49.95\n",
    "\n",
    "myorder= \"I want {2} pieces of item {1} for {0} dollars.\"  # Indexing is used for a 3 iteam by sequence\n",
    "print(myorder.format(quantity,itemno,price))\n"
   ]
  },
  {
   "cell_type": "markdown",
   "id": "84e221c1",
   "metadata": {},
   "source": [
    "# <center> Python - Escape Characters"
   ]
  },
  {
   "cell_type": "markdown",
   "id": "4f5f67a6",
   "metadata": {},
   "source": [
    "### Escape Character:\n",
    "\n",
    "To insert characters that are illegal in a string, use an escape character.\n",
    "\n",
    "An escape character is a backslash \\ followed by the character you want to insert.\n",
    "\n",
    "An example of an illegal character is a double quote inside a string that is surrounded by double quotes:"
   ]
  },
  {
   "cell_type": "raw",
   "id": "af012dca",
   "metadata": {},
   "source": [
    "Example\n",
    "You will get an error if you use double quotes inside a string that is surrounded by double quotes:"
   ]
  },
  {
   "cell_type": "code",
   "execution_count": 58,
   "id": "b3973620",
   "metadata": {},
   "outputs": [
    {
     "ename": "SyntaxError",
     "evalue": "invalid syntax (Temp/ipykernel_19884/4013392309.py, line 1)",
     "output_type": "error",
     "traceback": [
      "\u001b[1;36m  File \u001b[1;32m\"C:\\Users\\wshru\\AppData\\Local\\Temp/ipykernel_19884/4013392309.py\"\u001b[1;36m, line \u001b[1;32m1\u001b[0m\n\u001b[1;33m    txt = \"We are the so-called \"Vikings\" from the north.\"\u001b[0m\n\u001b[1;37m                                 ^\u001b[0m\n\u001b[1;31mSyntaxError\u001b[0m\u001b[1;31m:\u001b[0m invalid syntax\n"
     ]
    }
   ],
   "source": [
    "txt = \"We are the so-called \"Vikings\" from the north.\"\n",
    "print(txt)"
   ]
  },
  {
   "cell_type": "code",
   "execution_count": 60,
   "id": "3cbfb166",
   "metadata": {},
   "outputs": [
    {
     "name": "stdout",
     "output_type": "stream",
     "text": [
      "We are the so-called \"Vikings\"from the north.\n"
     ]
    }
   ],
   "source": [
    "#To fix this problem, use the escape character \\\":\n",
    "\n",
    "txt=  \"We are the so-called \\\"Vikings\\\" from the north.\"\n",
    "print(txt)"
   ]
  },
  {
   "cell_type": "raw",
   "id": "aac26469",
   "metadata": {},
   "source": [
    "Escape Characters\n",
    "Other escape characters used in Python:\n",
    "\n",
    "Code\tResult\tTry it\n",
    "\n",
    "\\'\t    Single Quote\t\n",
    "\\\\\t    Backslash\t\n",
    "\\n\t    New Line\t\n",
    "\\r\t    Carriage Return\t\n",
    "\\t\t    Tab\t\n",
    "\\b\t    Backspace\t\n",
    "\\f\t    Form Feed\t\n",
    "\\ooo\tOctal value\t\n",
    "\\xhh\tHex value"
   ]
  },
  {
   "cell_type": "code",
   "execution_count": 61,
   "id": "b709d33f",
   "metadata": {},
   "outputs": [
    {
     "name": "stdout",
     "output_type": "stream",
     "text": [
      "We are the so-called \"Vikings\" \n",
      " from the north.\n"
     ]
    }
   ],
   "source": [
    "txt=  \"We are the so-called \\\"Vikings\\\" \\n from the north.\"\n",
    "print(txt)"
   ]
  },
  {
   "cell_type": "code",
   "execution_count": 63,
   "id": "18257147",
   "metadata": {},
   "outputs": [
    {
     "name": "stdout",
     "output_type": "stream",
     "text": [
      "We are the so-called \"Vikings\" ' from the north.\n"
     ]
    }
   ],
   "source": [
    "txt=  \"We are the so-called \\\"Vikings\\\" \\' from the north.\"\n",
    "print(txt)"
   ]
  },
  {
   "cell_type": "code",
   "execution_count": 66,
   "id": "2eb4d51d",
   "metadata": {},
   "outputs": [
    {
     "name": "stdout",
     "output_type": "stream",
     "text": [
      "We are the so-called \"Vikings\" \\ from the north.\n"
     ]
    }
   ],
   "source": [
    "txt=  \"We are the so-called \\\"Vikings\\\" \\\\ from the north.\"\n",
    "print(txt)"
   ]
  },
  {
   "cell_type": "code",
   "execution_count": 72,
   "id": "a5ef9e64",
   "metadata": {},
   "outputs": [
    {
     "name": "stdout",
     "output_type": "stream",
     "text": [
      "We are the so-called \"Vikings\" \r",
      " from the north.\n"
     ]
    }
   ],
   "source": [
    "txt=  \"We are the so-called \\\"Vikings\\\" \\r from the north.\"\n",
    "print(txt)"
   ]
  },
  {
   "cell_type": "code",
   "execution_count": 74,
   "id": "7b6baf41",
   "metadata": {},
   "outputs": [
    {
     "name": "stdout",
     "output_type": "stream",
     "text": [
      "We are the so-called \t Vikings  from the north.\n"
     ]
    }
   ],
   "source": [
    "txt=  \"We are the so-called \\t Vikings  from the north.\"\n",
    "print(txt)"
   ]
  },
  {
   "cell_type": "code",
   "execution_count": 80,
   "id": "34cad715",
   "metadata": {},
   "outputs": [
    {
     "name": "stdout",
     "output_type": "stream",
     "text": [
      "We are the so-called \"Vikings\" \b from the north.\n"
     ]
    }
   ],
   "source": [
    "txt=  \"We are the so-called \\\"Vikings\\\" \\b from the north.\"\n",
    "print(txt)"
   ]
  },
  {
   "cell_type": "markdown",
   "id": "b98e9df0",
   "metadata": {},
   "source": [
    "# <center> <font color= red> Python - String Methods"
   ]
  },
  {
   "cell_type": "markdown",
   "id": "79d5c17b",
   "metadata": {},
   "source": [
    " String Methods:\n",
    "\n",
    "Python has a set of built-in methods that you can use on strings."
   ]
  },
  {
   "cell_type": "markdown",
   "id": "1384064f",
   "metadata": {},
   "source": [
    "### Note:\n",
    "\n",
    "* All string methods returns new values. They do not change the original string."
   ]
  },
  {
   "cell_type": "markdown",
   "id": "916491d1",
   "metadata": {},
   "source": [
    "### 1. capitalize()\t:"
   ]
  },
  {
   "cell_type": "code",
   "execution_count": null,
   "id": "169cb124",
   "metadata": {},
   "outputs": [],
   "source": [
    "Converts the first character to upper case"
   ]
  },
  {
   "cell_type": "code",
   "execution_count": 87,
   "id": "73f51e35",
   "metadata": {},
   "outputs": [
    {
     "name": "stdout",
     "output_type": "stream",
     "text": [
      "Python has a set of built-in methods.\n"
     ]
    }
   ],
   "source": [
    "# Upper case the first letter in this sentence:\n",
    "\n",
    "txt = \"python has a set of built-in methods.\"\n",
    "x= txt.capitalize()\n",
    "print(x)"
   ]
  },
  {
   "cell_type": "raw",
   "id": "09864bd9",
   "metadata": {},
   "source": [
    "Definition and Usage\n",
    "The capitalize() method returns a string where the first character is upper case, and the rest is lower case."
   ]
  },
  {
   "cell_type": "code",
   "execution_count": 90,
   "id": "4f48c745",
   "metadata": {},
   "outputs": [
    {
     "name": "stdout",
     "output_type": "stream",
     "text": [
      "Pyhton is easy\n"
     ]
    }
   ],
   "source": [
    "txt= \"pyhton is easy\"\n",
    "x = txt.capitalize()\n",
    "print(x)"
   ]
  },
  {
   "cell_type": "code",
   "execution_count": 92,
   "id": "8a9d540c",
   "metadata": {},
   "outputs": [
    {
     "name": "stdout",
     "output_type": "stream",
     "text": [
      " 123 is my age\n"
     ]
    }
   ],
   "source": [
    "txt = \" 123 is my age\"\n",
    "x= txt.capitalize()\n",
    "print(x)    "
   ]
  },
  {
   "cell_type": "markdown",
   "id": "ea5f8cc6",
   "metadata": {},
   "source": [
    "### 2. casefold() Method:"
   ]
  },
  {
   "cell_type": "markdown",
   "id": "66c0573a",
   "metadata": {},
   "source": [
    "#### This method is similar to the lower() method, but the casefold() method is stronger,"
   ]
  },
  {
   "cell_type": "raw",
   "id": "07bc6535",
   "metadata": {},
   "source": [
    "Definition and Usage\n",
    "The casefold() method returns a string where all the characters are lower case.\n",
    "\n",
    "This method is similar to the lower() method, but the casefold() method is stronger, more aggressive, meaning that it will convert more characters into lower case, and will find more matches when comparing two strings and both are converted using the casefold() method\n"
   ]
  },
  {
   "cell_type": "raw",
   "id": "f88f9ddb",
   "metadata": {},
   "source": [
    "Syntax:\n",
    "    string.casefold()"
   ]
  },
  {
   "cell_type": "code",
   "execution_count": 96,
   "id": "8b91761f",
   "metadata": {},
   "outputs": [
    {
     "name": "stdout",
     "output_type": "stream",
     "text": [
      "python has a set of built-in methods.\n"
     ]
    }
   ],
   "source": [
    "txt = \"PYTHON HAS A SET OF BUILT-IN METHODS.\"\n",
    "\n",
    "x= txt.casefold()\n",
    "print(x)"
   ]
  },
  {
   "cell_type": "markdown",
   "id": "79826a4e",
   "metadata": {},
   "source": [
    "### 3. String center() Method"
   ]
  },
  {
   "cell_type": "raw",
   "id": "a0273e86",
   "metadata": {},
   "source": [
    "Definition and Usage\n",
    "The center() method will center align the string, using a specified character (space is default) as the fill character."
   ]
  },
  {
   "cell_type": "code",
   "execution_count": 99,
   "id": "acc7ced3",
   "metadata": {},
   "outputs": [
    {
     "name": "stdout",
     "output_type": "stream",
     "text": [
      "   Data Gathering   \n"
     ]
    }
   ],
   "source": [
    "str1= \"Data Gathering\"\n",
    "x=str1.center(20)\n",
    "print(x)"
   ]
  },
  {
   "cell_type": "raw",
   "id": "b55875f3",
   "metadata": {},
   "source": [
    "Using the letter \"*\" as the padding character:"
   ]
  },
  {
   "cell_type": "code",
   "execution_count": 103,
   "id": "d12229e8",
   "metadata": {},
   "outputs": [
    {
     "name": "stdout",
     "output_type": "stream",
     "text": [
      "***Data Gathering***\n"
     ]
    }
   ],
   "source": [
    "str1= \"Data Gathering\"\n",
    "x=str1.center(20,\"*\")\n",
    "print(x)"
   ]
  },
  {
   "cell_type": "markdown",
   "id": "56b4bfa3",
   "metadata": {},
   "source": [
    "### 4. String count() Method:"
   ]
  },
  {
   "cell_type": "raw",
   "id": "8642df34",
   "metadata": {},
   "source": [
    "Definition and Usage:\n",
    "\n",
    "The count() method returns the number of times a specified value appears in the string."
   ]
  },
  {
   "cell_type": "code",
   "execution_count": null,
   "id": "370a9574",
   "metadata": {},
   "outputs": [],
   "source": [
    "Syntax:\n",
    "    \n",
    "string.count(value, start, end)"
   ]
  },
  {
   "cell_type": "code",
   "execution_count": 105,
   "id": "9be3ced6",
   "metadata": {},
   "outputs": [
    {
     "name": "stdout",
     "output_type": "stream",
     "text": [
      "3\n"
     ]
    }
   ],
   "source": [
    "# Return the number of times the value \"apple\" appears in the string:\n",
    "\n",
    "txt = \"I love apples, apple are my apple favorite fruit\"\n",
    "x= txt.count(\"apple\")\n",
    "print(x)"
   ]
  },
  {
   "cell_type": "code",
   "execution_count": 108,
   "id": "59e94160",
   "metadata": {},
   "outputs": [
    {
     "name": "stdout",
     "output_type": "stream",
     "text": [
      "2\n"
     ]
    }
   ],
   "source": [
    "txt = \"I love apples, apple are my apple favorite fruit\"\n",
    "x= txt.count(\"apple\",10,40)\n",
    "print(x)"
   ]
  },
  {
   "cell_type": "markdown",
   "id": "e85c7299",
   "metadata": {},
   "source": [
    "### 5. String encode() Method"
   ]
  },
  {
   "cell_type": "raw",
   "id": "072bae05",
   "metadata": {},
   "source": [
    "Definition and Usage\n",
    "The encode() method encodes the string, using the specified encoding. If no encoding is specified, UTF-8 will be used."
   ]
  },
  {
   "cell_type": "code",
   "execution_count": 112,
   "id": "00ec0521",
   "metadata": {},
   "outputs": [
    {
     "name": "stdout",
     "output_type": "stream",
     "text": [
      "b'My name is St\\xc3\\xa5le'\n"
     ]
    }
   ],
   "source": [
    "xtx= \"My name is Ståle\"\n",
    "x= xtx.encode()\n",
    "print(x)\n"
   ]
  },
  {
   "cell_type": "code",
   "execution_count": 113,
   "id": "203f7806",
   "metadata": {},
   "outputs": [
    {
     "name": "stdout",
     "output_type": "stream",
     "text": [
      "b'My name is St\\\\xe5le'\n",
      "b'My name is Stle'\n",
      "b'My name is St\\\\N{LATIN SMALL LETTER A WITH RING ABOVE}le'\n",
      "b'My name is St?le'\n",
      "b'My name is St&#229;le'\n"
     ]
    }
   ],
   "source": [
    "txt = \"My name is Ståle\"\n",
    "\n",
    "print(txt.encode(encoding=\"ascii\",errors=\"backslashreplace\"))\n",
    "print(txt.encode(encoding=\"ascii\",errors=\"ignore\"))\n",
    "print(txt.encode(encoding=\"ascii\",errors=\"namereplace\"))\n",
    "print(txt.encode(encoding=\"ascii\",errors=\"replace\"))\n",
    "print(txt.encode(encoding=\"ascii\",errors=\"xmlcharrefreplace\"))"
   ]
  },
  {
   "cell_type": "markdown",
   "id": "912cd1ff",
   "metadata": {},
   "source": [
    "### 6. String endswith() Method:"
   ]
  },
  {
   "cell_type": "raw",
   "id": "c5ddcd3d",
   "metadata": {},
   "source": [
    "The endswith() method returns True if the string ends with the specified value, otherwise False."
   ]
  },
  {
   "cell_type": "code",
   "execution_count": null,
   "id": "ae5ea3c1",
   "metadata": {},
   "outputs": [],
   "source": [
    "string.endswith(value, start, end)"
   ]
  },
  {
   "cell_type": "code",
   "execution_count": 114,
   "id": "dd15b858",
   "metadata": {},
   "outputs": [
    {
     "name": "stdout",
     "output_type": "stream",
     "text": [
      "True\n"
     ]
    }
   ],
   "source": [
    "txt = \"Hello, welcome to my world.\"\n",
    "x= txt.endswith(\".\")\n",
    "print(x)"
   ]
  },
  {
   "cell_type": "code",
   "execution_count": 115,
   "id": "2481bfed",
   "metadata": {},
   "outputs": [
    {
     "name": "stdout",
     "output_type": "stream",
     "text": [
      "True\n"
     ]
    }
   ],
   "source": [
    "txt = \"Hello, welcome to my world\"\n",
    "x= txt.endswith(\"world\")\n",
    "print(x)"
   ]
  },
  {
   "cell_type": "code",
   "execution_count": 116,
   "id": "42423d74",
   "metadata": {},
   "outputs": [
    {
     "name": "stdout",
     "output_type": "stream",
     "text": [
      "False\n"
     ]
    }
   ],
   "source": [
    "txt = \"Hello, welcome to my world\"\n",
    "x= txt.endswith(\"my\")\n",
    "print(x)"
   ]
  },
  {
   "cell_type": "code",
   "execution_count": 119,
   "id": "42afb11d",
   "metadata": {},
   "outputs": [
    {
     "name": "stdout",
     "output_type": "stream",
     "text": [
      "True\n"
     ]
    }
   ],
   "source": [
    "txt = \"Hello, welcome to my world\"\n",
    "x= txt.endswith(\"my world\",5,30)\n",
    "print(x)"
   ]
  },
  {
   "cell_type": "markdown",
   "id": "7ab00df4",
   "metadata": {},
   "source": [
    "### 7. String expandtabs() Method"
   ]
  },
  {
   "cell_type": "code",
   "execution_count": null,
   "id": "6314e559",
   "metadata": {},
   "outputs": [],
   "source": [
    "Definition and Usage\n",
    "The expandtabs() method sets the tab size to the specified number of whitespaces."
   ]
  },
  {
   "cell_type": "code",
   "execution_count": 120,
   "id": "9a339e00",
   "metadata": {},
   "outputs": [
    {
     "name": "stdout",
     "output_type": "stream",
     "text": [
      "H e l l o\n"
     ]
    }
   ],
   "source": [
    "txt = \"H\\te\\tl\\tl\\to\"\n",
    "\n",
    "x= txt.expandtabs(2)\n",
    "print(x)"
   ]
  },
  {
   "cell_type": "code",
   "execution_count": 121,
   "id": "723711aa",
   "metadata": {},
   "outputs": [
    {
     "name": "stdout",
     "output_type": "stream",
     "text": [
      "H\te\tl\tl\to\n",
      "H       e       l       l       o\n",
      "H e l l o\n",
      "H   e   l   l   o\n",
      "H         e         l         l         o\n"
     ]
    }
   ],
   "source": [
    "txt = \"H\\te\\tl\\tl\\to\"\n",
    "\n",
    "print(txt)\n",
    "print(txt.expandtabs())\n",
    "print(txt.expandtabs(2))\n",
    "print(txt.expandtabs(4))\n",
    "print(txt.expandtabs(10))"
   ]
  },
  {
   "cell_type": "markdown",
   "id": "f0ce8ad6",
   "metadata": {},
   "source": [
    "### 8. String find() Method:"
   ]
  },
  {
   "cell_type": "raw",
   "id": "44827c43",
   "metadata": {},
   "source": [
    "Definition and Usage:\n",
    "\n",
    "The find() method finds the first occurrence of the specified value.\n",
    "\n",
    "The find() method returns -1 if the value is not found.\n",
    "\n",
    "The find() method is almost the same as the index() method, the only difference is that the index() method raises an exception if the value is not found. (See example below)"
   ]
  },
  {
   "cell_type": "code",
   "execution_count": 124,
   "id": "8a6e8609",
   "metadata": {},
   "outputs": [
    {
     "name": "stdout",
     "output_type": "stream",
     "text": [
      "4\n"
     ]
    }
   ],
   "source": [
    "txt =\"The find() method finds the first occurrence of the specified value.\"\n",
    "\n",
    "x=txt.index(\"find()\")\n",
    "print(x)"
   ]
  },
  {
   "cell_type": "code",
   "execution_count": 132,
   "id": "3fe7ddb9",
   "metadata": {},
   "outputs": [
    {
     "ename": "ValueError",
     "evalue": "substring not found",
     "output_type": "error",
     "traceback": [
      "\u001b[1;31m---------------------------------------------------------------------------\u001b[0m",
      "\u001b[1;31mValueError\u001b[0m                                Traceback (most recent call last)",
      "\u001b[1;32m~\\AppData\\Local\\Temp/ipykernel_19884/2310688600.py\u001b[0m in \u001b[0;36m<module>\u001b[1;34m\u001b[0m\n\u001b[0;32m      1\u001b[0m \u001b[0mtxt\u001b[0m \u001b[1;33m=\u001b[0m\u001b[1;34m\"The find() method finds the first occurrence of the specified value.\"\u001b[0m\u001b[1;33m\u001b[0m\u001b[1;33m\u001b[0m\u001b[0m\n\u001b[0;32m      2\u001b[0m \u001b[1;33m\u001b[0m\u001b[0m\n\u001b[1;32m----> 3\u001b[1;33m \u001b[0mx\u001b[0m\u001b[1;33m=\u001b[0m\u001b[0mtxt\u001b[0m\u001b[1;33m.\u001b[0m\u001b[0mindex\u001b[0m\u001b[1;33m(\u001b[0m\u001b[1;34m\"to\"\u001b[0m\u001b[1;33m)\u001b[0m\u001b[1;33m\u001b[0m\u001b[1;33m\u001b[0m\u001b[0m\n\u001b[0m\u001b[0;32m      4\u001b[0m \u001b[0mprint\u001b[0m\u001b[1;33m(\u001b[0m\u001b[0mx\u001b[0m\u001b[1;33m)\u001b[0m\u001b[1;33m\u001b[0m\u001b[1;33m\u001b[0m\u001b[0m\n",
      "\u001b[1;31mValueError\u001b[0m: substring not found"
     ]
    }
   ],
   "source": [
    "txt =\"The find() method finds the first occurrence of the specified value.\"\n",
    "\n",
    "x=txt.index(\"to\")\n",
    "print(x)"
   ]
  },
  {
   "cell_type": "code",
   "execution_count": 133,
   "id": "5f4b304c",
   "metadata": {},
   "outputs": [
    {
     "name": "stdout",
     "output_type": "stream",
     "text": [
      "4\n"
     ]
    }
   ],
   "source": [
    "txt =\"The find() method finds the first occurrence of the specified value.\"\n",
    "\n",
    "x=txt.find(\"find()\")\n",
    "\n",
    "print(x)"
   ]
  },
  {
   "cell_type": "code",
   "execution_count": 134,
   "id": "0268f63c",
   "metadata": {},
   "outputs": [
    {
     "name": "stdout",
     "output_type": "stream",
     "text": [
      "1\n"
     ]
    }
   ],
   "source": [
    "txt = \"Hello, welcome to my world.\"\n",
    "\n",
    "x = txt.find(\"e\")\n",
    "\n",
    "print(x)\n"
   ]
  },
  {
   "cell_type": "code",
   "execution_count": 137,
   "id": "d583c778",
   "metadata": {},
   "outputs": [
    {
     "name": "stdout",
     "output_type": "stream",
     "text": [
      "8\n"
     ]
    }
   ],
   "source": [
    "txt = \"Hello, welcome to my world.\"\n",
    "\n",
    "x = txt.find(\"e\",5,10)\n",
    "print(x)"
   ]
  },
  {
   "cell_type": "raw",
   "id": "ac77358a",
   "metadata": {},
   "source": [
    "Note:-\n",
    "\n",
    "If the value is not found, the find() method returns -1, but the index() method will raise an exception:"
   ]
  },
  {
   "cell_type": "code",
   "execution_count": 143,
   "id": "359c0461",
   "metadata": {},
   "outputs": [
    {
     "name": "stdout",
     "output_type": "stream",
     "text": [
      "Output using find function is: -1\n",
      "substring not found using index function\n"
     ]
    }
   ],
   "source": [
    "txt = \"Hello, welcome to my world.\"\n",
    "\n",
    "try:\n",
    "    print(\"Output using find function is:\",txt.find(\"q\"))\n",
    "\n",
    "    print(\"Output using find function is:\",txt.index(\"q\"))\n",
    "\n",
    "except:\n",
    "    print(\"substring not found using index function\")"
   ]
  },
  {
   "cell_type": "markdown",
   "id": "b2479705",
   "metadata": {},
   "source": [
    "### 9.String format() Method"
   ]
  },
  {
   "cell_type": "raw",
   "id": "43d3ca91",
   "metadata": {},
   "source": [
    "Definition and Usage\n",
    "The format() method formats the specified value(s) and insert them inside the string's placeholder.\n",
    "\n",
    "The placeholder is defined using curly brackets: {}. Read more about the placeholders in the Placeholder section below.\n",
    "\n",
    "The format() method returns the formatted string."
   ]
  },
  {
   "cell_type": "code",
   "execution_count": 145,
   "id": "3a2452ba",
   "metadata": {},
   "outputs": [
    {
     "name": "stdout",
     "output_type": "stream",
     "text": [
      "For only 150.55 dollars!\n"
     ]
    }
   ],
   "source": [
    "txt = \"For only {price:.2f} dollars!\"\n",
    "print(txt.format(price=150.546))"
   ]
  },
  {
   "cell_type": "raw",
   "id": "bfbafbd4",
   "metadata": {},
   "source": [
    "The Placeholders:\n",
    "\n",
    "The placeholders can be identified using named indexes {price}, numbered indexes {0}, or even empty placeholders {}."
   ]
  },
  {
   "cell_type": "code",
   "execution_count": 147,
   "id": "09a37273",
   "metadata": {},
   "outputs": [
    {
     "name": "stdout",
     "output_type": "stream",
     "text": [
      "My name is John, I'm 36\n",
      "My name is John, I'm 36\n",
      "My name is John, I'm 36\n"
     ]
    }
   ],
   "source": [
    "txt1 = \"My name is {fname}, I'm {age}\".format(fname = \"John\", age = 36)\n",
    "\n",
    "txt2 = \"My name is {0}, I'm {1}\".format(\"John\",36)\n",
    "\n",
    "txt3 = \"My name is {}, I'm {}\".format(\"John\",36)\n",
    "\n",
    "print(txt1)\n",
    "print(txt2)\n",
    "print(txt3)"
   ]
  },
  {
   "cell_type": "code",
   "execution_count": null,
   "id": "8d23ec83",
   "metadata": {},
   "outputs": [],
   "source": [
    "Formatting Types\n",
    "Inside the placeholders you can add a formatting type to format the result:\n",
    "\n",
    ":<\t\tLeft aligns the result (within the available space)\n",
    ":>\t\tRight aligns the result (within the available space)\n",
    ":^\t\tCenter aligns the result (within the available space)\n",
    ":=\t\tPlaces the sign to the left most position\n",
    ":+\t\tUse a plus sign to indicate if the result is positive or negative\n",
    ":-\t\tUse a minus sign for negative values only\n",
    ": \t\tUse a space to insert an extra space before positive numbers (and a minus sign before negative numbers)\n",
    ":,\t\tUse a comma as a thousand separator\n",
    ":_\t\tUse a underscore as a thousand separator\n",
    ":b\t\tBinary format\n",
    ":c\t\tConverts the value into the corresponding unicode character\n",
    ":d\t\tDecimal format\n",
    ":e\t\tScientific format, with a lower case e\n",
    ":E\t\tScientific format, with an upper case E\n",
    ":f\t\tFix point number format\n",
    ":F\t\tFix point number format, in uppercase format (show inf and nan as INF and NAN)\n",
    ":g\t\tGeneral format\n",
    ":G\t\tGeneral format (using a upper case E for scientific notations)\n",
    ":o\t\tOctal format\n",
    ":x\t\tHex format, lower case\n",
    ":X\t\tHex format, upper case\n",
    ":n\t\tNumber format\n",
    ":%\t\tPercentage format"
   ]
  },
  {
   "cell_type": "markdown",
   "id": "dbb8a268",
   "metadata": {},
   "source": [
    "### 10. String index() Method"
   ]
  },
  {
   "cell_type": "code",
   "execution_count": null,
   "id": "17247191",
   "metadata": {},
   "outputs": [],
   "source": [
    "Definition and Usage\n",
    "\n",
    "The index() method finds the first occurrence of the specified value.\n",
    "\n",
    "The index() method raises an exception if the value is not found.\n",
    "\n",
    "The index() method is almost the same as the find() method, the only difference is that the find() method returns -1 if the value is not found. (See example below)\n",
    "\n"
   ]
  },
  {
   "cell_type": "code",
   "execution_count": 149,
   "id": "fe4b3dbb",
   "metadata": {},
   "outputs": [
    {
     "name": "stdout",
     "output_type": "stream",
     "text": [
      "7\n"
     ]
    }
   ],
   "source": [
    "txt = \"Hello, welcome to my world.\"\n",
    "\n",
    "x= txt.index(\"welcome\")\n",
    "print(x)"
   ]
  },
  {
   "cell_type": "code",
   "execution_count": 150,
   "id": "34dd96ca",
   "metadata": {},
   "outputs": [
    {
     "name": "stdout",
     "output_type": "stream",
     "text": [
      "1\n"
     ]
    }
   ],
   "source": [
    "txt = \"Hello, welcome to my world.\"\n",
    "\n",
    "x = txt.index(\"e\")\n",
    "\n",
    "print(x)"
   ]
  },
  {
   "cell_type": "code",
   "execution_count": 151,
   "id": "6158fd3f",
   "metadata": {},
   "outputs": [
    {
     "name": "stdout",
     "output_type": "stream",
     "text": [
      "8\n"
     ]
    }
   ],
   "source": [
    "txt = \"Hello, welcome to my world.\"\n",
    "\n",
    "x = txt.index(\"e\", 5, 10)\n",
    "\n",
    "print(x)"
   ]
  },
  {
   "cell_type": "code",
   "execution_count": 152,
   "id": "cc497fc0",
   "metadata": {},
   "outputs": [
    {
     "name": "stdout",
     "output_type": "stream",
     "text": [
      "-1\n"
     ]
    },
    {
     "ename": "ValueError",
     "evalue": "substring not found",
     "output_type": "error",
     "traceback": [
      "\u001b[1;31m---------------------------------------------------------------------------\u001b[0m",
      "\u001b[1;31mValueError\u001b[0m                                Traceback (most recent call last)",
      "\u001b[1;32m~\\AppData\\Local\\Temp/ipykernel_19884/2078698787.py\u001b[0m in \u001b[0;36m<module>\u001b[1;34m\u001b[0m\n\u001b[0;32m      2\u001b[0m \u001b[1;33m\u001b[0m\u001b[0m\n\u001b[0;32m      3\u001b[0m \u001b[0mprint\u001b[0m\u001b[1;33m(\u001b[0m\u001b[0mtxt\u001b[0m\u001b[1;33m.\u001b[0m\u001b[0mfind\u001b[0m\u001b[1;33m(\u001b[0m\u001b[1;34m\"q\"\u001b[0m\u001b[1;33m)\u001b[0m\u001b[1;33m)\u001b[0m\u001b[1;33m\u001b[0m\u001b[1;33m\u001b[0m\u001b[0m\n\u001b[1;32m----> 4\u001b[1;33m \u001b[0mprint\u001b[0m\u001b[1;33m(\u001b[0m\u001b[0mtxt\u001b[0m\u001b[1;33m.\u001b[0m\u001b[0mindex\u001b[0m\u001b[1;33m(\u001b[0m\u001b[1;34m\"q\"\u001b[0m\u001b[1;33m)\u001b[0m\u001b[1;33m)\u001b[0m\u001b[1;33m\u001b[0m\u001b[1;33m\u001b[0m\u001b[0m\n\u001b[0m",
      "\u001b[1;31mValueError\u001b[0m: substring not found"
     ]
    }
   ],
   "source": [
    "txt = \"Hello, welcome to my world.\"\n",
    "\n",
    "print(txt.find(\"q\"))\n",
    "print(txt.index(\"q\"))"
   ]
  },
  {
   "cell_type": "markdown",
   "id": "31e82826",
   "metadata": {},
   "source": [
    "### 11. String isalnum() Method"
   ]
  },
  {
   "cell_type": "raw",
   "id": "25641c58",
   "metadata": {},
   "source": [
    "Definition and Usage\n",
    "The isalnum() method returns True if all the characters are alphanumeric, meaning alphabet letter (a-z) and numbers (0-9).\n",
    "\n",
    "Example of characters that are not alphanumeric: (space)!#%&? etc."
   ]
  },
  {
   "cell_type": "code",
   "execution_count": 158,
   "id": "46f150e0",
   "metadata": {},
   "outputs": [
    {
     "name": "stdout",
     "output_type": "stream",
     "text": [
      "True\n"
     ]
    }
   ],
   "source": [
    "xtx= \"DataMining13323\"\n",
    "\n",
    "x=xtx.isalnum()\n",
    "print(x)"
   ]
  },
  {
   "cell_type": "code",
   "execution_count": 161,
   "id": "c212ab41",
   "metadata": {},
   "outputs": [
    {
     "name": "stdout",
     "output_type": "stream",
     "text": [
      "False\n"
     ]
    }
   ],
   "source": [
    "txt= \" Data Mining\"   # spaces are included\n",
    "x= txt.isalnum()\n",
    "print(x)"
   ]
  },
  {
   "cell_type": "markdown",
   "id": "53e8fd02",
   "metadata": {},
   "source": [
    "### 12.  isalpha() Method:\n"
   ]
  },
  {
   "cell_type": "raw",
   "id": "b118a8c7",
   "metadata": {},
   "source": [
    "Definition and Usage\n",
    "The isalpha() method returns True if all the characters are alphabet letters (a-z).\n",
    "\n",
    "Example of characters that are not alphabet letters: (space)!#%&? etc."
   ]
  },
  {
   "cell_type": "code",
   "execution_count": 162,
   "id": "a1e1f28a",
   "metadata": {},
   "outputs": [
    {
     "name": "stdout",
     "output_type": "stream",
     "text": [
      "False\n"
     ]
    }
   ],
   "source": [
    "txt = \" Deep Learning\"\n",
    "x= txt.isalpha()\n",
    "print(x)"
   ]
  },
  {
   "cell_type": "code",
   "execution_count": 163,
   "id": "a560858e",
   "metadata": {},
   "outputs": [
    {
     "name": "stdout",
     "output_type": "stream",
     "text": [
      "True\n"
     ]
    }
   ],
   "source": [
    "txt = \"DeepLearning\"\n",
    "x= txt.isalpha()\n",
    "print(x)"
   ]
  },
  {
   "cell_type": "code",
   "execution_count": 165,
   "id": "58612122",
   "metadata": {},
   "outputs": [
    {
     "name": "stdout",
     "output_type": "stream",
     "text": [
      "False\n"
     ]
    }
   ],
   "source": [
    "txt = \"DeepLearninG1632\"\n",
    "x= txt.isalpha()\n",
    "print(x)"
   ]
  },
  {
   "cell_type": "markdown",
   "id": "4fb54570",
   "metadata": {},
   "source": [
    "### 13. isdecimal() Method"
   ]
  },
  {
   "cell_type": "code",
   "execution_count": null,
   "id": "4042a278",
   "metadata": {},
   "outputs": [],
   "source": [
    "Definition and Usage\n",
    "The isdecimal() method returns True if all the characters are decimals (0-9).\n",
    "\n",
    "This method is used on unicode objects.\n",
    "\n"
   ]
  },
  {
   "cell_type": "code",
   "execution_count": 166,
   "id": "2dd24816",
   "metadata": {},
   "outputs": [
    {
     "name": "stdout",
     "output_type": "stream",
     "text": [
      "True\n"
     ]
    }
   ],
   "source": [
    "txt = \"\\u0033\" #unicode for 3\n",
    "\n",
    "x = txt.isdecimal()\n",
    "\n",
    "print(x)"
   ]
  },
  {
   "cell_type": "code",
   "execution_count": 167,
   "id": "79291e78",
   "metadata": {},
   "outputs": [
    {
     "name": "stdout",
     "output_type": "stream",
     "text": [
      "True\n",
      "False\n"
     ]
    }
   ],
   "source": [
    "a = \"\\u0030\" #unicode for 0\n",
    "b = \"\\u0047\" #unicode for G\n",
    "\n",
    "print(a.isdecimal())\n",
    "print(b.isdecimal())"
   ]
  },
  {
   "cell_type": "markdown",
   "id": "09b70780",
   "metadata": {},
   "source": [
    "### 14.String isdigit() Method"
   ]
  },
  {
   "cell_type": "raw",
   "id": "20e7c37f",
   "metadata": {},
   "source": [
    "Definition and Usage\n",
    "The isdigit() method returns True if all the characters are digits, otherwise False.\n",
    "\n",
    "Exponents, like ², are also considered to be a di"
   ]
  },
  {
   "cell_type": "code",
   "execution_count": 168,
   "id": "b817c7fa",
   "metadata": {},
   "outputs": [
    {
     "name": "stdout",
     "output_type": "stream",
     "text": [
      "False\n"
     ]
    }
   ],
   "source": [
    "txt = \"646427.2\"\n",
    "x= txt.isdigit()\n",
    "print(x)"
   ]
  },
  {
   "cell_type": "code",
   "execution_count": 169,
   "id": "c35120a2",
   "metadata": {},
   "outputs": [
    {
     "name": "stdout",
     "output_type": "stream",
     "text": [
      "True\n"
     ]
    }
   ],
   "source": [
    "txt = \"6464272\"\n",
    "x= txt.isdigit()\n",
    "print(x)"
   ]
  },
  {
   "cell_type": "code",
   "execution_count": 170,
   "id": "8cc3a0b9",
   "metadata": {},
   "outputs": [
    {
     "name": "stdout",
     "output_type": "stream",
     "text": [
      "False\n"
     ]
    }
   ],
   "source": [
    "txt = \"ADSV646427.2\"\n",
    "x= txt.isdigit()\n",
    "print(x)"
   ]
  },
  {
   "cell_type": "code",
   "execution_count": 171,
   "id": "08231f05",
   "metadata": {},
   "outputs": [
    {
     "name": "stdout",
     "output_type": "stream",
     "text": [
      "True\n",
      "True\n"
     ]
    }
   ],
   "source": [
    "a = \"\\u0030\" #unicode for 0\n",
    "b = \"\\u00B2\" #unicode for ²\n",
    "\n",
    "print(a.isdigit())\n",
    "print(b.isdigit())"
   ]
  },
  {
   "cell_type": "markdown",
   "id": "c4bd2624",
   "metadata": {},
   "source": [
    "### 15. String isidentifier() Method"
   ]
  },
  {
   "cell_type": "raw",
   "id": "62b5fdfc",
   "metadata": {},
   "source": [
    "Definition and Usage\n",
    "The isidentifier() method returns True if the string is a valid identifier, otherwise False.\n",
    "\n",
    "A string is considered a valid identifier if it only contains alphanumeric letters (a-z) and (0-9), or underscores (_). A valid identifier cannot start with a number, or contain any spaces."
   ]
  },
  {
   "cell_type": "code",
   "execution_count": 172,
   "id": "4c93c189",
   "metadata": {},
   "outputs": [
    {
     "name": "stdout",
     "output_type": "stream",
     "text": [
      "True\n"
     ]
    }
   ],
   "source": [
    "txt = \"Demo\"\n",
    "\n",
    "x = txt.isidentifier()\n",
    "\n",
    "print(x)"
   ]
  },
  {
   "cell_type": "code",
   "execution_count": 175,
   "id": "c0a0e624",
   "metadata": {},
   "outputs": [
    {
     "name": "stdout",
     "output_type": "stream",
     "text": [
      "True\n",
      "True\n",
      "False\n",
      "False\n"
     ]
    }
   ],
   "source": [
    "# Check if the strings are valid identifiers:\n",
    "\n",
    "a = \"MyFolder\"\n",
    "b = \"Demo002\"\n",
    "c = \"2bring\"\n",
    "d = \"my demo\"\n",
    "\n",
    "print(a.isidentifier())\n",
    "print(b.isidentifier())\n",
    "print(c.isidentifier())\n",
    "print(d.isidentifier())"
   ]
  },
  {
   "cell_type": "markdown",
   "id": "6340dad0",
   "metadata": {},
   "source": [
    "### 16. String islower() Method"
   ]
  },
  {
   "cell_type": "raw",
   "id": "0b1fa5be",
   "metadata": {},
   "source": [
    "Definition and Usage\n",
    "The islower() method returns True if all the characters are in lower case, otherwise False.\n",
    "\n",
    "Numbers, symbols and spaces are not checked, only alphabet characters.\n",
    "\n"
   ]
  },
  {
   "cell_type": "code",
   "execution_count": 176,
   "id": "79c6243b",
   "metadata": {},
   "outputs": [
    {
     "name": "stdout",
     "output_type": "stream",
     "text": [
      "False\n"
     ]
    }
   ],
   "source": [
    "txt = \"Machine learning\"\n",
    "\n",
    "x = txt.islower()\n",
    "\n",
    "print(x)"
   ]
  },
  {
   "cell_type": "code",
   "execution_count": 177,
   "id": "45fa1c0c",
   "metadata": {},
   "outputs": [
    {
     "name": "stdout",
     "output_type": "stream",
     "text": [
      "False\n"
     ]
    }
   ],
   "source": [
    "txt = \"Machine learning1213\"\n",
    "\n",
    "x = txt.islower()\n",
    "\n",
    "print(x)"
   ]
  },
  {
   "cell_type": "code",
   "execution_count": 178,
   "id": "f30dd685",
   "metadata": {},
   "outputs": [
    {
     "name": "stdout",
     "output_type": "stream",
     "text": [
      "True\n"
     ]
    }
   ],
   "source": [
    "txt = \"machine learning\"\n",
    "\n",
    "x = txt.islower()\n",
    "\n",
    "print(x)"
   ]
  },
  {
   "cell_type": "code",
   "execution_count": 180,
   "id": "d42712db",
   "metadata": {},
   "outputs": [
    {
     "name": "stdout",
     "output_type": "stream",
     "text": [
      "False\n",
      "True\n",
      "False\n"
     ]
    }
   ],
   "source": [
    "a = \"Hello Python\"\n",
    "b = \"hello 123\"\n",
    "c = \"mynameisPeter\"\n",
    "\n",
    "print(a.islower())\n",
    "print(b.islower())\n",
    "print(c.islower())"
   ]
  },
  {
   "cell_type": "markdown",
   "id": "3ba76da8",
   "metadata": {},
   "source": [
    "### 17.String isnumeric() Method"
   ]
  },
  {
   "cell_type": "raw",
   "id": "14333b44",
   "metadata": {},
   "source": [
    "Definition and Usage\n",
    "The isnumeric() method returns True if all the characters are numeric (0-9), otherwise False.\n",
    "\n",
    "Exponents, like ² and ¾ are also considered to be numeric values.\n",
    "\n",
    "\"-1\" and \"1.5\" are NOT considered numeric values, because all the characters in the string must be numeric, and the - and the . are not."
   ]
  },
  {
   "cell_type": "code",
   "execution_count": 181,
   "id": "bcfac4a2",
   "metadata": {},
   "outputs": [
    {
     "name": "stdout",
     "output_type": "stream",
     "text": [
      "True\n"
     ]
    }
   ],
   "source": [
    "txt = \"565543\"\n",
    "x = txt.isnumeric()\n",
    "\n",
    "print(x)"
   ]
  },
  {
   "cell_type": "code",
   "execution_count": 182,
   "id": "42caf818",
   "metadata": {},
   "outputs": [
    {
     "name": "stdout",
     "output_type": "stream",
     "text": [
      "False\n"
     ]
    }
   ],
   "source": [
    "txt = \"565 543 455\"\n",
    "x = txt.isnumeric()\n",
    "print(x)"
   ]
  },
  {
   "cell_type": "code",
   "execution_count": 183,
   "id": "f17518b3",
   "metadata": {},
   "outputs": [
    {
     "name": "stdout",
     "output_type": "stream",
     "text": [
      "True\n",
      "True\n",
      "False\n",
      "False\n",
      "False\n"
     ]
    }
   ],
   "source": [
    "a = \"\\u0030\"             #unicode for 0\n",
    "b = \"\\u00B2\"           #unicode for &sup2;\n",
    "c = \"10km2\"\n",
    "d = \"-1\"\n",
    "e = \"1.5\"\n",
    "\n",
    "print(a.isnumeric())\n",
    "print(b.isnumeric())\n",
    "print(c.isnumeric())\n",
    "print(d.isnumeric())\n",
    "print(e.isnumeric())"
   ]
  },
  {
   "cell_type": "markdown",
   "id": "0e8d1f15",
   "metadata": {},
   "source": [
    "### 18.String isprintable() Method"
   ]
  },
  {
   "cell_type": "raw",
   "id": "27482b7c",
   "metadata": {},
   "source": [
    "Definition and Usage\n",
    "The isprintable() method returns True if all the characters are printable, otherwise False.\n",
    "\n",
    "Example of none printable character can be carriage return and line feed."
   ]
  },
  {
   "cell_type": "code",
   "execution_count": 184,
   "id": "d63f7755",
   "metadata": {},
   "outputs": [
    {
     "name": "stdout",
     "output_type": "stream",
     "text": [
      "True\n"
     ]
    }
   ],
   "source": [
    "txt = \"Hello! Are you #1?\"\n",
    "x = txt.isprintable()\n",
    "print(x)"
   ]
  },
  {
   "cell_type": "code",
   "execution_count": 186,
   "id": "b12b67fd",
   "metadata": {},
   "outputs": [
    {
     "name": "stdout",
     "output_type": "stream",
     "text": [
      "False\n"
     ]
    }
   ],
   "source": [
    "txt = \"Hello!\\nAre you #1?\"\n",
    "x = txt.isprintable()\n",
    "print(x)"
   ]
  },
  {
   "cell_type": "markdown",
   "id": "3b27892b",
   "metadata": {},
   "source": [
    "### 19. String isspace() Method"
   ]
  },
  {
   "cell_type": "raw",
   "id": "c6db5990",
   "metadata": {},
   "source": [
    "Definition and Usage\n",
    "The isspace() method returns True if all the characters in a string are whitespaces, otherwise False.\n"
   ]
  },
  {
   "cell_type": "code",
   "execution_count": 187,
   "id": "0a794e36",
   "metadata": {},
   "outputs": [
    {
     "name": "stdout",
     "output_type": "stream",
     "text": [
      "True\n"
     ]
    }
   ],
   "source": [
    "txt= \"   \"\n",
    "x= txt.isspace()\n",
    "print(x)"
   ]
  },
  {
   "cell_type": "code",
   "execution_count": 188,
   "id": "8567ba75",
   "metadata": {},
   "outputs": [
    {
     "name": "stdout",
     "output_type": "stream",
     "text": [
      "False\n"
     ]
    }
   ],
   "source": [
    "txt= \"   d   \"\n",
    "x= txt.isspace()\n",
    "print(x)"
   ]
  },
  {
   "cell_type": "markdown",
   "id": "3bdc8db7",
   "metadata": {},
   "source": [
    "### 20.String istitle() Method"
   ]
  },
  {
   "cell_type": "raw",
   "id": "d6db0fca",
   "metadata": {},
   "source": [
    "Definition and Usage\n",
    "The istitle() method returns True if all words in a text start with a upper case letter, AND the rest of the word are lower case letters, otherwise False.\n",
    "\n",
    "Symbols and numbers are ignored."
   ]
  },
  {
   "cell_type": "code",
   "execution_count": 192,
   "id": "822651b5",
   "metadata": {},
   "outputs": [
    {
     "name": "stdout",
     "output_type": "stream",
     "text": [
      "False\n"
     ]
    }
   ],
   "source": [
    "txt = \"Hello, And Welcome to Python Tutorial\"\n",
    "\n",
    "z= txt.istitle()\n",
    "print(x)"
   ]
  },
  {
   "cell_type": "code",
   "execution_count": 193,
   "id": "37233807",
   "metadata": {},
   "outputs": [
    {
     "name": "stdout",
     "output_type": "stream",
     "text": [
      "True\n"
     ]
    }
   ],
   "source": [
    "txt = \"Hello, And Welcome To Python Tutorial\"\n",
    "\n",
    "z= txt.istitle()\n",
    "print(z)"
   ]
  },
  {
   "cell_type": "code",
   "execution_count": 194,
   "id": "e1cb1103",
   "metadata": {},
   "outputs": [
    {
     "name": "stdout",
     "output_type": "stream",
     "text": [
      "False\n",
      "True\n",
      "True\n",
      "True\n"
     ]
    }
   ],
   "source": [
    "a = \"HELLO, AND WELCOME TO MY WORLD\"\n",
    "b = \"Hello\"\n",
    "c = \"22 Names\"\n",
    "d = \"This Is %'!?\"\n",
    "\n",
    "print(a.istitle())\n",
    "print(b.istitle())\n",
    "print(c.istitle())\n",
    "print(d.istitle())"
   ]
  },
  {
   "cell_type": "markdown",
   "id": "f81faa8a",
   "metadata": {},
   "source": [
    "### 21.String isupper() Method"
   ]
  },
  {
   "cell_type": "code",
   "execution_count": 1,
   "id": "fed747be",
   "metadata": {},
   "outputs": [
    {
     "name": "stdout",
     "output_type": "stream",
     "text": [
      "True\n"
     ]
    }
   ],
   "source": [
    "txt= \"THIS IS PYTHON\"\n",
    "\n",
    "X= txt.isupper()\n",
    "print(X)"
   ]
  },
  {
   "cell_type": "code",
   "execution_count": 2,
   "id": "58fb7a96",
   "metadata": {},
   "outputs": [
    {
     "name": "stdout",
     "output_type": "stream",
     "text": [
      "False\n",
      "False\n",
      "True\n"
     ]
    }
   ],
   "source": [
    "a = \"Hello World!\"\n",
    "b = \"hello 123\"\n",
    "c = \"MY NAME IS PETER\"\n",
    "\n",
    "print(a.isupper())\n",
    "print(b.isupper())\n",
    "print(c.isupper())"
   ]
  },
  {
   "cell_type": "markdown",
   "id": "55067030",
   "metadata": {},
   "source": [
    "### 22.String join() Method"
   ]
  },
  {
   "cell_type": "raw",
   "id": "cdc22049",
   "metadata": {},
   "source": [
    "Definition and Usage\n",
    "\n",
    "The join() method takes all items in an iterable and joins them into one string.\n",
    "\n",
    "A string must be specified as the separator.\n",
    "\n"
   ]
  },
  {
   "cell_type": "code",
   "execution_count": 4,
   "id": "71765283",
   "metadata": {},
   "outputs": [
    {
     "name": "stdout",
     "output_type": "stream",
     "text": [
      "Amar + Ajit + Shashi\n"
     ]
    }
   ],
   "source": [
    "tupl1=(\"Amar\",'Ajit',\"Shashi\")\n",
    "\n",
    "x= \"  \".join(tupl1)\n",
    "print(x)"
   ]
  },
  {
   "cell_type": "code",
   "execution_count": 5,
   "id": "0a673793",
   "metadata": {},
   "outputs": [
    {
     "name": "stdout",
     "output_type": "stream",
     "text": [
      "Amar + Ajit + Shashi\n"
     ]
    }
   ],
   "source": [
    "tupl1=(\"Amar\",'Ajit',\"Shashi\")\n",
    "\n",
    "x= \" + \".join(tupl1)\n",
    "print(x)"
   ]
  },
  {
   "cell_type": "code",
   "execution_count": 9,
   "id": "5e9921c6",
   "metadata": {},
   "outputs": [
    {
     "name": "stdout",
     "output_type": "stream",
     "text": [
      "name TEST country\n"
     ]
    }
   ],
   "source": [
    "myDict = {\"name\": \"John\", \"country\": \"Norway\"}\n",
    "\n",
    "my_seperator= \" TEST \"\n",
    "\n",
    "x= my_seperator.join(myDict)\n",
    "print(x)"
   ]
  },
  {
   "cell_type": "markdown",
   "id": "bd66e28d",
   "metadata": {},
   "source": [
    "### 23. String ljust() Method"
   ]
  },
  {
   "cell_type": "raw",
   "id": "d9c178fb",
   "metadata": {},
   "source": [
    "Definition and Usage\n",
    "The ljust() method will left align the string, using a specified character (space is default) as the fill character."
   ]
  },
  {
   "cell_type": "code",
   "execution_count": 10,
   "id": "2c778760",
   "metadata": {},
   "outputs": [
    {
     "name": "stdout",
     "output_type": "stream",
     "text": [
      "banana               is my favorite fruit.\n"
     ]
    }
   ],
   "source": [
    "txt = \"banana\"\n",
    "\n",
    "x = txt.ljust(20)\n",
    "\n",
    "print(x, \"is my favorite fruit.\")"
   ]
  },
  {
   "cell_type": "code",
   "execution_count": 11,
   "id": "3f3c3053",
   "metadata": {},
   "outputs": [
    {
     "name": "stdout",
     "output_type": "stream",
     "text": [
      "bananaOOOOOOOOOOOOOO\n"
     ]
    }
   ],
   "source": [
    "txt = \"banana\"\n",
    "\n",
    "x = txt.ljust(20, \"O\")\n",
    "\n",
    "print(x)"
   ]
  },
  {
   "cell_type": "markdown",
   "id": "6b207b3c",
   "metadata": {},
   "source": [
    "### 24. String lower() Method"
   ]
  },
  {
   "cell_type": "raw",
   "id": "d8642f29",
   "metadata": {},
   "source": [
    "Definition and Usage\n",
    "The lower() method returns a string where all characters are lower case.\n",
    "\n",
    " Symbols and Numbers are ignored."
   ]
  },
  {
   "cell_type": "code",
   "execution_count": 12,
   "id": "3603ae59",
   "metadata": {},
   "outputs": [
    {
     "name": "stdout",
     "output_type": "stream",
     "text": [
      "definition and usage\n"
     ]
    }
   ],
   "source": [
    "txt= \"Definition AND Usage\"\n",
    "\n",
    "x= txt.lower()\n",
    "\n",
    "print(x)"
   ]
  },
  {
   "cell_type": "markdown",
   "id": "cc22de00",
   "metadata": {},
   "source": [
    "### 25.String lstrip() Method"
   ]
  },
  {
   "cell_type": "raw",
   "id": "0c24a277",
   "metadata": {},
   "source": [
    "Definition and Usage\n",
    "The lstrip() method removes any leading characters (space is the default leading character to remove)"
   ]
  },
  {
   "cell_type": "code",
   "execution_count": 15,
   "id": "9518f5dd",
   "metadata": {},
   "outputs": [
    {
     "name": "stdout",
     "output_type": "stream",
     "text": [
      "He got 20LPA                Package\n"
     ]
    }
   ],
   "source": [
    "txt= \"           20LPA               \"\n",
    "x= txt.lstrip()\n",
    "print(\"He got\",x,\"Package\")"
   ]
  },
  {
   "cell_type": "code",
   "execution_count": 16,
   "id": "61f954fc",
   "metadata": {},
   "outputs": [
    {
     "name": "stdout",
     "output_type": "stream",
     "text": [
      "banana\n"
     ]
    }
   ],
   "source": [
    "txt = \",,,,,ssaaww.....banana\"\n",
    "\n",
    "x = txt.lstrip(\",.asw\")\n",
    "\n",
    "print(x)"
   ]
  },
  {
   "cell_type": "markdown",
   "id": "7c6d60bd",
   "metadata": {},
   "source": [
    "### 26. String maketrans() Method"
   ]
  },
  {
   "cell_type": "raw",
   "id": "c1c4f4ba",
   "metadata": {},
   "source": [
    "Definition and Usage\n",
    "The maketrans() method returns a mapping table that can be used with the translate() method to replace specified characters."
   ]
  },
  {
   "cell_type": "raw",
   "id": "65f02bfc",
   "metadata": {},
   "source": [
    "Create a mapping table, and use it in the translate() method to replace any \"S\" characters with a \"P\" character:"
   ]
  },
  {
   "cell_type": "code",
   "execution_count": 17,
   "id": "0a86887c",
   "metadata": {},
   "outputs": [
    {
     "name": "stdout",
     "output_type": "stream",
     "text": [
      "Hello Pam!\n"
     ]
    }
   ],
   "source": [
    "txt = \"Hello Sam!\"\n",
    "mytable = txt.maketrans(\"S\", \"P\")\n",
    "print(txt.translate(mytable))"
   ]
  },
  {
   "cell_type": "code",
   "execution_count": 18,
   "id": "48fbff51",
   "metadata": {},
   "outputs": [
    {
     "name": "stdout",
     "output_type": "stream",
     "text": [
      "Hi Joe!\n"
     ]
    }
   ],
   "source": [
    "txt = \"Hi Sam!\"\n",
    "x = \"mSa\"\n",
    "y = \"eJo\"\n",
    "mytable = txt.maketrans(x, y)\n",
    "print(txt.translate(mytable))"
   ]
  },
  {
   "cell_type": "code",
   "execution_count": 19,
   "id": "a5d2b9da",
   "metadata": {},
   "outputs": [
    {
     "name": "stdout",
     "output_type": "stream",
     "text": [
      "G i Joe!\n"
     ]
    }
   ],
   "source": [
    "txt = \"Good night Sam!\"\n",
    "x = \"mSa\"\n",
    "y = \"eJo\"\n",
    "z = \"odnght\"\n",
    "mytable = txt.maketrans(x, y, z)\n",
    "print(txt.translate(mytable))"
   ]
  },
  {
   "cell_type": "raw",
   "id": "363b074e",
   "metadata": {},
   "source": [
    "The maketrans() method itself returns a dictionary describing each replacement, in unicode:"
   ]
  },
  {
   "cell_type": "code",
   "execution_count": 20,
   "id": "6a054b1c",
   "metadata": {},
   "outputs": [
    {
     "name": "stdout",
     "output_type": "stream",
     "text": [
      "{109: 101, 83: 74, 97: 111, 111: None, 100: None, 110: None, 103: None, 104: None, 116: None}\n"
     ]
    }
   ],
   "source": [
    "txt = \"Good night Sam!\"\n",
    "x = \"mSa\"\n",
    "y = \"eJo\"\n",
    "z = \"odnght\"\n",
    "print(txt.maketrans(x, y, z))"
   ]
  },
  {
   "cell_type": "markdown",
   "id": "1105dde4",
   "metadata": {},
   "source": [
    "### 27. String partition() Method"
   ]
  },
  {
   "cell_type": "raw",
   "id": "6c678ebe",
   "metadata": {},
   "source": [
    "Definition and Usage\n",
    "The partition() method searches for a specified string, and splits the string into a tuple containing three elements.\n",
    "\n",
    "The first element contains the part before the specified string.\n",
    "\n",
    "The second element contains the specified string.\n",
    "\n",
    "The third element contains the part after the string.\n",
    "\n",
    "Note: This method searches for the first occurrence of the specified string."
   ]
  },
  {
   "cell_type": "code",
   "execution_count": 21,
   "id": "d1d18b92",
   "metadata": {},
   "outputs": [
    {
     "name": "stdout",
     "output_type": "stream",
     "text": [
      "('I could eat ', 'bananas', ' all day')\n"
     ]
    }
   ],
   "source": [
    "txt = \"I could eat bananas all day\"\n",
    "\n",
    "x= txt.partition(\"bananas\")\n",
    "print(x)"
   ]
  },
  {
   "cell_type": "code",
   "execution_count": 22,
   "id": "89f177d8",
   "metadata": {},
   "outputs": [
    {
     "name": "stdout",
     "output_type": "stream",
     "text": [
      "('I could eat bananas all day', '', '')\n"
     ]
    }
   ],
   "source": [
    "txt = \"I could eat bananas all day\"\n",
    "\n",
    "x = txt.partition(\"apples\")\n",
    "\n",
    "print(x)"
   ]
  },
  {
   "cell_type": "markdown",
   "id": "b777e686",
   "metadata": {},
   "source": [
    "### 29. String replace() Method"
   ]
  },
  {
   "cell_type": "code",
   "execution_count": 23,
   "id": "2af74690",
   "metadata": {},
   "outputs": [
    {
     "name": "stdout",
     "output_type": "stream",
     "text": [
      " I like apple\n"
     ]
    }
   ],
   "source": [
    "txt= \" I like bananas\"\n",
    "\n",
    "x= txt.replace(\"bananas\",\"apple\")\n",
    "print(x)"
   ]
  },
  {
   "cell_type": "code",
   "execution_count": 24,
   "id": "218936a1",
   "metadata": {},
   "outputs": [
    {
     "name": "stdout",
     "output_type": "stream",
     "text": [
      "three three was a race horse, two two was three too.\n"
     ]
    }
   ],
   "source": [
    "txt = \"one one was a race horse, two two was one too.\"\n",
    "\n",
    "x = txt.replace(\"one\", \"three\")\n",
    "\n",
    "print(x)"
   ]
  },
  {
   "cell_type": "code",
   "execution_count": 25,
   "id": "41562d01",
   "metadata": {},
   "outputs": [
    {
     "name": "stdout",
     "output_type": "stream",
     "text": [
      "three three was a race horse, two two was one too.\n"
     ]
    }
   ],
   "source": [
    "txt = \"one one was a race horse, two two was one too.\"\n",
    "\n",
    "x = txt.replace(\"one\", \"three\", 2)\n",
    "\n",
    "print(x)"
   ]
  },
  {
   "cell_type": "markdown",
   "id": "c292ad68",
   "metadata": {},
   "source": [
    "### 30. String rstrip() Method"
   ]
  },
  {
   "cell_type": "raw",
   "id": "1c7960e9",
   "metadata": {},
   "source": [
    "Definition and Usage\n",
    "The rstrip() method removes any trailing characters (characters at the end a string), space is the default trailing character to remove."
   ]
  },
  {
   "cell_type": "code",
   "execution_count": 26,
   "id": "3afde8c8",
   "metadata": {},
   "outputs": [
    {
     "name": "stdout",
     "output_type": "stream",
     "text": [
      "of all fruits      banana is my favorite\n"
     ]
    }
   ],
   "source": [
    "txt = \"     banana     \"\n",
    "\n",
    "x = txt.rstrip()\n",
    "\n",
    "print(\"of all fruits\", x, \"is my favorite\")"
   ]
  },
  {
   "cell_type": "code",
   "execution_count": 27,
   "id": "6d6a77e2",
   "metadata": {},
   "outputs": [
    {
     "name": "stdout",
     "output_type": "stream",
     "text": [
      "banana\n"
     ]
    }
   ],
   "source": [
    "txt = \"banana,,,,,ssqqqww.....\"\n",
    "\n",
    "x = txt.rstrip(\",.qsw\")\n",
    "\n",
    "print(x)"
   ]
  },
  {
   "cell_type": "markdown",
   "id": "d51f0848",
   "metadata": {},
   "source": [
    "### 31. String split() Method"
   ]
  },
  {
   "cell_type": "code",
   "execution_count": 29,
   "id": "43e668f3",
   "metadata": {},
   "outputs": [
    {
     "name": "stdout",
     "output_type": "stream",
     "text": [
      "['Phton', 'is', 'very', 'easy', 'language']\n"
     ]
    }
   ],
   "source": [
    "txt= \" Phton is very easy language\"\n",
    "\n",
    "x= txt.split()\n",
    "print(x)"
   ]
  },
  {
   "cell_type": "code",
   "execution_count": 30,
   "id": "5364a5ee",
   "metadata": {},
   "outputs": [
    {
     "name": "stdout",
     "output_type": "stream",
     "text": [
      "[' Phton is very, very easy language']\n"
     ]
    }
   ],
   "source": [
    "txt= \" Phton is very, very easy language\"\n",
    "\n",
    "x= txt.split(\" , \")\n",
    "print(x)"
   ]
  },
  {
   "cell_type": "code",
   "execution_count": 31,
   "id": "9078fe58",
   "metadata": {},
   "outputs": [
    {
     "name": "stdout",
     "output_type": "stream",
     "text": [
      "['apple', 'banana', 'cherry', 'orange']\n"
     ]
    }
   ],
   "source": [
    "txt = \"apple#banana#cherry#orange\"\n",
    "\n",
    "x = txt.split(\"#\")\n",
    "\n",
    "print(x)"
   ]
  },
  {
   "cell_type": "code",
   "execution_count": 32,
   "id": "49fee0cb",
   "metadata": {},
   "outputs": [
    {
     "name": "stdout",
     "output_type": "stream",
     "text": [
      "['apple', 'banana#cherry#orange']\n"
     ]
    }
   ],
   "source": [
    "txt = \"apple#banana#cherry#orange\"\n",
    "\n",
    "# setting the maxsplit parameter to 1, will return a list with 2 elements!\n",
    "x = txt.split(\"#\", 1)\n",
    "\n",
    "print(x)"
   ]
  },
  {
   "cell_type": "markdown",
   "id": "5d13a520",
   "metadata": {},
   "source": [
    "### 32. String splitlines() Method"
   ]
  },
  {
   "cell_type": "raw",
   "id": "5ba9460e",
   "metadata": {},
   "source": [
    "Definition and Usage\n",
    "The splitlines() method splits a string into a list. The splitting is done at line breaks.\n",
    "\n"
   ]
  },
  {
   "cell_type": "code",
   "execution_count": 33,
   "id": "8b96ece2",
   "metadata": {},
   "outputs": [
    {
     "name": "stdout",
     "output_type": "stream",
     "text": [
      "['Thank you for the music', 'Welcome to the jungle']\n"
     ]
    }
   ],
   "source": [
    "txt = \"Thank you for the music\\nWelcome to the jungle\"\n",
    "\n",
    "x = txt.splitlines()\n",
    "\n",
    "print(x)"
   ]
  },
  {
   "cell_type": "code",
   "execution_count": 34,
   "id": "7a5860a6",
   "metadata": {},
   "outputs": [
    {
     "name": "stdout",
     "output_type": "stream",
     "text": [
      "['Thank you for the music\\n', 'Welcome to the jungle']\n"
     ]
    }
   ],
   "source": [
    "txt = \"Thank you for the music\\nWelcome to the jungle\"\n",
    "\n",
    "x = txt.splitlines(True)\n",
    "\n",
    "print(x)"
   ]
  },
  {
   "cell_type": "markdown",
   "id": "fbfbbd23",
   "metadata": {},
   "source": [
    "### 33.String startswith() Method"
   ]
  },
  {
   "cell_type": "code",
   "execution_count": 35,
   "id": "e41d8bae",
   "metadata": {},
   "outputs": [
    {
     "name": "stdout",
     "output_type": "stream",
     "text": [
      "True\n"
     ]
    }
   ],
   "source": [
    "txt = \"Hello, welcome to my world.\"\n",
    "\n",
    "x = txt.startswith(\"Hello\")\n",
    "\n",
    "print(x)"
   ]
  },
  {
   "cell_type": "code",
   "execution_count": 36,
   "id": "be3717bf",
   "metadata": {},
   "outputs": [
    {
     "name": "stdout",
     "output_type": "stream",
     "text": [
      "True\n"
     ]
    }
   ],
   "source": [
    "txt = \"Hello, welcome to my world.\"\n",
    "\n",
    "x = txt.startswith(\"wel\", 7, 20)\n",
    "\n",
    "print(x)"
   ]
  },
  {
   "cell_type": "markdown",
   "id": "1b73912a",
   "metadata": {},
   "source": [
    "### 34. String strip() Method"
   ]
  },
  {
   "cell_type": "raw",
   "id": "57081a8a",
   "metadata": {},
   "source": [
    "Definition and Usage\n",
    "The strip() method removes any leading (spaces at the beginning) and trailing (spaces at the end) characters (space is the default leading character to remove)"
   ]
  },
  {
   "cell_type": "code",
   "execution_count": 37,
   "id": "6f5ca41f",
   "metadata": {},
   "outputs": [
    {
     "name": "stdout",
     "output_type": "stream",
     "text": [
      "of all fruits Mango is my favorite\n"
     ]
    }
   ],
   "source": [
    "txt = \"     Mango     \"\n",
    "\n",
    "x = txt.strip()\n",
    "\n",
    "print(\"of all fruits\", x, \"is my favorite\")"
   ]
  },
  {
   "cell_type": "code",
   "execution_count": 38,
   "id": "4beaa611",
   "metadata": {},
   "outputs": [
    {
     "name": "stdout",
     "output_type": "stream",
     "text": [
      "banana\n"
     ]
    }
   ],
   "source": [
    "txt = \",,,,,rrttgg.....banana....rrr\"\n",
    "\n",
    "x = txt.strip(\",.grt\")\n",
    "\n",
    "print(x)"
   ]
  },
  {
   "cell_type": "markdown",
   "id": "2abecc21",
   "metadata": {},
   "source": [
    "### 35.String swapcase() Method"
   ]
  },
  {
   "cell_type": "raw",
   "id": "82b392d9",
   "metadata": {},
   "source": [
    "Definition and Usage\n",
    "The swapcase() method returns a string where all the upper case letters are lower case and vice versa."
   ]
  },
  {
   "cell_type": "code",
   "execution_count": 39,
   "id": "e45ce99c",
   "metadata": {},
   "outputs": [
    {
     "name": "stdout",
     "output_type": "stream",
     "text": [
      "hELLO mY nAME iS praveen\n"
     ]
    }
   ],
   "source": [
    "txt = \"Hello My Name Is PRAVEEN\"\n",
    "\n",
    "x = txt.swapcase()\n",
    "\n",
    "print(x)"
   ]
  },
  {
   "cell_type": "markdown",
   "id": "d3376dad",
   "metadata": {},
   "source": [
    "### 36. String title() Method"
   ]
  },
  {
   "cell_type": "raw",
   "id": "c60a1441",
   "metadata": {},
   "source": [
    "Definition and Usage\n",
    "The title() method returns a string where the first character in every word is upper case. Like a header, or a title.\n",
    "\n",
    "If the word contains a number or a symbol, the first letter after that will be converted to upper case."
   ]
  },
  {
   "cell_type": "code",
   "execution_count": 42,
   "id": "dce8b373",
   "metadata": {},
   "outputs": [
    {
     "name": "stdout",
     "output_type": "stream",
     "text": [
      "Welcome To My World\n"
     ]
    }
   ],
   "source": [
    "txt = \"Welcome to my world\"\n",
    "\n",
    "x = txt.title()\n",
    "\n",
    "print(x)"
   ]
  },
  {
   "cell_type": "code",
   "execution_count": 43,
   "id": "8651e0d8",
   "metadata": {},
   "outputs": [
    {
     "name": "stdout",
     "output_type": "stream",
     "text": [
      "Welcome To My 2Nd World\n"
     ]
    }
   ],
   "source": [
    "txt = \"Welcome to my 2nd world\"\n",
    "\n",
    "x = txt.title()\n",
    "\n",
    "print(x)"
   ]
  },
  {
   "cell_type": "code",
   "execution_count": 44,
   "id": "0187da1e",
   "metadata": {},
   "outputs": [
    {
     "name": "stdout",
     "output_type": "stream",
     "text": [
      "Hello B2B2B2 And 3G3G3G\n"
     ]
    }
   ],
   "source": [
    "txt = \"hello b2b2b2 and 3g3g3g\"\n",
    "\n",
    "x = txt.title()\n",
    "\n",
    "print(x)"
   ]
  },
  {
   "cell_type": "markdown",
   "id": "286f8f4a",
   "metadata": {},
   "source": [
    "### 37.String translate() Method"
   ]
  },
  {
   "cell_type": "raw",
   "id": "0235d2c6",
   "metadata": {},
   "source": [
    "Definition and Usage\n",
    "The translate() method returns a string where some specified characters are replaced with the character described in a dictionary, or in a mapping table.\n",
    "\n",
    "Use the maketrans() method to create a mapping table.\n",
    "\n",
    "If a character is not specified in the dictionary/table, the character will not be replaced.\n",
    "\n",
    "If you use a dictionary, you must use ascii codes instead of characters.\n",
    "\n"
   ]
  },
  {
   "cell_type": "code",
   "execution_count": 45,
   "id": "8431e635",
   "metadata": {},
   "outputs": [
    {
     "name": "stdout",
     "output_type": "stream",
     "text": [
      "Hello Pam!\n"
     ]
    }
   ],
   "source": [
    "#use a dictionary with ascii codes to replace 83 (S) with 80 (P):\n",
    "mydict = {83:  80}\n",
    "txt = \"Hello Sam!\"\n",
    "print(txt.translate(mydict))"
   ]
  },
  {
   "cell_type": "code",
   "execution_count": 46,
   "id": "3fe95ea6",
   "metadata": {},
   "outputs": [
    {
     "name": "stdout",
     "output_type": "stream",
     "text": [
      "Hello Pam!\n"
     ]
    }
   ],
   "source": [
    "txt = \"Hello Sam!\"\n",
    "mytable = txt.maketrans(\"S\", \"P\")\n",
    "print(txt.translate(mytable))"
   ]
  },
  {
   "cell_type": "code",
   "execution_count": 47,
   "id": "4d8b8c35",
   "metadata": {},
   "outputs": [
    {
     "name": "stdout",
     "output_type": "stream",
     "text": [
      "Hi Joe!\n"
     ]
    }
   ],
   "source": [
    "txt = \"Hi Sam!\"\n",
    "x = \"mSa\"\n",
    "y = \"eJo\"\n",
    "mytable = txt.maketrans(x, y)\n",
    "print(txt.translate(mytable))"
   ]
  },
  {
   "cell_type": "code",
   "execution_count": 48,
   "id": "b02eeddd",
   "metadata": {},
   "outputs": [
    {
     "name": "stdout",
     "output_type": "stream",
     "text": [
      "G i Joe!\n"
     ]
    }
   ],
   "source": [
    "txt = \"Good night Sam!\"\n",
    "x = \"mSa\"\n",
    "y = \"eJo\"\n",
    "z = \"odnght\"\n",
    "mytable = txt.maketrans(x, y, z)\n",
    "print(txt.translate(mytable))"
   ]
  },
  {
   "cell_type": "code",
   "execution_count": 49,
   "id": "75bf28d2",
   "metadata": {},
   "outputs": [
    {
     "name": "stdout",
     "output_type": "stream",
     "text": [
      "G i Joe!\n"
     ]
    }
   ],
   "source": [
    "txt = \"Good night Sam!\"\n",
    "mydict = {109: 101, 83: 74, 97: 111, 111: None, 100: None, 110: None, 103: None, 104: None, 116: None}\n",
    "print(txt.translate(mydict))"
   ]
  },
  {
   "cell_type": "markdown",
   "id": "108fe9d4",
   "metadata": {},
   "source": [
    "### 38.String upper() Method"
   ]
  },
  {
   "cell_type": "raw",
   "id": "7e5dfb02",
   "metadata": {},
   "source": [
    "Definition and Usage\n",
    "The upper() method returns a string where all characters are in upper case.\n",
    "\n",
    " Symbols and Numbers are ignored."
   ]
  },
  {
   "cell_type": "code",
   "execution_count": 50,
   "id": "ecfb75ca",
   "metadata": {},
   "outputs": [
    {
     "name": "stdout",
     "output_type": "stream",
     "text": [
      "HELLO MY FRIENDS\n"
     ]
    }
   ],
   "source": [
    "txt = \"Hello my friends\"\n",
    "\n",
    "x = txt.upper()\n",
    "\n",
    "print(x)"
   ]
  },
  {
   "cell_type": "markdown",
   "id": "859127ac",
   "metadata": {},
   "source": [
    "### 39. String zfill() Method"
   ]
  },
  {
   "cell_type": "raw",
   "id": "433967c1",
   "metadata": {},
   "source": [
    "Definition and Usage\n",
    "The zfill() method adds zeros (0) at the beginning of the string, until it reaches the specified length.\n",
    "\n",
    "If the value of the len parameter is less than the length of the string, no filling is done."
   ]
  },
  {
   "cell_type": "code",
   "execution_count": 51,
   "id": "297c8d1c",
   "metadata": {},
   "outputs": [
    {
     "name": "stdout",
     "output_type": "stream",
     "text": [
      "0000000050\n"
     ]
    }
   ],
   "source": [
    "txt = \"50\"\n",
    "\n",
    "x = txt.zfill(10)\n",
    "\n",
    "print(x)\n"
   ]
  },
  {
   "cell_type": "code",
   "execution_count": 52,
   "id": "a0455048",
   "metadata": {},
   "outputs": [
    {
     "name": "stdout",
     "output_type": "stream",
     "text": [
      "00000hello\n",
      "welcome to the jungle\n",
      "000010.000\n"
     ]
    }
   ],
   "source": [
    "a = \"hello\"\n",
    "b = \"welcome to the jungle\"\n",
    "c = \"10.000\"\n",
    "\n",
    "print(a.zfill(10))\n",
    "print(b.zfill(10))\n",
    "print(c.zfill(10))"
   ]
  },
  {
   "cell_type": "markdown",
   "id": "3218bd1e",
   "metadata": {},
   "source": [
    "### 40.String rfind() Method"
   ]
  },
  {
   "cell_type": "raw",
   "id": "a9adce7f",
   "metadata": {},
   "source": [
    "Definition and Usage\n",
    "The rfind() method finds the last occurrence of the specified value.\n",
    "\n",
    "The rfind() method returns -1 if the value is not found.\n",
    "\n",
    "The rfind() method is almost the same as the rindex() method. See example below."
   ]
  },
  {
   "cell_type": "code",
   "execution_count": 53,
   "id": "caccbb81",
   "metadata": {},
   "outputs": [
    {
     "name": "stdout",
     "output_type": "stream",
     "text": [
      "12\n"
     ]
    }
   ],
   "source": [
    "txt = \"Mi casa, su casa.\"\n",
    "\n",
    "x = txt.rfind(\"casa\")\n",
    "\n",
    "print(x)"
   ]
  },
  {
   "cell_type": "code",
   "execution_count": 56,
   "id": "25146725",
   "metadata": {},
   "outputs": [
    {
     "name": "stdout",
     "output_type": "stream",
     "text": [
      "13\n"
     ]
    }
   ],
   "source": [
    "txt = \"Hello, welcome to my world.\"\n",
    "\n",
    "x = txt.rfind(\"e\")\n",
    "\n",
    "print(x)"
   ]
  },
  {
   "cell_type": "code",
   "execution_count": 57,
   "id": "c1f29291",
   "metadata": {},
   "outputs": [
    {
     "name": "stdout",
     "output_type": "stream",
     "text": [
      "8\n"
     ]
    }
   ],
   "source": [
    "txt = \"Hello, welcome to my world.\"\n",
    "\n",
    "x = txt.rfind(\"e\", 5, 10)\n",
    "\n",
    "print(x)"
   ]
  },
  {
   "cell_type": "code",
   "execution_count": 58,
   "id": "c1be9527",
   "metadata": {},
   "outputs": [
    {
     "name": "stdout",
     "output_type": "stream",
     "text": [
      "-1\n"
     ]
    },
    {
     "ename": "ValueError",
     "evalue": "substring not found",
     "output_type": "error",
     "traceback": [
      "\u001b[1;31m---------------------------------------------------------------------------\u001b[0m",
      "\u001b[1;31mValueError\u001b[0m                                Traceback (most recent call last)",
      "\u001b[1;32m~\\AppData\\Local\\Temp/ipykernel_19656/2133191891.py\u001b[0m in \u001b[0;36m<module>\u001b[1;34m\u001b[0m\n\u001b[0;32m      2\u001b[0m \u001b[1;33m\u001b[0m\u001b[0m\n\u001b[0;32m      3\u001b[0m \u001b[0mprint\u001b[0m\u001b[1;33m(\u001b[0m\u001b[0mtxt\u001b[0m\u001b[1;33m.\u001b[0m\u001b[0mrfind\u001b[0m\u001b[1;33m(\u001b[0m\u001b[1;34m\"q\"\u001b[0m\u001b[1;33m)\u001b[0m\u001b[1;33m)\u001b[0m\u001b[1;33m\u001b[0m\u001b[1;33m\u001b[0m\u001b[0m\n\u001b[1;32m----> 4\u001b[1;33m \u001b[0mprint\u001b[0m\u001b[1;33m(\u001b[0m\u001b[0mtxt\u001b[0m\u001b[1;33m.\u001b[0m\u001b[0mrindex\u001b[0m\u001b[1;33m(\u001b[0m\u001b[1;34m\"q\"\u001b[0m\u001b[1;33m)\u001b[0m\u001b[1;33m)\u001b[0m\u001b[1;33m\u001b[0m\u001b[1;33m\u001b[0m\u001b[0m\n\u001b[0m",
      "\u001b[1;31mValueError\u001b[0m: substring not found"
     ]
    }
   ],
   "source": [
    "txt = \"Hello, welcome to my world.\"\n",
    "\n",
    "print(txt.rfind(\"q\"))\n",
    "print(txt.rindex(\"q\"))"
   ]
  },
  {
   "cell_type": "markdown",
   "id": "fc90aef5",
   "metadata": {},
   "source": [
    "### 41.String rindex() Method"
   ]
  },
  {
   "cell_type": "raw",
   "id": "1b7d0c0f",
   "metadata": {},
   "source": [
    "Definition and Usage\n",
    "The rindex() method finds the last occurrence of the specified value.\n",
    "\n",
    "The rindex() method raises an exception if the value is not found.\n",
    "\n",
    "The rindex() method is almost the same as the rfind() method. See example below."
   ]
  },
  {
   "cell_type": "code",
   "execution_count": 59,
   "id": "922fea50",
   "metadata": {},
   "outputs": [
    {
     "name": "stdout",
     "output_type": "stream",
     "text": [
      "12\n"
     ]
    }
   ],
   "source": [
    "txt = \"Mi casa, su casa.\"\n",
    "\n",
    "x = txt.rindex(\"casa\")\n",
    "\n",
    "print(x)"
   ]
  },
  {
   "cell_type": "code",
   "execution_count": 61,
   "id": "ac16ecb6",
   "metadata": {},
   "outputs": [
    {
     "name": "stdout",
     "output_type": "stream",
     "text": [
      "13\n"
     ]
    }
   ],
   "source": [
    "txt = \"Hello, welcome to my world.\"\n",
    "\n",
    "x = txt.rindex(\"e\")\n",
    "\n",
    "print(x)"
   ]
  },
  {
   "cell_type": "code",
   "execution_count": 62,
   "id": "19f122c8",
   "metadata": {},
   "outputs": [
    {
     "name": "stdout",
     "output_type": "stream",
     "text": [
      "8\n"
     ]
    }
   ],
   "source": [
    "txt = \"Hello, welcome to my world.\"\n",
    "\n",
    "x = txt.rindex(\"e\", 5, 10)\n",
    "\n",
    "print(x)"
   ]
  },
  {
   "cell_type": "code",
   "execution_count": 63,
   "id": "e9c970be",
   "metadata": {},
   "outputs": [
    {
     "name": "stdout",
     "output_type": "stream",
     "text": [
      "-1\n"
     ]
    },
    {
     "ename": "ValueError",
     "evalue": "substring not found",
     "output_type": "error",
     "traceback": [
      "\u001b[1;31m---------------------------------------------------------------------------\u001b[0m",
      "\u001b[1;31mValueError\u001b[0m                                Traceback (most recent call last)",
      "\u001b[1;32m~\\AppData\\Local\\Temp/ipykernel_19656/2133191891.py\u001b[0m in \u001b[0;36m<module>\u001b[1;34m\u001b[0m\n\u001b[0;32m      2\u001b[0m \u001b[1;33m\u001b[0m\u001b[0m\n\u001b[0;32m      3\u001b[0m \u001b[0mprint\u001b[0m\u001b[1;33m(\u001b[0m\u001b[0mtxt\u001b[0m\u001b[1;33m.\u001b[0m\u001b[0mrfind\u001b[0m\u001b[1;33m(\u001b[0m\u001b[1;34m\"q\"\u001b[0m\u001b[1;33m)\u001b[0m\u001b[1;33m)\u001b[0m\u001b[1;33m\u001b[0m\u001b[1;33m\u001b[0m\u001b[0m\n\u001b[1;32m----> 4\u001b[1;33m \u001b[0mprint\u001b[0m\u001b[1;33m(\u001b[0m\u001b[0mtxt\u001b[0m\u001b[1;33m.\u001b[0m\u001b[0mrindex\u001b[0m\u001b[1;33m(\u001b[0m\u001b[1;34m\"q\"\u001b[0m\u001b[1;33m)\u001b[0m\u001b[1;33m)\u001b[0m\u001b[1;33m\u001b[0m\u001b[1;33m\u001b[0m\u001b[0m\n\u001b[0m",
      "\u001b[1;31mValueError\u001b[0m: substring not found"
     ]
    }
   ],
   "source": [
    "txt = \"Hello, welcome to my world.\"\n",
    "\n",
    "print(txt.rfind(\"q\"))\n",
    "print(txt.rindex(\"q\"))"
   ]
  },
  {
   "cell_type": "markdown",
   "id": "1f658330",
   "metadata": {},
   "source": [
    "### 42. String rsplit() Method"
   ]
  },
  {
   "cell_type": "raw",
   "id": "9ab83d76",
   "metadata": {},
   "source": [
    "Definition and Usage\n",
    "The rsplit() method splits a string into a list, starting from the right.\n",
    "\n",
    "If no \"max\" is specified, this method will return the same as the split() method."
   ]
  },
  {
   "cell_type": "code",
   "execution_count": 65,
   "id": "3bc548d2",
   "metadata": {},
   "outputs": [
    {
     "name": "stdout",
     "output_type": "stream",
     "text": [
      "['apple', 'banana', 'cherry']\n"
     ]
    }
   ],
   "source": [
    "txt = \"apple, banana, cherry\"\n",
    "\n",
    "x = txt.rsplit(\", \")\n",
    "\n",
    "print(x)"
   ]
  },
  {
   "cell_type": "code",
   "execution_count": 66,
   "id": "10e33a06",
   "metadata": {},
   "outputs": [
    {
     "name": "stdout",
     "output_type": "stream",
     "text": [
      "['apple, banana', 'cherry']\n"
     ]
    }
   ],
   "source": [
    "txt = \"apple, banana, cherry\"\n",
    "\n",
    "# setting the maxsplit parameter to 1, will return a list with 2 elements!\n",
    "x = txt.rsplit(\", \", 1)\n",
    "\n",
    "print(x)"
   ]
  },
  {
   "cell_type": "markdown",
   "id": "f208cb81",
   "metadata": {},
   "source": [
    "### 43 . String rpartition() Method"
   ]
  },
  {
   "cell_type": "raw",
   "id": "63d38ea9",
   "metadata": {},
   "source": [
    "Definition and Usage\n",
    "The rpartition() method searches for the last occurrence of a specified string, and splits the string into a tuple containing three elements.\n",
    "\n",
    "The first element contains the part before the specified string.\n",
    "\n",
    "The second element contains the specified string.\n",
    "\n",
    "The third element contains the part after the string.\n",
    "\n"
   ]
  },
  {
   "cell_type": "code",
   "execution_count": 67,
   "id": "1f5a9ae1",
   "metadata": {},
   "outputs": [
    {
     "name": "stdout",
     "output_type": "stream",
     "text": [
      "('I could eat bananas all day, ', 'bananas', ' are my favorite fruit')\n"
     ]
    }
   ],
   "source": [
    "txt = \"I could eat bananas all day, bananas are my favorite fruit\"\n",
    "\n",
    "x = txt.rpartition(\"bananas\")\n",
    "\n",
    "print(x)"
   ]
  },
  {
   "cell_type": "code",
   "execution_count": 68,
   "id": "1e41ba65",
   "metadata": {},
   "outputs": [
    {
     "name": "stdout",
     "output_type": "stream",
     "text": [
      "('', '', 'I could eat bananas all day, bananas are my favorite fruit')\n"
     ]
    }
   ],
   "source": [
    "txt = \"I could eat bananas all day, bananas are my favorite fruit\"\n",
    "\n",
    "x = txt.rpartition(\"apples\")\n",
    "\n",
    "print(x)"
   ]
  },
  {
   "cell_type": "markdown",
   "id": "21c2f86c",
   "metadata": {},
   "source": [
    "### 4. rjust() Method"
   ]
  },
  {
   "cell_type": "raw",
   "id": "ae42df45",
   "metadata": {},
   "source": [
    "\n",
    "Definition and Usage\n",
    "The rjust() method will right align the string, using a specified character (space is default) as the fill character."
   ]
  },
  {
   "cell_type": "code",
   "execution_count": 70,
   "id": "578b9a58",
   "metadata": {},
   "outputs": [
    {
     "name": "stdout",
     "output_type": "stream",
     "text": [
      "              banana is my favorite fruit.\n"
     ]
    }
   ],
   "source": [
    "txt = \"banana\"\n",
    "\n",
    "x = txt.rjust(20)\n",
    "\n",
    "print(x, \"is my favorite fruit.\")"
   ]
  },
  {
   "cell_type": "code",
   "execution_count": 71,
   "id": "2aea4b39",
   "metadata": {},
   "outputs": [
    {
     "name": "stdout",
     "output_type": "stream",
     "text": [
      "OOOOOOOOOOOOOObanana\n"
     ]
    }
   ],
   "source": [
    "txt = \"banana\"\n",
    "\n",
    "x = txt.rjust(20, \"O\")\n",
    "\n",
    "print(x)"
   ]
  },
  {
   "cell_type": "markdown",
   "id": "55bbce4a",
   "metadata": {},
   "source": [
    "# <CENTER> Python - String Exercises"
   ]
  },
  {
   "cell_type": "code",
   "execution_count": 72,
   "id": "175751e3",
   "metadata": {},
   "outputs": [
    {
     "name": "stdout",
     "output_type": "stream",
     "text": [
      "11\n"
     ]
    }
   ],
   "source": [
    "x = \"Hello World\"\n",
    "print(len(x))"
   ]
  },
  {
   "cell_type": "code",
   "execution_count": null,
   "id": "5f00614d",
   "metadata": {},
   "outputs": [],
   "source": []
  }
 ],
 "metadata": {
  "kernelspec": {
   "display_name": "Python 3 (ipykernel)",
   "language": "python",
   "name": "python3"
  },
  "language_info": {
   "codemirror_mode": {
    "name": "ipython",
    "version": 3
   },
   "file_extension": ".py",
   "mimetype": "text/x-python",
   "name": "python",
   "nbconvert_exporter": "python",
   "pygments_lexer": "ipython3",
   "version": "3.8.12"
  }
 },
 "nbformat": 4,
 "nbformat_minor": 5
}
