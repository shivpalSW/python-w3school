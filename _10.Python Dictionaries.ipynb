{
 "cells": [
  {
   "cell_type": "markdown",
   "id": "ccb30211",
   "metadata": {},
   "source": [
    "# <center>  10.Python Dictionaries\n",
    "    \n",
    "    \n",
    "https://www.w3schools.com/python/python_dictionaries.asp"
   ]
  },
  {
   "cell_type": "markdown",
   "id": "afb75eff",
   "metadata": {},
   "source": [
    "### Dictionary:\n",
    "    \n",
    "* Dictionaries are used to store data values in key:value pairs.\n",
    "\n",
    "* A dictionary is a collection which is ordered*, changeable and do not allow duplicates.\n",
    "\n",
    "* As of Python version 3.7, dictionaries are ordered. In Python 3.6 and earlier, dictionaries are unordered.\n",
    "\n",
    "* Dictionaries are written with curly brackets, and have keys and values:"
   ]
  },
  {
   "cell_type": "code",
   "execution_count": 1,
   "id": "30decdb4",
   "metadata": {},
   "outputs": [
    {
     "name": "stdout",
     "output_type": "stream",
     "text": [
      "{'Brand': 'Ford', 'Model': 'Mustang', 'year': 1988}\n"
     ]
    }
   ],
   "source": [
    "dict1={\"Brand\": \"Ford\",\n",
    "      \"Model\":\"Mustang\",\n",
    "      \"year\":1988}\n",
    "\n",
    "print(dict1)"
   ]
  },
  {
   "cell_type": "markdown",
   "id": "06e27557",
   "metadata": {},
   "source": [
    "#### Dictionary Items:\n",
    "\n",
    "* Dictionary items are ordered, changeable, and does not allow duplicates.\n",
    "\n",
    "* Dictionary items are presented in key:value pairs, and can be referred to by using the key name."
   ]
  },
  {
   "cell_type": "code",
   "execution_count": 2,
   "id": "da5fd7f1",
   "metadata": {},
   "outputs": [
    {
     "name": "stdout",
     "output_type": "stream",
     "text": [
      "Ford\n"
     ]
    }
   ],
   "source": [
    "dict1={\"Brand\":\"Ford\",\n",
    "       \"Model\":\"Mustang\",\n",
    "       \"year\":1980}\n",
    "\n",
    "print(dict1[\"Brand\"])"
   ]
  },
  {
   "cell_type": "markdown",
   "id": "0ad1c4ee",
   "metadata": {},
   "source": [
    "### Ordered or Unordered?:\n",
    "\n",
    "* As of Python version 3.7, dictionaries are ordered. In Python 3.6 and earlier, dictionaries are unordered.\n",
    "\n",
    "* When we say that dictionaries are ordered, it means that the items have a defined order, and that order will not change.\n",
    "\n",
    "* Unordered means that the items does not have a defined order, you cannot refer to an item by using an index."
   ]
  },
  {
   "cell_type": "markdown",
   "id": "6262bd5b",
   "metadata": {},
   "source": [
    "### Changeable\n",
    "Dictionaries are changeable, meaning that we can change, add or remove items after the dictionary has been created.\n",
    "\n",
    "### Duplicates Not Allowed\n",
    "Dictionaries cannot have two items with the same key:"
   ]
  },
  {
   "cell_type": "raw",
   "id": "95f6aa1c",
   "metadata": {},
   "source": [
    "Duplicate values will overwrite existing values:"
   ]
  },
  {
   "cell_type": "code",
   "execution_count": 3,
   "id": "2b97697e",
   "metadata": {},
   "outputs": [
    {
     "name": "stdout",
     "output_type": "stream",
     "text": [
      "{'Brand': 'Ford', 'Model': 'Mustang', 'year': 2020}\n"
     ]
    }
   ],
   "source": [
    "dict1={\"Brand\":\"Ford\",\n",
    "       \"Model\":\"Mustang\",\n",
    "       \"year\":1980,\n",
    "      \"year\":2020}\n",
    "\n",
    "print(dict1)"
   ]
  },
  {
   "cell_type": "markdown",
   "id": "e9eae18e",
   "metadata": {},
   "source": [
    "### Dictionary Length:\n",
    "\n",
    "To determine how many items a dictionary has, use the len() function:"
   ]
  },
  {
   "cell_type": "code",
   "execution_count": 6,
   "id": "eb8812af",
   "metadata": {},
   "outputs": [
    {
     "name": "stdout",
     "output_type": "stream",
     "text": [
      "3\n"
     ]
    }
   ],
   "source": [
    "dict1={\"Brand\":\"Ford\",\n",
    "       \"Model\":\"Mustang\",\n",
    "       \"year\":1980,\n",
    "      \"year\":2020}\n",
    "\n",
    "print(len(dict1))"
   ]
  },
  {
   "cell_type": "markdown",
   "id": "175c0b01",
   "metadata": {},
   "source": [
    "### Dictionary Items - Data Types:\n",
    "\n",
    "The values in dictionary items can be of any data type:"
   ]
  },
  {
   "cell_type": "code",
   "execution_count": null,
   "id": "8a798a09",
   "metadata": {},
   "outputs": [],
   "source": [
    "Example:\n",
    "    \n",
    "String, int, boolean, and list data types:"
   ]
  },
  {
   "cell_type": "code",
   "execution_count": 8,
   "id": "67428e2c",
   "metadata": {},
   "outputs": [
    {
     "name": "stdout",
     "output_type": "stream",
     "text": [
      "{'brand': 'Ford', 'electric': False, 'year': 1964, 'colors': ['red', 'white', 'blue']}\n"
     ]
    }
   ],
   "source": [
    "dict1 = {\n",
    "  \"brand\": \"Ford\",\n",
    "  \"electric\": False,\n",
    "  \"year\": 1964,\n",
    "  \"colors\": [\"red\", \"white\", \"blue\"] \n",
    "}\n",
    "\n",
    "print(dict1)"
   ]
  },
  {
   "cell_type": "markdown",
   "id": "2a020368",
   "metadata": {},
   "source": [
    "### type():\n",
    "From Python's perspective, dictionaries are defined as objects with the data type 'dict':"
   ]
  },
  {
   "cell_type": "code",
   "execution_count": 9,
   "id": "e47c3d9a",
   "metadata": {},
   "outputs": [
    {
     "name": "stdout",
     "output_type": "stream",
     "text": [
      "<class 'dict'>\n"
     ]
    }
   ],
   "source": [
    "print(type(dict1))"
   ]
  },
  {
   "cell_type": "code",
   "execution_count": 10,
   "id": "0525e685",
   "metadata": {},
   "outputs": [
    {
     "name": "stdout",
     "output_type": "stream",
     "text": [
      "<class 'dict'>\n"
     ]
    }
   ],
   "source": [
    "#Example\n",
    "#Print the data type of a dictionary:\n",
    "\n",
    "thisdict = {\n",
    "  \"brand\": \"Ford\",\n",
    "  \"model\": \"Mustang\",\n",
    "  \"year\": 1964\n",
    "}\n",
    "print(type(thisdict))"
   ]
  },
  {
   "cell_type": "markdown",
   "id": "0e5ddbb3",
   "metadata": {},
   "source": [
    "# <center> Python - Access Dictionary Items"
   ]
  },
  {
   "cell_type": "markdown",
   "id": "e5679b1e",
   "metadata": {},
   "source": [
    "### Accessing Items\n",
    "You can access the items of a dictionary by referring to its key name, inside square brackets:"
   ]
  },
  {
   "cell_type": "code",
   "execution_count": 12,
   "id": "173226ea",
   "metadata": {},
   "outputs": [
    {
     "name": "stdout",
     "output_type": "stream",
     "text": [
      "Mustang\n"
     ]
    }
   ],
   "source": [
    "d1 = {\n",
    "  \"brand\": \"Ford\",\n",
    "  \"model\": \"Mustang\",\n",
    "  \"year\": 1964\n",
    "}\n",
    "\n",
    "x= d1[\"model\"]\n",
    "print(x)"
   ]
  },
  {
   "cell_type": "raw",
   "id": "038e422d",
   "metadata": {},
   "source": [
    "There is also a method called get() that will give you the same result:"
   ]
  },
  {
   "cell_type": "code",
   "execution_count": 13,
   "id": "6dc768f8",
   "metadata": {},
   "outputs": [
    {
     "data": {
      "text/plain": [
       "'Mustang'"
      ]
     },
     "execution_count": 13,
     "metadata": {},
     "output_type": "execute_result"
    }
   ],
   "source": [
    "d1.get(\"model\")"
   ]
  },
  {
   "cell_type": "code",
   "execution_count": 15,
   "id": "7f2efa9c",
   "metadata": {},
   "outputs": [
    {
     "data": {
      "text/plain": [
       "1964"
      ]
     },
     "execution_count": 15,
     "metadata": {},
     "output_type": "execute_result"
    }
   ],
   "source": [
    "d1.get(\"year\")"
   ]
  },
  {
   "cell_type": "code",
   "execution_count": null,
   "id": "67fde427",
   "metadata": {},
   "outputs": [],
   "source": [
    "Get the value of the \"model\" key:"
   ]
  },
  {
   "cell_type": "code",
   "execution_count": 17,
   "id": "51e5ac20",
   "metadata": {},
   "outputs": [
    {
     "data": {
      "text/plain": [
       "'Ford'"
      ]
     },
     "execution_count": 17,
     "metadata": {},
     "output_type": "execute_result"
    }
   ],
   "source": [
    "x= d1.get(\"brand\")\n",
    "x"
   ]
  },
  {
   "cell_type": "markdown",
   "id": "4d5cb8fc",
   "metadata": {},
   "source": [
    "### Get Keys:\n",
    "\n",
    "The keys() method will return a list of all the keys in the dictionary."
   ]
  },
  {
   "cell_type": "code",
   "execution_count": 20,
   "id": "6742b4d0",
   "metadata": {},
   "outputs": [
    {
     "name": "stdout",
     "output_type": "stream",
     "text": [
      "dict_keys(['brand', 'model', 'year'])\n"
     ]
    }
   ],
   "source": [
    "x= d1.keys()\n",
    "print(x)"
   ]
  },
  {
   "cell_type": "raw",
   "id": "c3cb3431",
   "metadata": {},
   "source": [
    "The list of the keys is a view of the dictionary, meaning that any changes done to the dictionary will be reflected in the keys list."
   ]
  },
  {
   "cell_type": "raw",
   "id": "52768d1c",
   "metadata": {},
   "source": [
    "Example\n",
    "Add a new item to the original dictionary, and see that the keys list gets updated as well:"
   ]
  },
  {
   "cell_type": "code",
   "execution_count": 24,
   "id": "75e0f88b",
   "metadata": {},
   "outputs": [
    {
     "name": "stdout",
     "output_type": "stream",
     "text": [
      "Before change Dictionary is:  dict_keys(['brand', 'model', 'year'])\n",
      "After changre dictionary is:  dict_keys(['brand', 'model', 'year', 'color'])\n",
      "Dictionary Iteams are:  {'brand': 'Ford', 'model': 'Mustang', 'year': 1964, 'color': 'white'}\n"
     ]
    }
   ],
   "source": [
    "car = {\n",
    "\"brand\": \"Ford\",\n",
    "\"model\": \"Mustang\",\n",
    "\"year\": 1964\n",
    "}\n",
    "\n",
    "x= car.keys()\n",
    "print(\"Before change Dictionary is: \",x)\n",
    "\n",
    "car[\"color\"]=\"white\"\n",
    "\n",
    "print(\"After changre dictionary is: \",x)\n",
    "\n",
    "print(\"Dictionary Iteams are: \",car)"
   ]
  },
  {
   "cell_type": "markdown",
   "id": "f92a905f",
   "metadata": {},
   "source": [
    "### Get Values:\n",
    "\n",
    "The values() method will return a list of all the values in the dictionary."
   ]
  },
  {
   "cell_type": "code",
   "execution_count": null,
   "id": "6a438d0f",
   "metadata": {},
   "outputs": [],
   "source": [
    "#Get a list of the values:\n",
    "\n",
    "x = thisdict.values()"
   ]
  },
  {
   "cell_type": "raw",
   "id": "714f7f24",
   "metadata": {},
   "source": [
    "* The list of the values is a view of the dictionary, meaning that any changes done to the dictionary will be reflected in the values list.\n",
    "\n",
    "* Example:\n",
    "    \n",
    "* Make a change in the original dictionary, and see that the values list gets updated as well:"
   ]
  },
  {
   "cell_type": "code",
   "execution_count": 26,
   "id": "10cc589b",
   "metadata": {},
   "outputs": [
    {
     "name": "stdout",
     "output_type": "stream",
     "text": [
      "Values before adding element are:  dict_values(['Ford', 'Mustang', 1990])\n",
      "Values before adding element are:  dict_values(['Ford', 'Mustang', 2022])\n"
     ]
    }
   ],
   "source": [
    "car= {'brand':\"Ford\",\n",
    "     \"model\":\"Mustang\",\n",
    "     \"year\":1990}\n",
    "\n",
    "x= car.values()\n",
    "print(\"Values before adding element are: \",x)\n",
    "\n",
    "car[\"year\"]= 2022\n",
    "print(\"Values before adding element are: \",x)"
   ]
  },
  {
   "cell_type": "raw",
   "id": "ab5f8932",
   "metadata": {},
   "source": [
    "Example\n",
    "Add a new item to the original dictionary, and see that the values list gets updated as well:"
   ]
  },
  {
   "cell_type": "code",
   "execution_count": 27,
   "id": "e21ea21a",
   "metadata": {},
   "outputs": [
    {
     "name": "stdout",
     "output_type": "stream",
     "text": [
      "Values before change:  dict_values(['Ford', 'Mustang', '1990'])\n",
      "Values after the change dict_values(['Ford', 'Mustang', '1990', 'Petrol'])\n"
     ]
    }
   ],
   "source": [
    "car= {\"brand\":\"Ford\",\n",
    "     'Model':\"Mustang\",\n",
    "     \"Year\":\"1990\"}\n",
    "\n",
    "x= car.values()\n",
    "print(\"Values before change: \",x)\n",
    "\n",
    "car[\"Engine\"]=\"Petrol\"\n",
    "\n",
    "print(\"Values after the change\",x)"
   ]
  },
  {
   "cell_type": "markdown",
   "id": "01f2794d",
   "metadata": {},
   "source": [
    "### Get Items:\n",
    "\n",
    "* The items() method will return each item in a dictionary, as tuples in a list."
   ]
  },
  {
   "cell_type": "raw",
   "id": "1389debd",
   "metadata": {},
   "source": [
    "x= dict1.items()"
   ]
  },
  {
   "cell_type": "raw",
   "id": "e34f9ad9",
   "metadata": {},
   "source": [
    "The returned list is a view of the items of the dictionary, meaning that any changes done to the dictionary will be reflected in the items list."
   ]
  },
  {
   "cell_type": "raw",
   "id": "764c1c16",
   "metadata": {},
   "source": [
    "Example\n",
    "Make a change in the original dictionary, and see that the items list gets updated as well:"
   ]
  },
  {
   "cell_type": "code",
   "execution_count": 29,
   "id": "794be0be",
   "metadata": {},
   "outputs": [
    {
     "name": "stdout",
     "output_type": "stream",
     "text": [
      "dict_items([('brand', 'Ford'), ('model', 'Mustang'), ('year', 1964)])\n",
      "dict_items([('brand', 'Ford'), ('model', 'Mustang'), ('year', 2020)])\n"
     ]
    }
   ],
   "source": [
    "car = {\n",
    "\"brand\": \"Ford\",\n",
    "\"model\": \"Mustang\",\n",
    "\"year\": 1964\n",
    "}\n",
    "\n",
    "x = car.items()\n",
    "\n",
    "print(x) #before the change\n",
    "\n",
    "car[\"year\"] = 2020\n",
    "\n",
    "print(x) #after the change"
   ]
  },
  {
   "cell_type": "raw",
   "id": "48b069c4",
   "metadata": {},
   "source": [
    "Example\n",
    "Add a new item to the original dictionary, and see that the items list gets updated as well:"
   ]
  },
  {
   "cell_type": "code",
   "execution_count": 30,
   "id": "6e05676a",
   "metadata": {},
   "outputs": [
    {
     "name": "stdout",
     "output_type": "stream",
     "text": [
      "Values before change:  dict_items([('brand', 'Ford'), ('Model', 'Mustang'), ('Year', '1990')])\n",
      "Values after the change dict_items([('brand', 'Ford'), ('Model', 'Mustang'), ('Year', '1990'), ('Engine', 'Petrol')])\n"
     ]
    }
   ],
   "source": [
    "car= {\"brand\":\"Ford\",\n",
    "     'Model':\"Mustang\",\n",
    "     \"Year\":\"1990\"}\n",
    "\n",
    "x= car.items()\n",
    "print(\"Values before change: \",x)\n",
    "\n",
    "car[\"Engine\"]=\"Petrol\"\n",
    "\n",
    "print(\"Values after the change\",x)"
   ]
  },
  {
   "cell_type": "markdown",
   "id": "7b5bacdd",
   "metadata": {},
   "source": [
    "### Check if Key Exists:\n",
    "\n",
    "To determine if a specified key is present in a dictionary use the in keyword:"
   ]
  },
  {
   "cell_type": "markdown",
   "id": "6363c0f3",
   "metadata": {},
   "source": [
    "### Example\n",
    "Check if \"model\" is present in the dictionary:"
   ]
  },
  {
   "cell_type": "code",
   "execution_count": 32,
   "id": "25aa9ac4",
   "metadata": {},
   "outputs": [
    {
     "name": "stdout",
     "output_type": "stream",
     "text": [
      "Yes, This key is prensent in the dictionary\n"
     ]
    }
   ],
   "source": [
    "car= {\"brand\":\"Ford\",\n",
    "     'Model':\"Mustang\",\n",
    "     \"Year\":\"1990\"\n",
    "     }\n",
    "\n",
    "if \"Model\" in car:\n",
    "    print(\"Yes, This key is prensent in the dictionary\")"
   ]
  },
  {
   "cell_type": "markdown",
   "id": "ddd3dc20",
   "metadata": {},
   "source": [
    "# <center> Python - Change Dictionary Items"
   ]
  },
  {
   "cell_type": "code",
   "execution_count": null,
   "id": "725fc630",
   "metadata": {},
   "outputs": [],
   "source": [
    "Change Values\n",
    "You can change the value of a specific item by referring to its key name:"
   ]
  },
  {
   "cell_type": "code",
   "execution_count": 34,
   "id": "c7455046",
   "metadata": {},
   "outputs": [
    {
     "name": "stdout",
     "output_type": "stream",
     "text": [
      "{'brand': 'Ford', 'model': 'Mustang', 'year': 2022}\n"
     ]
    }
   ],
   "source": [
    "dict1= {\n",
    "  \"brand\": \"Ford\",\n",
    "  \"model\": \"Mustang\",\n",
    "  \"year\": 1964\n",
    "}\n",
    "\n",
    "dict1['year']= 2022\n",
    "\n",
    "print(dict1)"
   ]
  },
  {
   "cell_type": "markdown",
   "id": "b1fa7d97",
   "metadata": {},
   "source": [
    "### Update Dictionary:\n",
    "\n",
    "The update() method will update the dictionary with the items from the given argument.\n",
    "\n",
    "The argument must be a dictionary, or an iterable object with key:value pairs."
   ]
  },
  {
   "cell_type": "raw",
   "id": "0e1a996d",
   "metadata": {},
   "source": [
    "Example\n",
    "Update the \"year\" of the car by using the update() method:"
   ]
  },
  {
   "cell_type": "code",
   "execution_count": 35,
   "id": "9ecc3fc9",
   "metadata": {},
   "outputs": [
    {
     "name": "stdout",
     "output_type": "stream",
     "text": [
      "{'brand': 'Ford', 'model': 'Mustang', 'year': 2000}\n"
     ]
    }
   ],
   "source": [
    "dict1= {\n",
    "  \"brand\": \"Ford\",\n",
    "  \"model\": \"Mustang\",\n",
    "  \"year\": 1964\n",
    "}\n",
    "\n",
    "dict1.update({\"year\": 2000})\n",
    "\n",
    "print(dict1)"
   ]
  },
  {
   "cell_type": "code",
   "execution_count": 42,
   "id": "9c017030",
   "metadata": {},
   "outputs": [
    {
     "name": "stdout",
     "output_type": "stream",
     "text": [
      "{'brand': 'Ford', 'model': 'Mustang', 'year': 1964, 'color': 'Red', 'Engine': 'Petrol', 'price': '50 Lacks'} \n",
      "\n",
      "dictionary ies are:  dict_items([('brand', 'Ford'), ('model', 'Mustang'), ('year', 1964), ('color', 'Red'), ('Engine', 'Petrol'), ('price', '50 Lacks')])\n"
     ]
    }
   ],
   "source": [
    "dict1= {\n",
    "  \"brand\": \"Ford\",\n",
    "  \"model\": \"Mustang\",\n",
    "  \"year\": 1964\n",
    "}\n",
    "\n",
    "dict2={\"color\":\"Red\",\"Engine\":\"Petrol\",\"price\":\"50 Lacks\"}\n",
    "\n",
    "dict1.update(dict2)\n",
    "print(dict1,'\\n')\n",
    "\n",
    "print(\"dictionary ies are: \",dict1.items())"
   ]
  },
  {
   "cell_type": "markdown",
   "id": "8d86d8ad",
   "metadata": {},
   "source": [
    "# <center> Python - Add Dictionary Items"
   ]
  },
  {
   "cell_type": "markdown",
   "id": "5b472f59",
   "metadata": {},
   "source": [
    "### Adding Items:\n",
    "\n",
    "Adding an item to the dictionary is done by using a new index key and assigning a value to it:"
   ]
  },
  {
   "cell_type": "code",
   "execution_count": 43,
   "id": "beeef98e",
   "metadata": {},
   "outputs": [
    {
     "name": "stdout",
     "output_type": "stream",
     "text": [
      "{'brand': 'Ford', 'model': 'Mustang', 'year': 1964, 'Engine': 'Diesel'}\n"
     ]
    }
   ],
   "source": [
    "car = {\n",
    "  \"brand\": \"Ford\",\n",
    "  \"model\": \"Mustang\",\n",
    "  \"year\": 1964\n",
    "}\n",
    "\n",
    "car[\"Engine\"]=\"Diesel\"\n",
    "\n",
    "print(car)"
   ]
  },
  {
   "cell_type": "markdown",
   "id": "7ce7cbd9",
   "metadata": {},
   "source": [
    "### Update Dictionary:\n",
    "\n",
    "* The update() method will update the dictionary with the items from a given argument. If the item does not exist, the item will be added.\n",
    "\n",
    "* The argument must be a dictionary, or an iterable object with key:value pairs."
   ]
  },
  {
   "cell_type": "raw",
   "id": "e3f1c50b",
   "metadata": {},
   "source": [
    "Example\n",
    "Add a color item to the dictionary by using the update() method:"
   ]
  },
  {
   "cell_type": "code",
   "execution_count": 44,
   "id": "f691fe8f",
   "metadata": {},
   "outputs": [
    {
     "name": "stdout",
     "output_type": "stream",
     "text": [
      "{'brand': 'Ford', 'model': 'Mustang', 'year': 1964, 'Price': '1Cr'}\n"
     ]
    }
   ],
   "source": [
    "car = {\n",
    "  \"brand\": \"Ford\",\n",
    "  \"model\": \"Mustang\",\n",
    "  \"year\": 1964\n",
    "}\n",
    "\n",
    "car.update({\"Price\": \"1Cr\"})\n",
    "print(car)"
   ]
  },
  {
   "cell_type": "markdown",
   "id": "d31ca8d8",
   "metadata": {},
   "source": [
    "# <center> Python - Remove Dictionary Items"
   ]
  },
  {
   "cell_type": "markdown",
   "id": "90cc8eb7",
   "metadata": {},
   "source": [
    "### Removing Items:\n",
    "\n",
    "There are several methods to remove items from a dictionary:"
   ]
  },
  {
   "cell_type": "markdown",
   "id": "4ac4adf0",
   "metadata": {},
   "source": [
    "### 1. Example\n",
    "* The pop() method removes the item with the specified key name:"
   ]
  },
  {
   "cell_type": "code",
   "execution_count": 45,
   "id": "9e6a298c",
   "metadata": {},
   "outputs": [
    {
     "name": "stdout",
     "output_type": "stream",
     "text": [
      "{'brand': 'Ford', 'year': 1964}\n"
     ]
    }
   ],
   "source": [
    "car = {\n",
    "  \"brand\": \"Ford\",\n",
    "  \"model\": \"Mustang\",\n",
    "  \"year\": 1964\n",
    "}\n",
    "\n",
    "car.pop('model')\n",
    "print(car)"
   ]
  },
  {
   "cell_type": "markdown",
   "id": "e5e17207",
   "metadata": {},
   "source": [
    "### 2. Example:\n",
    "\n",
    "* The popitem() method removes the last inserted item (in versions before 3.7, a random item is removed instead):"
   ]
  },
  {
   "cell_type": "code",
   "execution_count": 46,
   "id": "6d4044a6",
   "metadata": {},
   "outputs": [
    {
     "name": "stdout",
     "output_type": "stream",
     "text": [
      "{'brand': 'Ford', 'model': 'Mustang', 'year': 2022, 'color': 'Red', 'Engine': 'Petrol'}\n"
     ]
    }
   ],
   "source": [
    "car= {'brand': 'Ford',\n",
    "      'model': 'Mustang',\n",
    "      'year': 2022,\n",
    "      'color': 'Red',\n",
    "      'Engine': 'Petrol',\n",
    "      'price': '50 Lacks'} \n",
    "\n",
    "car.popitem()\n",
    "print(car)"
   ]
  },
  {
   "cell_type": "markdown",
   "id": "8dad3b03",
   "metadata": {},
   "source": [
    "### 3. Example:\n",
    "\n",
    "* The del keyword removes the item with the specified key name:"
   ]
  },
  {
   "cell_type": "code",
   "execution_count": 49,
   "id": "b1fce079",
   "metadata": {},
   "outputs": [
    {
     "name": "stdout",
     "output_type": "stream",
     "text": [
      "{'brand': 'Ford', 'model': 'Mustang', 'color': 'Red', 'Engine': 'Petrol', 'price': '50 Lacks'}\n"
     ]
    }
   ],
   "source": [
    "car= {'brand': 'Ford',\n",
    "      'model': 'Mustang',\n",
    "      'year': 2022,\n",
    "      'color': 'Red',\n",
    "      'Engine': 'Petrol',\n",
    "      'price': '50 Lacks'} \n",
    "\n",
    "del car[\"year\"]\n",
    "print(car)"
   ]
  },
  {
   "cell_type": "markdown",
   "id": "0a7242b2",
   "metadata": {},
   "source": [
    "### 4. Example\n",
    "* The del keyword can also delete the dictionary completely:"
   ]
  },
  {
   "cell_type": "code",
   "execution_count": 48,
   "id": "05becf11",
   "metadata": {},
   "outputs": [
    {
     "ename": "NameError",
     "evalue": "name 'car' is not defined",
     "output_type": "error",
     "traceback": [
      "\u001b[1;31m---------------------------------------------------------------------------\u001b[0m",
      "\u001b[1;31mNameError\u001b[0m                                 Traceback (most recent call last)",
      "\u001b[1;32m~\\AppData\\Local\\Temp/ipykernel_18808/2105811726.py\u001b[0m in \u001b[0;36m<module>\u001b[1;34m\u001b[0m\n\u001b[0;32m      6\u001b[0m       'price': '50 Lacks'} \n\u001b[0;32m      7\u001b[0m \u001b[1;32mdel\u001b[0m \u001b[0mcar\u001b[0m\u001b[1;33m\u001b[0m\u001b[1;33m\u001b[0m\u001b[0m\n\u001b[1;32m----> 8\u001b[1;33m \u001b[0mprint\u001b[0m\u001b[1;33m(\u001b[0m\u001b[0mcar\u001b[0m\u001b[1;33m)\u001b[0m\u001b[1;33m\u001b[0m\u001b[1;33m\u001b[0m\u001b[0m\n\u001b[0m",
      "\u001b[1;31mNameError\u001b[0m: name 'car' is not defined"
     ]
    }
   ],
   "source": [
    "car= {'brand': 'Ford',\n",
    "      'model': 'Mustang',\n",
    "      'year': 2022,\n",
    "      'color': 'Red',\n",
    "      'Engine': 'Petrol',\n",
    "      'price': '50 Lacks'} \n",
    "\n",
    "del car\n",
    "print(car)"
   ]
  },
  {
   "cell_type": "markdown",
   "id": "411bc52b",
   "metadata": {},
   "source": [
    "### 5. Example\n",
    "\n",
    "* The clear() method empties the dictionary:"
   ]
  },
  {
   "cell_type": "code",
   "execution_count": 51,
   "id": "6e97c4eb",
   "metadata": {},
   "outputs": [
    {
     "name": "stdout",
     "output_type": "stream",
     "text": [
      "{}\n"
     ]
    }
   ],
   "source": [
    "car= {'brand': 'Ford',\n",
    "      'model': 'Mustang',\n",
    "      'year': 2022,\n",
    "      'color': 'Red',\n",
    "      'Engine': 'Petrol',\n",
    "      'price': '50 Lacks'} \n",
    "car.clear()\n",
    "print(car)"
   ]
  },
  {
   "cell_type": "markdown",
   "id": "0f586c7c",
   "metadata": {},
   "source": [
    "# <center> Python - Loop Dictionaries"
   ]
  },
  {
   "cell_type": "markdown",
   "id": "a9e736a4",
   "metadata": {},
   "source": [
    "### Loop Through a Dictionary:\n",
    "\n",
    "* You can loop through a dictionary by using a for loop.\n",
    "\n",
    "* When looping through a dictionary, the return value are the keys of the dictionary, but there are methods to return the values as well."
   ]
  },
  {
   "cell_type": "raw",
   "id": "29b960ca",
   "metadata": {},
   "source": [
    "### Example:\n",
    "\n",
    "# Print all \"key names\" in the dictionary, one by one:\n",
    "\n",
    "# Syntax:\n",
    "    \n",
    "for x in thisdict:\n",
    "    print(x)"
   ]
  },
  {
   "cell_type": "code",
   "execution_count": 53,
   "id": "1f9bcb7e",
   "metadata": {},
   "outputs": [
    {
     "name": "stdout",
     "output_type": "stream",
     "text": [
      "brand\n",
      "model\n",
      "year\n",
      "color\n",
      "Engine\n",
      "price\n"
     ]
    }
   ],
   "source": [
    "dict1= {'brand': 'Ford',\n",
    "      'model': 'Mustang',\n",
    "      'year': 2022,\n",
    "      'color': 'Red',\n",
    "      'Engine': 'Petrol',\n",
    "      'price': '50 Lacks'} \n",
    "\n",
    "for items in dict1:\n",
    "    print(items)"
   ]
  },
  {
   "cell_type": "raw",
   "id": "c3f2ab50",
   "metadata": {},
   "source": [
    "Example\n",
    "Print all \"values\" in the dictionary, one by one:"
   ]
  },
  {
   "cell_type": "code",
   "execution_count": 54,
   "id": "bc3b93d3",
   "metadata": {},
   "outputs": [
    {
     "name": "stdout",
     "output_type": "stream",
     "text": [
      "Ford\n",
      "Mustang\n",
      "2022\n",
      "Red\n",
      "Petrol\n",
      "50 Lacks\n"
     ]
    }
   ],
   "source": [
    "dict1= {'brand': 'Ford',\n",
    "      'model': 'Mustang',\n",
    "      'year': 2022,\n",
    "      'color': 'Red',\n",
    "      'Engine': 'Petrol',\n",
    "      'price': '50 Lacks'} \n",
    "\n",
    "for item in dict1:\n",
    "    print(dict1[item])"
   ]
  },
  {
   "cell_type": "markdown",
   "id": "bbb22103",
   "metadata": {},
   "source": [
    "#### Example\n",
    "* You can also use the values() method to return values of a dictionary:"
   ]
  },
  {
   "cell_type": "code",
   "execution_count": 55,
   "id": "92ad42ff",
   "metadata": {},
   "outputs": [
    {
     "name": "stdout",
     "output_type": "stream",
     "text": [
      "Ford\n",
      "Mustang\n",
      "2022\n",
      "Red\n",
      "Petrol\n",
      "50 Lacks\n"
     ]
    }
   ],
   "source": [
    "dict1= {'brand': 'Ford',\n",
    "      'model': 'Mustang',\n",
    "      'year': 2022,\n",
    "      'color': 'Red',\n",
    "      'Engine': 'Petrol',\n",
    "      'price': '50 Lacks'} \n",
    "\n",
    "for items in dict1.values():                     # values() function\n",
    "    print(items)"
   ]
  },
  {
   "cell_type": "markdown",
   "id": "c6761da7",
   "metadata": {},
   "source": [
    "#### Example\n",
    "\n",
    "* You can use the keys() method to return the keys of a dictionary:"
   ]
  },
  {
   "cell_type": "code",
   "execution_count": 56,
   "id": "4ed294b1",
   "metadata": {},
   "outputs": [
    {
     "name": "stdout",
     "output_type": "stream",
     "text": [
      "brand\n",
      "model\n",
      "year\n",
      "color\n",
      "Engine\n",
      "price\n"
     ]
    }
   ],
   "source": [
    "dict1= {'brand': 'Ford',\n",
    "      'model': 'Mustang',\n",
    "      'year': 2022,\n",
    "      'color': 'Red',\n",
    "      'Engine': 'Petrol',\n",
    "      'price': '50 Lacks'} \n",
    "\n",
    "for items in dict1.keys():\n",
    "    print(items)"
   ]
  },
  {
   "cell_type": "markdown",
   "id": "82016818",
   "metadata": {},
   "source": [
    "### Example:\n",
    "\n",
    "* Loop through both keys and values, by using the items() method:"
   ]
  },
  {
   "cell_type": "code",
   "execution_count": 57,
   "id": "e8b67f07",
   "metadata": {},
   "outputs": [
    {
     "name": "stdout",
     "output_type": "stream",
     "text": [
      "('brand', 'Ford')\n",
      "('model', 'Mustang')\n",
      "('year', 2022)\n",
      "('color', 'Red')\n",
      "('Engine', 'Petrol')\n",
      "('price', '50 Lacks')\n"
     ]
    }
   ],
   "source": [
    "dict1= {'brand': 'Ford',\n",
    "      'model': 'Mustang',\n",
    "      'year': 2022,\n",
    "      'color': 'Red',\n",
    "      'Engine': 'Petrol',\n",
    "      'price': '50 Lacks'} \n",
    "\n",
    "for items in dict1.items():\n",
    "    print(items)"
   ]
  },
  {
   "cell_type": "markdown",
   "id": "c55e307c",
   "metadata": {},
   "source": [
    "# <center> Python - Copy Dictionaries"
   ]
  },
  {
   "cell_type": "markdown",
   "id": "49f47895",
   "metadata": {},
   "source": [
    "### Copy a Dictionary:\n",
    "\n",
    "* You cannot copy a dictionary simply by typing dict2 = dict1, because: dict2 will only be a reference to dict1, and changes made in dict1 will automatically also be made in dict2.\n",
    "\n",
    "* There are ways to make a copy, one way is to use the built-in Dictionary method copy()."
   ]
  },
  {
   "cell_type": "markdown",
   "id": "9d568fac",
   "metadata": {},
   "source": [
    "#### Example\n",
    "* Make a copy of a dictionary with the copy() method:"
   ]
  },
  {
   "cell_type": "code",
   "execution_count": 58,
   "id": "5adb5107",
   "metadata": {},
   "outputs": [
    {
     "name": "stdout",
     "output_type": "stream",
     "text": [
      "{'brand': 'Ford', 'model': 'Mustang', 'year': 2022, 'color': 'Red', 'Engine': 'Petrol', 'price': '50 Lacks'}\n"
     ]
    }
   ],
   "source": [
    "car1= {'brand': 'Ford',\n",
    "      'model': 'Mustang',\n",
    "      'year': 2022,\n",
    "      'color': 'Red',\n",
    "      'Engine': 'Petrol',\n",
    "      'price': '50 Lacks'} \n",
    "\n",
    "mydict=car1.copy()\n",
    "print(mydict)"
   ]
  },
  {
   "cell_type": "code",
   "execution_count": null,
   "id": "4e194c18",
   "metadata": {},
   "outputs": [],
   "source": [
    "Another way to make a copy is to use the built-in function dict()."
   ]
  },
  {
   "cell_type": "code",
   "execution_count": 59,
   "id": "a6e9fbe5",
   "metadata": {},
   "outputs": [
    {
     "name": "stdout",
     "output_type": "stream",
     "text": [
      "{'brand': 'Ford', 'model': 'Mustang', 'year': 2022, 'color': 'Red', 'Engine': 'Petrol', 'price': '50 Lacks'}\n"
     ]
    }
   ],
   "source": [
    "car1= {'brand': 'Ford',\n",
    "      'model': 'Mustang',\n",
    "      'year': 2022,\n",
    "      'color': 'Red',\n",
    "      'Engine': 'Petrol',\n",
    "      'price': '50 Lacks'} \n",
    "\n",
    "mydict=dict(car1)\n",
    "print(mydict)"
   ]
  },
  {
   "cell_type": "markdown",
   "id": "d5301029",
   "metadata": {},
   "source": [
    "# <center> Python - Nested Dictionaries"
   ]
  },
  {
   "cell_type": "code",
   "execution_count": null,
   "id": "88227874",
   "metadata": {},
   "outputs": [],
   "source": [
    "Nested Dictionaries\n",
    "A dictionary can contain dictionaries, this is called nested dictionaries."
   ]
  },
  {
   "cell_type": "code",
   "execution_count": 61,
   "id": "e5301f53",
   "metadata": {},
   "outputs": [
    {
     "name": "stdout",
     "output_type": "stream",
     "text": [
      "{'child1': {'name': 'Ajay', 'year': 2004}, 'child2': {'name': 'Krishna', 'year': 2007}, 'child3': {'name': 'Shantanu', 'year': 2011}}\n"
     ]
    }
   ],
   "source": [
    "#Create a dictionary that contain three dictionaries:\n",
    "\n",
    "myfamily = {\n",
    "  \"child1\" : {\n",
    "    \"name\" : \"Ajay\",\n",
    "    \"year\" : 2004\n",
    "  }, \n",
    "  \"child2\" : {\n",
    "    \"name\" : \"Krishna\",\n",
    "    \"year\" : 2007\n",
    "  },\n",
    "  \"child3\" : {\n",
    "    \"name\" : \"Shantanu\",\n",
    "    \"year\" : 2011\n",
    "  }\n",
    "}\n",
    "\n",
    "print(myfamily)"
   ]
  },
  {
   "cell_type": "code",
   "execution_count": null,
   "id": "491b9207",
   "metadata": {},
   "outputs": [],
   "source": [
    "Or, if you want to add three dictionaries into a new dictionary:"
   ]
  },
  {
   "cell_type": "raw",
   "id": "7edc1cdf",
   "metadata": {},
   "source": [
    "Create three dictionaries, then create one dictionary that will contain the other three dictionaries:"
   ]
  },
  {
   "cell_type": "code",
   "execution_count": 1,
   "id": "0bd9c722",
   "metadata": {},
   "outputs": [
    {
     "name": "stdout",
     "output_type": "stream",
     "text": [
      "{'child1': {'name': 'Emil', 'year': 2004}, 'child2': {'name': 'Tobias', 'year': 2007}, 'child3': {'name': 'Linus', 'year': 2011}}\n"
     ]
    }
   ],
   "source": [
    "child1 = {\n",
    "  \"name\" : \"Emil\",\n",
    "  \"year\" : 2004\n",
    "}\n",
    "child2 = {\n",
    "  \"name\" : \"Tobias\",\n",
    "  \"year\" : 2007\n",
    "}\n",
    "child3 = {\n",
    "  \"name\" : \"Linus\",\n",
    "  \"year\" : 2011\n",
    "}\n",
    "\n",
    "myfamily = {\n",
    "  \"child1\" : child1,\n",
    "  \"child2\" : child2,\n",
    "  \"child3\" : child3\n",
    "}\n",
    "\n",
    "print(myfamily)"
   ]
  },
  {
   "cell_type": "markdown",
   "id": "28ee1b22",
   "metadata": {},
   "source": [
    "# <center> Python Dictionary Methods"
   ]
  },
  {
   "cell_type": "markdown",
   "id": "238192a7",
   "metadata": {},
   "source": [
    "### 1. Dictionary clear() Method"
   ]
  },
  {
   "cell_type": "code",
   "execution_count": null,
   "id": "14db7b37",
   "metadata": {},
   "outputs": [],
   "source": [
    "Definition and Usage\n",
    "The clear() method removes all the elements from a dictionary."
   ]
  },
  {
   "cell_type": "code",
   "execution_count": 3,
   "id": "4a62513d",
   "metadata": {},
   "outputs": [
    {
     "name": "stdout",
     "output_type": "stream",
     "text": [
      "{}\n"
     ]
    }
   ],
   "source": [
    "car = {\n",
    "  \"brand\": \"Ford\",\n",
    "  \"model\": \"Mustang\",\n",
    "  \"year\": 1964\n",
    "}\n",
    "\n",
    "car.clear()\n",
    "print(car)"
   ]
  },
  {
   "cell_type": "markdown",
   "id": "bc85d6de",
   "metadata": {},
   "source": [
    "### 2. Dictionary copy() Method"
   ]
  },
  {
   "cell_type": "code",
   "execution_count": null,
   "id": "ba4623a9",
   "metadata": {},
   "outputs": [],
   "source": [
    "Definition and Usage\n",
    "The copy() method returns a copy of the specified dictionary."
   ]
  },
  {
   "cell_type": "code",
   "execution_count": 4,
   "id": "9cb152ec",
   "metadata": {},
   "outputs": [
    {
     "name": "stdout",
     "output_type": "stream",
     "text": [
      "{'brand': 'Ford', 'model': 'Mustang', 'year': 1964}\n"
     ]
    }
   ],
   "source": [
    "car = {\n",
    "  \"brand\": \"Ford\",\n",
    "  \"model\": \"Mustang\",\n",
    "  \"year\": 1964\n",
    "}\n",
    "\n",
    "x= car.copy()\n",
    "print(x)"
   ]
  },
  {
   "cell_type": "markdown",
   "id": "59e25ab2",
   "metadata": {},
   "source": [
    "### 3.Dictionary fromkeys() Method"
   ]
  },
  {
   "cell_type": "code",
   "execution_count": null,
   "id": "f8c4cef3",
   "metadata": {},
   "outputs": [],
   "source": [
    "Definition and Usage\n",
    "The fromkeys() method returns a dictionary with the specified keys and the specified value."
   ]
  },
  {
   "cell_type": "code",
   "execution_count": 5,
   "id": "0b87b458",
   "metadata": {},
   "outputs": [
    {
     "name": "stdout",
     "output_type": "stream",
     "text": [
      "{'key1': 0, 'key2': 0, 'key3': 0}\n"
     ]
    }
   ],
   "source": [
    "x = ('key1', 'key2', 'key3')\n",
    "\n",
    "y = 0\n",
    "\n",
    "dict1= dict.fromkeys(x,y)\n",
    "print(dict1)"
   ]
  },
  {
   "cell_type": "code",
   "execution_count": null,
   "id": "f33ceb0d",
   "metadata": {},
   "outputs": [],
   "source": [
    "Same example as above, but without specifying the value:"
   ]
  },
  {
   "cell_type": "code",
   "execution_count": 6,
   "id": "f139017f",
   "metadata": {},
   "outputs": [
    {
     "name": "stdout",
     "output_type": "stream",
     "text": [
      "{'key1': None, 'key2': None, 'key3': None}\n"
     ]
    }
   ],
   "source": [
    "\n",
    "x = ('key1', 'key2', 'key3')\n",
    "\n",
    "dict1= dict.fromkeys(x)\n",
    "print(dict1)"
   ]
  },
  {
   "cell_type": "code",
   "execution_count": 7,
   "id": "7976eeff",
   "metadata": {},
   "outputs": [
    {
     "name": "stdout",
     "output_type": "stream",
     "text": [
      "{'key1': 100, 'key2': 100, 'key3': 100}\n"
     ]
    }
   ],
   "source": [
    "\n",
    "x = ('key1', 'key2', 'key3')\n",
    "\n",
    "dict1= dict.fromkeys(x,100)\n",
    "print(dict1)"
   ]
  },
  {
   "cell_type": "code",
   "execution_count": 8,
   "id": "31147187",
   "metadata": {},
   "outputs": [
    {
     "name": "stdout",
     "output_type": "stream",
     "text": [
      "{'key1': [100, 200], 'key2': [100, 200], 'key3': [100, 200]}\n"
     ]
    }
   ],
   "source": [
    "\n",
    "x = ('key1', 'key2', 'key3')\n",
    "\n",
    "dict1= dict.fromkeys(x,[100,200])\n",
    "print(dict1)"
   ]
  },
  {
   "cell_type": "code",
   "execution_count": 9,
   "id": "7eb8ccd5",
   "metadata": {},
   "outputs": [
    {
     "name": "stdout",
     "output_type": "stream",
     "text": [
      "{'key1': {50, 100}, 'key2': {50, 100}, 'key3': {50, 100}}\n"
     ]
    }
   ],
   "source": [
    "\n",
    "x = ('key1', 'key2', 'key3')\n",
    "\n",
    "dict1= dict.fromkeys(x,{50,100})\n",
    "print(dict1)"
   ]
  },
  {
   "cell_type": "markdown",
   "id": "f465eb38",
   "metadata": {},
   "source": [
    "### 4. Dictionary get() Method"
   ]
  },
  {
   "cell_type": "code",
   "execution_count": null,
   "id": "d090aa9e",
   "metadata": {},
   "outputs": [],
   "source": [
    "Definition and Usage\n",
    "The get() method returns the value of the item with the specified key."
   ]
  },
  {
   "cell_type": "code",
   "execution_count": 11,
   "id": "b76fad2b",
   "metadata": {},
   "outputs": [
    {
     "name": "stdout",
     "output_type": "stream",
     "text": [
      "Ford\n"
     ]
    }
   ],
   "source": [
    "#Get the value of the \"model\" item:\n",
    "\n",
    "car = {\n",
    "  \"brand\": \"Ford\",\n",
    "  \"model\": \"Mustang\",\n",
    "  \"year\": 1964\n",
    "}\n",
    "x=car.get(\"brand\")\n",
    "print(x)"
   ]
  },
  {
   "cell_type": "code",
   "execution_count": null,
   "id": "5a6aea37",
   "metadata": {},
   "outputs": [],
   "source": [
    "Try to return the value of an item that do not exist:"
   ]
  },
  {
   "cell_type": "code",
   "execution_count": 12,
   "id": "cc06269c",
   "metadata": {},
   "outputs": [
    {
     "name": "stdout",
     "output_type": "stream",
     "text": [
      "15000\n"
     ]
    }
   ],
   "source": [
    "car = {\n",
    "  \"brand\": \"Ford\",\n",
    "  \"model\": \"Mustang\",\n",
    "  \"year\": 1964\n",
    "}\n",
    "\n",
    "x = car.get(\"price\", 15000)\n",
    "\n",
    "print(x)"
   ]
  },
  {
   "cell_type": "markdown",
   "id": "5e5ed31e",
   "metadata": {},
   "source": [
    "### 5. Dictionary items() Method"
   ]
  },
  {
   "cell_type": "raw",
   "id": "a3167c4a",
   "metadata": {},
   "source": [
    "Definition and Usage\n",
    "The items() method returns a view object. The view object contains the key-value pairs of the dictionary, as tuples in a list.\n",
    "\n",
    "The view object will reflect any changes done to the dictionary, see example below."
   ]
  },
  {
   "cell_type": "code",
   "execution_count": null,
   "id": "31f28ad2",
   "metadata": {},
   "outputs": [],
   "source": [
    "Return the dictionary's key-value pairs:"
   ]
  },
  {
   "cell_type": "code",
   "execution_count": 13,
   "id": "22eab0c9",
   "metadata": {},
   "outputs": [
    {
     "name": "stdout",
     "output_type": "stream",
     "text": [
      "dict_items([('brand', 'Ford'), ('model', 'Mustang'), ('year', 1964)])\n"
     ]
    }
   ],
   "source": [
    "\n",
    "car = {\n",
    "  \"brand\": \"Ford\",\n",
    "  \"model\": \"Mustang\",\n",
    "  \"year\": 1964\n",
    "}\n",
    "\n",
    "x= car.items()\n",
    "print(x)"
   ]
  },
  {
   "cell_type": "raw",
   "id": "39c1832c",
   "metadata": {},
   "source": [
    "When an item in the dictionary changes value, the view object also gets updated:"
   ]
  },
  {
   "cell_type": "code",
   "execution_count": 15,
   "id": "a1f3ed40",
   "metadata": {},
   "outputs": [
    {
     "name": "stdout",
     "output_type": "stream",
     "text": [
      "dict_items([('brand', 'Ford'), ('model', 'Mustang'), ('year', 1964), ('color', 'Red')])\n"
     ]
    }
   ],
   "source": [
    "car = {\n",
    "  \"brand\": \"Ford\",\n",
    "  \"model\": \"Mustang\",\n",
    "  \"year\": 1964\n",
    "}\n",
    "\n",
    "p= car.items()\n",
    "car[\"color\"]= \"Red\"\n",
    "\n",
    "print(p)"
   ]
  },
  {
   "cell_type": "markdown",
   "id": "b881faac",
   "metadata": {},
   "source": [
    "### 6. Dictionary keys() Method"
   ]
  },
  {
   "cell_type": "raw",
   "id": "6db4e1b4",
   "metadata": {},
   "source": [
    "Definition and Usage\n",
    "The keys() method returns a view object. The view object contains the keys of the dictionary, as a list.\n",
    "\n",
    "The view object will reflect any changes done to the dictionary, see example below."
   ]
  },
  {
   "cell_type": "code",
   "execution_count": 16,
   "id": "3475abcb",
   "metadata": {},
   "outputs": [
    {
     "name": "stdout",
     "output_type": "stream",
     "text": [
      "dict_keys(['brand', 'model', 'year'])\n"
     ]
    }
   ],
   "source": [
    "car = {\n",
    "  \"brand\": \"Ford\",\n",
    "  \"model\": \"Mustang\",\n",
    "  \"year\": 1964\n",
    "}\n",
    "\n",
    "x = car.keys()\n",
    "\n",
    "print(x)"
   ]
  },
  {
   "cell_type": "code",
   "execution_count": 17,
   "id": "5c10d010",
   "metadata": {},
   "outputs": [
    {
     "name": "stdout",
     "output_type": "stream",
     "text": [
      "dict_keys(['brand', 'model', 'year', 'color'])\n"
     ]
    }
   ],
   "source": [
    "car = {\n",
    "  \"brand\": \"Ford\",\n",
    "  \"model\": \"Mustang\",\n",
    "  \"year\": 2020 }\n",
    "\n",
    "x = car.keys()\n",
    "\n",
    "car[\"color\"] = \"white\"\n",
    "\n",
    "print(x)"
   ]
  },
  {
   "cell_type": "markdown",
   "id": "fba49684",
   "metadata": {},
   "source": [
    "### 7.  Dictionary popitem() Method"
   ]
  },
  {
   "cell_type": "raw",
   "id": "1b4ea4c5",
   "metadata": {},
   "source": [
    "Definition and Usage\n",
    "The popitem() method removes the item that was last inserted into the dictionary. In versions before 3.7, the popitem() method removes a random item.\n",
    "\n",
    "The removed item is the return value of the popitem() method, as a tuple, see example below."
   ]
  },
  {
   "cell_type": "code",
   "execution_count": 23,
   "id": "3c7a0632",
   "metadata": {},
   "outputs": [
    {
     "name": "stdout",
     "output_type": "stream",
     "text": [
      "poped Item is:  ('price', '50 Lacks')\n",
      "Dictionary items after poped items are:  {'brand': 'Ford', 'model': 'Mustang', 'year': 2022, 'color': 'Red', 'Engine': 'Petrol'}\n"
     ]
    }
   ],
   "source": [
    "car1= {'brand': 'Ford',\n",
    "      'model': 'Mustang',\n",
    "      'year': 2022,\n",
    "      'color': 'Red',\n",
    "      'Engine': 'Petrol',\n",
    "      'price': '50 Lacks'} \n",
    "\n",
    "a= car1.popitem()\n",
    "print(\"poped Item is: \",a)\n",
    "print(\"Dictionary items after poped items are: \",car1)"
   ]
  },
  {
   "cell_type": "code",
   "execution_count": 24,
   "id": "8b42dbc0",
   "metadata": {},
   "outputs": [
    {
     "name": "stdout",
     "output_type": "stream",
     "text": [
      "('year', 1964)\n"
     ]
    }
   ],
   "source": [
    "#The removed item is the return value of the pop() method:\n",
    "\n",
    "car = {\n",
    "  \"brand\": \"Ford\",\n",
    "  \"model\": \"Mustang\",\n",
    "  \"year\": 1964\n",
    "}\n",
    "\n",
    "x = car.popitem()\n",
    "\n",
    "print(x)"
   ]
  },
  {
   "cell_type": "markdown",
   "id": "ad9f5a1d",
   "metadata": {},
   "source": [
    "### Dictionary Exercise:\n",
    "\n",
    "https://www.w3schools.com/python/python_dictionaries_exercises.asp"
   ]
  },
  {
   "cell_type": "code",
   "execution_count": null,
   "id": "fc045ce6",
   "metadata": {},
   "outputs": [],
   "source": []
  }
 ],
 "metadata": {
  "kernelspec": {
   "display_name": "Python 3 (ipykernel)",
   "language": "python",
   "name": "python3"
  },
  "language_info": {
   "codemirror_mode": {
    "name": "ipython",
    "version": 3
   },
   "file_extension": ".py",
   "mimetype": "text/x-python",
   "name": "python",
   "nbconvert_exporter": "python",
   "pygments_lexer": "ipython3",
   "version": "3.8.12"
  }
 },
 "nbformat": 4,
 "nbformat_minor": 5
}
