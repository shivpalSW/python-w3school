{
 "cells": [
  {
   "cell_type": "markdown",
   "id": "90d00c40",
   "metadata": {},
   "source": [
    "# <center> 14.Python Lambda"
   ]
  },
  {
   "cell_type": "raw",
   "id": "eaa7b033",
   "metadata": {},
   "source": [
    "A lambda function is a small anonymous function.\n",
    "\n",
    "A lambda function can take any number of arguments, but can only have one expression."
   ]
  },
  {
   "cell_type": "raw",
   "id": "73385656",
   "metadata": {},
   "source": [
    "Sytax:\n",
    "    Lambda arguments: expression\n",
    "        \n",
    "# The expression is executed and the result is returned"
   ]
  },
  {
   "cell_type": "code",
   "execution_count": 1,
   "id": "1549db6a",
   "metadata": {},
   "outputs": [
    {
     "name": "stdout",
     "output_type": "stream",
     "text": [
      "20\n"
     ]
    }
   ],
   "source": [
    "# example:\n",
    "\n",
    "x= lambda a : a+10\n",
    "print(x(10))"
   ]
  },
  {
   "cell_type": "code",
   "execution_count": 2,
   "id": "2c9c6340",
   "metadata": {},
   "outputs": [
    {
     "name": "stdout",
     "output_type": "stream",
     "text": [
      "25\n"
     ]
    }
   ],
   "source": [
    "x= lambda a: a**2 \n",
    "print(x(5))"
   ]
  },
  {
   "cell_type": "code",
   "execution_count": null,
   "id": "d8071322",
   "metadata": {},
   "outputs": [],
   "source": [
    "Lambda functions can any functions as arguments:"
   ]
  },
  {
   "cell_type": "code",
   "execution_count": 3,
   "id": "59be9a32",
   "metadata": {},
   "outputs": [
    {
     "name": "stdout",
     "output_type": "stream",
     "text": [
      "30\n"
     ]
    }
   ],
   "source": [
    "# Example\n",
    "\n",
    "\n",
    "x = lambda a,b : a*b \n",
    "print(x(5,6))"
   ]
  },
  {
   "cell_type": "code",
   "execution_count": 4,
   "id": "23b69633",
   "metadata": {},
   "outputs": [
    {
     "name": "stdout",
     "output_type": "stream",
     "text": [
      "60\n"
     ]
    }
   ],
   "source": [
    "# Summarize argument a, b, and c and return the result:\n",
    "\n",
    "x= lambda a,b,c: a+b+c \n",
    "print(x(10,20,30))"
   ]
  },
  {
   "cell_type": "raw",
   "id": "34f8cee0",
   "metadata": {},
   "source": [
    "Why Use Lambda Functions?\n",
    "The power of lambda is better shown when you use them as an anonymous function inside another function.\n",
    "\n",
    "Say you have a function definition that takes one argument, and that argument will be multiplied with an unknown number:"
   ]
  },
  {
   "cell_type": "code",
   "execution_count": null,
   "id": "d8899988",
   "metadata": {},
   "outputs": [],
   "source": [
    "def myfunc():\n",
    "    \n",
    "    return lambda a: a*n"
   ]
  },
  {
   "cell_type": "code",
   "execution_count": 6,
   "id": "a51129bb",
   "metadata": {},
   "outputs": [
    {
     "name": "stdout",
     "output_type": "stream",
     "text": [
      "22\n"
     ]
    }
   ],
   "source": [
    "# Example:\n",
    "\n",
    "def myfunc(n):\n",
    "    return lambda a: a*n\n",
    "\n",
    "mydoubler= myfunc(2)\n",
    "\n",
    "print(mydoubler(11))"
   ]
  },
  {
   "cell_type": "code",
   "execution_count": 16,
   "id": "0e67f18b",
   "metadata": {},
   "outputs": [
    {
     "name": "stdout",
     "output_type": "stream",
     "text": [
      "30\n"
     ]
    }
   ],
   "source": [
    "def myfunc(n):\n",
    "    return lambda a: a*n\n",
    "\n",
    "\n",
    "mytripler = myfunc(3)\n",
    "\n",
    "print(mytripler(10))"
   ]
  },
  {
   "cell_type": "raw",
   "id": "38e3cf65",
   "metadata": {},
   "source": [
    "# Or, use the same function definition to make both functions, in the same program:"
   ]
  },
  {
   "cell_type": "code",
   "execution_count": 20,
   "id": "4564e2e5",
   "metadata": {},
   "outputs": [
    {
     "name": "stdout",
     "output_type": "stream",
     "text": [
      "Doubler is:  50\n",
      "Tripler is:  75\n"
     ]
    }
   ],
   "source": [
    "def myfunc(n):\n",
    "    return lambda a: a*n \n",
    "\n",
    "mydoubler= myfunc(2)\n",
    "print(\"Doubler is: \",mydoubler(25))\n",
    "\n",
    "mytripler= myfunc(3)\n",
    "\n",
    "print(\"Tripler is: \",mytripler(25))"
   ]
  },
  {
   "cell_type": "raw",
   "id": "7b9ebf23",
   "metadata": {},
   "source": [
    "use lambda when anonymous function is required for a short period of time."
   ]
  },
  {
   "cell_type": "code",
   "execution_count": null,
   "id": "9375b35a",
   "metadata": {},
   "outputs": [],
   "source": []
  }
 ],
 "metadata": {
  "kernelspec": {
   "display_name": "Python 3 (ipykernel)",
   "language": "python",
   "name": "python3"
  },
  "language_info": {
   "codemirror_mode": {
    "name": "ipython",
    "version": 3
   },
   "file_extension": ".py",
   "mimetype": "text/x-python",
   "name": "python",
   "nbconvert_exporter": "python",
   "pygments_lexer": "ipython3",
   "version": "3.8.12"
  }
 },
 "nbformat": 4,
 "nbformat_minor": 5
}
