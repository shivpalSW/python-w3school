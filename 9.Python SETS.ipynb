{
 "cells": [
  {
   "cell_type": "markdown",
   "id": "76dd5558",
   "metadata": {},
   "source": [
    "# <center> 9.Python SETS\n",
    "\n",
    "https://www.w3schools.com/python/python_sets.asp"
   ]
  },
  {
   "cell_type": "markdown",
   "id": "247744c4",
   "metadata": {},
   "source": [
    "### Set Items\n",
    "* Set items are unordered, unchangeable, and do not allow duplicate values.\n",
    "\n",
    "### Unordered\n",
    "* Unordered means that the items in a set do not have a defined order.\n",
    "\n",
    "* Set items can appear in a different order every time you use them, and cannot be referred to by index or key.\n",
    "\n",
    "### Unchangeable\n",
    "* Set items are unchangeable, meaning that we cannot change the items after the set has been created.\n",
    "\n",
    "* Once a set is created, you cannot change its items, but you can remove items and add new items.\n",
    "\n",
    "### Duplicates Not Allowed\n",
    "* Sets cannot have two items with the same value."
   ]
  },
  {
   "cell_type": "code",
   "execution_count": 1,
   "id": "fd2c29e6",
   "metadata": {},
   "outputs": [
    {
     "name": "stdout",
     "output_type": "stream",
     "text": [
      "{'apple', 'cherry', 'banana'}\n"
     ]
    }
   ],
   "source": [
    "myset= {\"apple\",\"banana\",\"cherry\"}\n",
    "print(myset)"
   ]
  },
  {
   "cell_type": "markdown",
   "id": "ca6698e6",
   "metadata": {},
   "source": [
    "### Set:\n",
    "\n",
    "* Sets are used to store multiple items in a single variable.\n",
    "\n",
    "* Set is one of 4 built-in data types in Python used to store collections of data, the other 3 are List, Tuple, and Dictionary, all with different qualities and usage.\n",
    "\n",
    "* A set is a collection which is unordered, unchangeable*, and unindexed.\n",
    "\n",
    "* Note: Set items are unchangeable, but you can remove items and add new items."
   ]
  },
  {
   "cell_type": "raw",
   "id": "f3160560",
   "metadata": {},
   "source": [
    "Note: Sets are unordered, so you cannot be sure in which order the items will appear."
   ]
  },
  {
   "cell_type": "code",
   "execution_count": 3,
   "id": "819e82cd",
   "metadata": {},
   "outputs": [
    {
     "name": "stdout",
     "output_type": "stream",
     "text": [
      "{'apple', 'cherry', 'banana'}\n"
     ]
    }
   ],
   "source": [
    "thisset = {\"apple\", \"banana\", \"cherry\", \"apple\"}\n",
    "\n",
    "print(thisset)\n",
    "#Sets cannot have two items with the same value."
   ]
  },
  {
   "cell_type": "code",
   "execution_count": null,
   "id": "78023a91",
   "metadata": {},
   "outputs": [],
   "source": [
    "Get the Length of a Set\n",
    "To determine how many items a set has, use the len() function."
   ]
  },
  {
   "cell_type": "code",
   "execution_count": 4,
   "id": "8ddb5e3e",
   "metadata": {},
   "outputs": [
    {
     "name": "stdout",
     "output_type": "stream",
     "text": [
      "3\n"
     ]
    }
   ],
   "source": [
    "thisset = {\"apple\", \"banana\", \"cherry\"}\n",
    "\n",
    "print(len(thisset))"
   ]
  },
  {
   "cell_type": "markdown",
   "id": "8ca5804a",
   "metadata": {},
   "source": [
    "### Set Items - Data Types\n",
    "Set items can be of any data type:"
   ]
  },
  {
   "cell_type": "code",
   "execution_count": 5,
   "id": "3b8f30ef",
   "metadata": {},
   "outputs": [
    {
     "name": "stdout",
     "output_type": "stream",
     "text": [
      "{'apple', 'cherry', 'banana'}\n",
      "{1, 3, 5, 7, 9}\n",
      "{False, True}\n"
     ]
    }
   ],
   "source": [
    "set1 = {\"apple\", \"banana\", \"cherry\"}\n",
    "set2 = {1, 5, 7, 9, 3}\n",
    "set3 = {True, False, False}\n",
    "\n",
    "print(set1)\n",
    "print(set2)\n",
    "print(set3)"
   ]
  },
  {
   "cell_type": "code",
   "execution_count": 6,
   "id": "37b5b98b",
   "metadata": {},
   "outputs": [
    {
     "name": "stdout",
     "output_type": "stream",
     "text": [
      "{True, 34, 'male', 40, 'abc'}\n"
     ]
    }
   ],
   "source": [
    "# A set can contain different data types:.A set with strings, integers and boolean values:\n",
    "\n",
    "set1 = {\"abc\", 34, True, 40, \"male\"}\n",
    "print(set1)"
   ]
  },
  {
   "cell_type": "raw",
   "id": "8a442a28",
   "metadata": {},
   "source": [
    "type()\n",
    "From Python's perspective, sets are defined as objects with the data type 'set':"
   ]
  },
  {
   "cell_type": "code",
   "execution_count": 7,
   "id": "93d454af",
   "metadata": {},
   "outputs": [
    {
     "name": "stdout",
     "output_type": "stream",
     "text": [
      "<class 'set'>\n"
     ]
    }
   ],
   "source": [
    "print(type(set1))"
   ]
  },
  {
   "cell_type": "markdown",
   "id": "283ac0dd",
   "metadata": {},
   "source": [
    "### The set() Constructor\n",
    "It is also possible to use the set() constructor to make a set."
   ]
  },
  {
   "cell_type": "code",
   "execution_count": 12,
   "id": "89d76ef4",
   "metadata": {},
   "outputs": [
    {
     "name": "stdout",
     "output_type": "stream",
     "text": [
      "{'apple', 'cherry', 'banana'}\n"
     ]
    }
   ],
   "source": [
    "set1= set((\"apple\",\"banana\",\"cherry\"))\n",
    "print(set1)"
   ]
  },
  {
   "cell_type": "raw",
   "id": "bc0dab68",
   "metadata": {},
   "source": [
    "Python Collections (Arrays)\n",
    "There are four collection data types in the Python programming language:\n",
    "\n",
    "List is a collection which is ordered and changeable. Allows duplicate members.\n",
    "Tuple is a collection which is ordered and unchangeable. Allows duplicate members.\n",
    "Set is a collection which is unordered, unchangeable*, and unindexed. No duplicate members.\n",
    "Dictionary is a collection which is ordered** and changeable. No duplicate members.\n",
    "*Set items are unchangeable, but you can remove items and add new items.\n",
    "\n",
    "**As of Python version 3.7, dictionaries are ordered. In Python 3.6 and earlier, dictionaries are unordered.\n",
    "\n",
    "When choosing a collection type, it is useful to understand the properties of that type. Choosing the right type for a particular data set could mean retention of meaning, and, it could mean an increase in efficiency or security."
   ]
  },
  {
   "cell_type": "markdown",
   "id": "51d1ec61",
   "metadata": {},
   "source": [
    "# <center> Python - Access Set Items"
   ]
  },
  {
   "cell_type": "raw",
   "id": "38c45294",
   "metadata": {},
   "source": [
    "Access Items\n",
    "You cannot access items in a set by referring to an index or a key.\n",
    "\n",
    "But you can loop through the set items using a for loop, or ask if a specified value is present in a set, by using the in keyword."
   ]
  },
  {
   "cell_type": "code",
   "execution_count": 13,
   "id": "2e43d5fa",
   "metadata": {},
   "outputs": [
    {
     "name": "stdout",
     "output_type": "stream",
     "text": [
      "apple\n",
      "cherry\n",
      "banana\n"
     ]
    }
   ],
   "source": [
    "thisset = {\"apple\", \"banana\", \"cherry\"}\n",
    "\n",
    "for i in thisset:\n",
    "    print(i)"
   ]
  },
  {
   "cell_type": "code",
   "execution_count": 14,
   "id": "fcc942dc",
   "metadata": {},
   "outputs": [
    {
     "name": "stdout",
     "output_type": "stream",
     "text": [
      "True\n"
     ]
    }
   ],
   "source": [
    "###Example\n",
    "\n",
    "#Check if \"banana\" is present in the set:\n",
    "\n",
    "thisset = {\"apple\", \"banana\", \"cherry\"}\n",
    "\n",
    "print(\"banana\" in thisset)"
   ]
  },
  {
   "cell_type": "raw",
   "id": "9572f5bf",
   "metadata": {},
   "source": [
    "Change Items\n",
    "Once a set is created, you cannot change its items, but you can add new items."
   ]
  },
  {
   "cell_type": "markdown",
   "id": "14b00113",
   "metadata": {},
   "source": [
    "# <center> Python - Add Set Items"
   ]
  },
  {
   "cell_type": "raw",
   "id": "d971bf6d",
   "metadata": {},
   "source": [
    "Add Items\n",
    "Once a set is created, you cannot change its items, but you can add new items.\n",
    "\n",
    "To add one item to a set use the add() method."
   ]
  },
  {
   "cell_type": "code",
   "execution_count": 15,
   "id": "89edf01c",
   "metadata": {},
   "outputs": [
    {
     "name": "stdout",
     "output_type": "stream",
     "text": [
      "{'apple', 'Mango', 'cherry', 'banana'}\n"
     ]
    }
   ],
   "source": [
    "# Add an item to a set, using the add() method:\n",
    "\n",
    "set1 = {\"apple\", \"banana\", \"cherry\"}\n",
    "\n",
    "set1.add(\"Mango\")\n",
    "print(set1)"
   ]
  },
  {
   "cell_type": "code",
   "execution_count": null,
   "id": "1ff57da6",
   "metadata": {},
   "outputs": [],
   "source": [
    "## Add Sets\n",
    "To add items from another set into the current set, use the update() method."
   ]
  },
  {
   "cell_type": "code",
   "execution_count": 16,
   "id": "43546abf",
   "metadata": {},
   "outputs": [
    {
     "name": "stdout",
     "output_type": "stream",
     "text": [
      "{'papaya', 'apple', 'cherry', 'mango', 'banana', 'pineapple'}\n"
     ]
    }
   ],
   "source": [
    "set1 = {\"apple\", \"banana\", \"cherry\"}\n",
    "set2 = {\"pineapple\", \"mango\", \"papaya\"}\n",
    "set1.update(set2)\n",
    "print(set1)"
   ]
  },
  {
   "cell_type": "markdown",
   "id": "440a71c4",
   "metadata": {},
   "source": [
    "### Add Any Iterable\n",
    "\n",
    "The object in the update() method does not have to be a set, it can be any iterable object (tuples, lists, dictionaries etc.)."
   ]
  },
  {
   "cell_type": "code",
   "execution_count": 17,
   "id": "45b8fd1d",
   "metadata": {},
   "outputs": [
    {
     "name": "stdout",
     "output_type": "stream",
     "text": [
      "{'apple', 'cherry', 'mango', 'pineapple', 'papaya', 'banana'}\n"
     ]
    }
   ],
   "source": [
    "set1 = {\"apple\", \"banana\", \"cherry\"}\n",
    "set2 = [\"pineapple\", \"mango\", \"papaya\"]\n",
    "\n",
    "set1.update(set2)\n",
    "print(set1)"
   ]
  },
  {
   "cell_type": "markdown",
   "id": "21b2639b",
   "metadata": {},
   "source": [
    "# <center> Python - Remove Set Items"
   ]
  },
  {
   "cell_type": "raw",
   "id": "a1728713",
   "metadata": {},
   "source": [
    "Remove Item\n",
    "\n",
    "To remove an item in a set, use the remove(), or the discard() method."
   ]
  },
  {
   "cell_type": "code",
   "execution_count": 19,
   "id": "a05b1cc8",
   "metadata": {},
   "outputs": [
    {
     "name": "stdout",
     "output_type": "stream",
     "text": [
      "{'apple', 'cherry'}\n"
     ]
    }
   ],
   "source": [
    "s1 = {\"apple\", \"banana\", \"cherry\"}\n",
    "s1.remove('banana')\n",
    "print(s1)"
   ]
  },
  {
   "cell_type": "raw",
   "id": "93b83c63",
   "metadata": {},
   "source": [
    "Note: If the item to remove does not exist, remove() will raise an error."
   ]
  },
  {
   "cell_type": "code",
   "execution_count": null,
   "id": "af8a7a12",
   "metadata": {},
   "outputs": [],
   "source": [
    "Example\n",
    "Remove \"banana\" by using the discard() method:"
   ]
  },
  {
   "cell_type": "code",
   "execution_count": 20,
   "id": "5234c2c1",
   "metadata": {},
   "outputs": [
    {
     "name": "stdout",
     "output_type": "stream",
     "text": [
      "{'cherry', 'banana'}\n"
     ]
    }
   ],
   "source": [
    "s1 = {\"apple\", \"banana\", \"cherry\"}\n",
    "s1.discard(\"apple\")\n",
    "print(s1)"
   ]
  },
  {
   "cell_type": "code",
   "execution_count": 22,
   "id": "dd8599eb",
   "metadata": {},
   "outputs": [
    {
     "name": "stdout",
     "output_type": "stream",
     "text": [
      "{'apple', 'cherry', 'banana'}\n"
     ]
    }
   ],
   "source": [
    "s1 = {\"apple\", \"banana\", \"cherry\"}\n",
    "s1.discard(\"Mango\")           # Mango is not pesent in the list, It wont throw any error\n",
    "print(s1)"
   ]
  },
  {
   "cell_type": "code",
   "execution_count": null,
   "id": "80dab903",
   "metadata": {},
   "outputs": [],
   "source": [
    "Note: If the item to remove does not exist, discard() will NOT raise an error.\n"
   ]
  },
  {
   "cell_type": "raw",
   "id": "c53b1c35",
   "metadata": {},
   "source": [
    "\n",
    "You can also use the pop() method to remove an item, but this method will remove the last item. Remember that sets are unordered, so you will not know what item that gets removed.\n",
    "\n",
    "The return value of the pop() method is the removed item."
   ]
  },
  {
   "cell_type": "code",
   "execution_count": null,
   "id": "d68d0466",
   "metadata": {},
   "outputs": [],
   "source": [
    "# Example\n",
    "Remove the last item by using the pop() method:"
   ]
  },
  {
   "cell_type": "code",
   "execution_count": 24,
   "id": "dca9ef48",
   "metadata": {},
   "outputs": [
    {
     "name": "stdout",
     "output_type": "stream",
     "text": [
      "apple\n",
      "{'cherry', 'banana'}\n"
     ]
    }
   ],
   "source": [
    "s1 = {\"apple\", \"banana\", \"cherry\"}\n",
    "x=s1.pop()\n",
    "print(x)\n",
    "print(s1)"
   ]
  },
  {
   "cell_type": "raw",
   "id": "1a7c143b",
   "metadata": {},
   "source": [
    "Note: Sets are unordered, so when using the pop() method, you do not know which item that gets removed."
   ]
  },
  {
   "cell_type": "code",
   "execution_count": null,
   "id": "d73aa2d9",
   "metadata": {},
   "outputs": [],
   "source": [
    "## Example\n",
    "\n",
    "The clear() method empties the set:"
   ]
  },
  {
   "cell_type": "code",
   "execution_count": 25,
   "id": "a2698291",
   "metadata": {},
   "outputs": [
    {
     "name": "stdout",
     "output_type": "stream",
     "text": [
      "set()\n"
     ]
    }
   ],
   "source": [
    "thisset = {\"apple\", \"banana\", \"cherry\"}\n",
    "\n",
    "thisset.clear()\n",
    "\n",
    "print(thisset)"
   ]
  },
  {
   "cell_type": "code",
   "execution_count": 26,
   "id": "ca71a3c1",
   "metadata": {},
   "outputs": [
    {
     "ename": "NameError",
     "evalue": "name 'thisset' is not defined",
     "output_type": "error",
     "traceback": [
      "\u001b[1;31m---------------------------------------------------------------------------\u001b[0m",
      "\u001b[1;31mNameError\u001b[0m                                 Traceback (most recent call last)",
      "\u001b[1;32m~\\AppData\\Local\\Temp/ipykernel_9720/2252304185.py\u001b[0m in \u001b[0;36m<module>\u001b[1;34m\u001b[0m\n\u001b[0;32m      6\u001b[0m \u001b[1;32mdel\u001b[0m \u001b[0mthisset\u001b[0m\u001b[1;33m\u001b[0m\u001b[1;33m\u001b[0m\u001b[0m\n\u001b[0;32m      7\u001b[0m \u001b[1;33m\u001b[0m\u001b[0m\n\u001b[1;32m----> 8\u001b[1;33m \u001b[0mprint\u001b[0m\u001b[1;33m(\u001b[0m\u001b[0mthisset\u001b[0m\u001b[1;33m)\u001b[0m\u001b[1;33m\u001b[0m\u001b[1;33m\u001b[0m\u001b[0m\n\u001b[0m",
      "\u001b[1;31mNameError\u001b[0m: name 'thisset' is not defined"
     ]
    }
   ],
   "source": [
    "# Example\n",
    " # The del keyword will delete the set completely:\n",
    "\n",
    "thisset = {\"apple\", \"banana\", \"cherry\"}\n",
    "\n",
    "del thisset\n",
    "\n",
    "print(thisset)\n"
   ]
  },
  {
   "cell_type": "markdown",
   "id": "17095998",
   "metadata": {},
   "source": [
    "# <center> Python - Loop Sets"
   ]
  },
  {
   "cell_type": "code",
   "execution_count": null,
   "id": "09c5f2f4",
   "metadata": {},
   "outputs": [],
   "source": [
    "Loop Items\n",
    "You can loop through the set items by using a for loop:"
   ]
  },
  {
   "cell_type": "code",
   "execution_count": 32,
   "id": "dd5dc94f",
   "metadata": {},
   "outputs": [
    {
     "name": "stdout",
     "output_type": "stream",
     "text": [
      "mango\n",
      "Data\n",
      "Data wrangling\n",
      "MLOPS\n"
     ]
    }
   ],
   "source": [
    "s1= {\"mango\",\"Data wrangling\",'Data','MLOPS'}\n",
    "\n",
    "for i in s1:\n",
    "    print(i)"
   ]
  },
  {
   "cell_type": "code",
   "execution_count": 34,
   "id": "e4f51e2d",
   "metadata": {},
   "outputs": [
    {
     "name": "stdout",
     "output_type": "stream",
     "text": [
      "1\n",
      "2\n",
      "3\n",
      "4\n",
      "5\n",
      "7\n",
      "9\n"
     ]
    }
   ],
   "source": [
    "s1= {5,7,9,1,2,3,4,5}\n",
    "\n",
    "for i in s1:\n",
    "    print(i)"
   ]
  },
  {
   "cell_type": "markdown",
   "id": "e6403b70",
   "metadata": {},
   "source": [
    "# <center> Python - Join Sets"
   ]
  },
  {
   "cell_type": "markdown",
   "id": "2b2597ca",
   "metadata": {},
   "source": [
    "### Join Two Sets\n",
    "\n",
    "* There are several ways to join two or more sets in Python.\n",
    "\n",
    "* You can use the union() method that returns a new set containing all items from both sets, or the update() method that inserts all the items from one set into another:"
   ]
  },
  {
   "cell_type": "code",
   "execution_count": null,
   "id": "e5f1c214",
   "metadata": {},
   "outputs": [],
   "source": [
    "## Example\n",
    "The union() method returns a new set with all items from both sets:"
   ]
  },
  {
   "cell_type": "code",
   "execution_count": 36,
   "id": "ad4a17d7",
   "metadata": {},
   "outputs": [
    {
     "name": "stdout",
     "output_type": "stream",
     "text": [
      "{1, 2, 'c', 3, 'b', 'a'}\n"
     ]
    }
   ],
   "source": [
    "set1 = {\"a\", \"b\" , \"c\"}\n",
    "set2 = {1, 2, 3}\n",
    "\n",
    "set3= set1.union(set2)\n",
    "print(set3)"
   ]
  },
  {
   "cell_type": "code",
   "execution_count": null,
   "id": "7f3cf8bd",
   "metadata": {},
   "outputs": [],
   "source": [
    "### Example\n",
    "The update() method inserts the items in set2 into set1:\n"
   ]
  },
  {
   "cell_type": "code",
   "execution_count": 37,
   "id": "c6a5e86c",
   "metadata": {},
   "outputs": [
    {
     "name": "stdout",
     "output_type": "stream",
     "text": [
      "{1, 2, 'c', 3, 'b', 'a'}\n"
     ]
    }
   ],
   "source": [
    "set1 = {\"a\", \"b\" , \"c\"}\n",
    "set2 = {1, 2, 3}\n",
    "\n",
    "set1.update(set2)\n",
    "print(set1)"
   ]
  },
  {
   "cell_type": "raw",
   "id": "0871690f",
   "metadata": {},
   "source": [
    "Note: Both union() and update() will exclude any duplicate items."
   ]
  },
  {
   "cell_type": "markdown",
   "id": "0450f670",
   "metadata": {},
   "source": [
    "### Keep ONLY the Duplicates:\n",
    "\n",
    "The intersection_update() method will keep only the items that are present in both sets."
   ]
  },
  {
   "cell_type": "code",
   "execution_count": 38,
   "id": "fbae492d",
   "metadata": {},
   "outputs": [
    {
     "name": "stdout",
     "output_type": "stream",
     "text": [
      "{'apple'}\n"
     ]
    }
   ],
   "source": [
    "x= {\"apple\",\"banana\",\"cherry\"}\n",
    "y= {'google',\"microsoft\",\"apple\"}\n",
    "\n",
    "x.intersection_update(y)\n",
    "print(x)"
   ]
  },
  {
   "cell_type": "raw",
   "id": "02a9f902",
   "metadata": {},
   "source": [
    "The intersection() method will return a new set, that only contains the items that are present in both sets."
   ]
  },
  {
   "cell_type": "code",
   "execution_count": 39,
   "id": "65a91fd5",
   "metadata": {},
   "outputs": [
    {
     "name": "stdout",
     "output_type": "stream",
     "text": [
      "{'apple'}\n"
     ]
    }
   ],
   "source": [
    "x = {\"apple\", \"banana\", \"cherry\"}\n",
    "y = {\"google\", \"microsoft\", \"apple\"}\n",
    "\n",
    "z= x.intersection(y)\n",
    "print(z)"
   ]
  },
  {
   "cell_type": "markdown",
   "id": "cea1772d",
   "metadata": {},
   "source": [
    "### Keep All, But NOT the Duplicates:\n",
    "\n",
    "The symmetric_difference_update() method will keep only the elements that are NOT present in both sets."
   ]
  },
  {
   "cell_type": "code",
   "execution_count": 40,
   "id": "8da6b391",
   "metadata": {},
   "outputs": [
    {
     "name": "stdout",
     "output_type": "stream",
     "text": [
      "{'microsoft', 'cherry', 'banana', 'google'}\n"
     ]
    }
   ],
   "source": [
    "x = {\"apple\", \"banana\", \"cherry\"}\n",
    "y = {\"google\", \"microsoft\", \"apple\"}\n",
    "\n",
    "x.symmetric_difference_update(y)\n",
    "print(x)"
   ]
  },
  {
   "cell_type": "raw",
   "id": "bc721716",
   "metadata": {},
   "source": [
    "The symmetric_difference() method will return a new set, that contains only the elements that are NOT present in both sets."
   ]
  },
  {
   "cell_type": "code",
   "execution_count": 42,
   "id": "338d6152",
   "metadata": {},
   "outputs": [
    {
     "name": "stdout",
     "output_type": "stream",
     "text": [
      "{'microsoft', 'google', 'cherry', 'banana'}\n"
     ]
    }
   ],
   "source": [
    "# Example\n",
    "\n",
    "# Return a set that contains all items from both sets, except items that are present in both:\n",
    "\n",
    "x = {\"apple\", \"banana\", \"cherry\"}\n",
    "y = {\"google\", \"microsoft\", \"apple\"}\n",
    "\n",
    "z= x.symmetric_difference(y)\n",
    "\n",
    "print(z)"
   ]
  },
  {
   "cell_type": "markdown",
   "id": "5f813510",
   "metadata": {},
   "source": [
    "# <center> Python - Set Methods"
   ]
  },
  {
   "cell_type": "markdown",
   "id": "1441b28f",
   "metadata": {},
   "source": [
    "### 1. Set add() Method"
   ]
  },
  {
   "cell_type": "code",
   "execution_count": null,
   "id": "69faa0bb",
   "metadata": {},
   "outputs": [],
   "source": [
    "Definition and Usage\n",
    "The add() method adds an element to the set.\n",
    "\n",
    "If the element already exists, the add() method does not add the element."
   ]
  },
  {
   "cell_type": "code",
   "execution_count": 43,
   "id": "e9d7d708",
   "metadata": {},
   "outputs": [
    {
     "name": "stdout",
     "output_type": "stream",
     "text": [
      "{'orange', 'apple', 'cherry', 'banana'}\n"
     ]
    }
   ],
   "source": [
    "# Add an element to the fruits set:\n",
    "\n",
    "fruits = {\"apple\", \"banana\", \"cherry\"}\n",
    "\n",
    "fruits.add(\"orange\")\n",
    "\n",
    "print(fruits)"
   ]
  },
  {
   "cell_type": "code",
   "execution_count": 44,
   "id": "d47ba07f",
   "metadata": {},
   "outputs": [
    {
     "name": "stdout",
     "output_type": "stream",
     "text": [
      "{'apple', 'cherry', 'banana'}\n"
     ]
    }
   ],
   "source": [
    "#Try to add an element that already exists:\n",
    "\n",
    "fruits = {\"apple\", \"banana\", \"cherry\"}\n",
    "\n",
    "fruits.add(\"apple\")\n",
    "\n",
    "print(fruits)"
   ]
  },
  {
   "cell_type": "markdown",
   "id": "4934f16b",
   "metadata": {},
   "source": [
    "### 2. Set clear() Method"
   ]
  },
  {
   "cell_type": "code",
   "execution_count": null,
   "id": "8486c7e5",
   "metadata": {},
   "outputs": [],
   "source": [
    "Definition and Usage\n",
    "The clear() method removes all elements in a set."
   ]
  },
  {
   "cell_type": "code",
   "execution_count": 45,
   "id": "6255258f",
   "metadata": {},
   "outputs": [
    {
     "name": "stdout",
     "output_type": "stream",
     "text": [
      "set()\n"
     ]
    }
   ],
   "source": [
    "# Remove all elements from the fruits set:\n",
    "\n",
    "fruits = {\"apple\", \"banana\", \"cherry\"}\n",
    "\n",
    "fruits.clear()\n",
    "\n",
    "print(fruits)"
   ]
  },
  {
   "cell_type": "markdown",
   "id": "64d99e7f",
   "metadata": {},
   "source": [
    "### 3. Set copy() Method"
   ]
  },
  {
   "cell_type": "code",
   "execution_count": null,
   "id": "90bb6bd7",
   "metadata": {},
   "outputs": [],
   "source": [
    "Definition and Usage\n",
    "The copy() method copies the set"
   ]
  },
  {
   "cell_type": "code",
   "execution_count": 46,
   "id": "15115654",
   "metadata": {},
   "outputs": [
    {
     "name": "stdout",
     "output_type": "stream",
     "text": [
      "{'apple', 'cherry', 'banana'}\n"
     ]
    }
   ],
   "source": [
    "# Copy the fruits set:\n",
    "\n",
    "fruits = {\"apple\", \"banana\", \"cherry\"}\n",
    "x = fruits.copy()\n",
    "print(x)"
   ]
  },
  {
   "cell_type": "markdown",
   "id": "adad1ffa",
   "metadata": {},
   "source": [
    "### 4. Set difference() Method"
   ]
  },
  {
   "cell_type": "raw",
   "id": "8fda9f0d",
   "metadata": {},
   "source": [
    "Definition and Usage\n",
    "The difference() method returns a set that contains the difference between two sets.\n",
    "\n",
    "Meaning: The returned set contains items that exist only in the first set, and not in both sets.\n",
    "\n"
   ]
  },
  {
   "cell_type": "raw",
   "id": "1525f698",
   "metadata": {},
   "source": [
    "Return a set that contains the items that only exist in set x, and not in set y:"
   ]
  },
  {
   "cell_type": "code",
   "execution_count": 47,
   "id": "2cb488ef",
   "metadata": {},
   "outputs": [
    {
     "name": "stdout",
     "output_type": "stream",
     "text": [
      "{'banana', 'cherry'}\n"
     ]
    }
   ],
   "source": [
    "x = {\"apple\", \"banana\", \"cherry\"}\n",
    "y = {\"google\", \"microsoft\", \"apple\"}\n",
    "\n",
    "z= x.difference(y)\n",
    "print(z)"
   ]
  },
  {
   "cell_type": "code",
   "execution_count": 48,
   "id": "54f04db2",
   "metadata": {},
   "outputs": [
    {
     "name": "stdout",
     "output_type": "stream",
     "text": [
      "{'microsoft', 'google'}\n"
     ]
    }
   ],
   "source": [
    "# Reverse the first example. Return a set that contains the items that only exist in set y, and not in set x:\n",
    "\n",
    "x = {\"apple\", \"banana\", \"cherry\"}\n",
    "y = {\"google\", \"microsoft\", \"apple\"}\n",
    "\n",
    "z = y.difference(x)\n",
    "\n",
    "print(z)"
   ]
  },
  {
   "cell_type": "markdown",
   "id": "4bc6c9a6",
   "metadata": {},
   "source": [
    "### 5. Set difference_update() Method"
   ]
  },
  {
   "cell_type": "raw",
   "id": "7619c776",
   "metadata": {},
   "source": [
    "Definition and Usage\n",
    "The difference_update() method removes the items that exist in both sets.\n",
    "\n",
    "The difference_update() method is different from the difference() method, because the difference() method returns a new set, without the unwanted items, and the difference_update() method removes the unwanted items from the original set."
   ]
  },
  {
   "cell_type": "code",
   "execution_count": 49,
   "id": "58dc4737",
   "metadata": {},
   "outputs": [
    {
     "name": "stdout",
     "output_type": "stream",
     "text": [
      "{'cherry', 'banana'}\n"
     ]
    }
   ],
   "source": [
    "x = {\"apple\", \"banana\", \"cherry\"}\n",
    "y = {\"google\", \"microsoft\", \"apple\"}\n",
    "\n",
    "x.difference_update(y)\n",
    "\n",
    "print(x)"
   ]
  },
  {
   "cell_type": "markdown",
   "id": "908aee20",
   "metadata": {},
   "source": [
    "### 6. Set discard() Method"
   ]
  },
  {
   "cell_type": "raw",
   "id": "74742afd",
   "metadata": {},
   "source": [
    "Definition and Usage\n",
    "The discard() method removes the specified item from the set.\n",
    "\n",
    "This method is different from the remove() method, because the remove() method will raise an error if the specified item does not exist, and the discard() method will not."
   ]
  },
  {
   "cell_type": "code",
   "execution_count": 50,
   "id": "cf9ac4b6",
   "metadata": {},
   "outputs": [
    {
     "name": "stdout",
     "output_type": "stream",
     "text": [
      "{'apple', 'cherry'}\n"
     ]
    }
   ],
   "source": [
    "#Remove \"banana\" from the set:\n",
    "\n",
    "fruits = {\"apple\", \"banana\", \"cherry\"}\n",
    "fruits.discard(\"banana\")\n",
    "print(fruits)"
   ]
  },
  {
   "cell_type": "markdown",
   "id": "b34ac1f6",
   "metadata": {},
   "source": [
    "### 7. Set intersection() Method"
   ]
  },
  {
   "cell_type": "raw",
   "id": "ed27cb18",
   "metadata": {},
   "source": [
    "Definition and Usage\n",
    "The intersection() method returns a set that contains the similarity between two or more sets.\n",
    "\n",
    "Meaning: The returned set contains only items that exist in both sets, or in all sets if the comparison is done with more than two sets."
   ]
  },
  {
   "cell_type": "code",
   "execution_count": 51,
   "id": "6b1a3c36",
   "metadata": {},
   "outputs": [
    {
     "name": "stdout",
     "output_type": "stream",
     "text": [
      "{'apple'}\n"
     ]
    }
   ],
   "source": [
    "# Return a set that contains the items that exist in both set x, and set y:\n",
    "\n",
    "x = {\"apple\", \"banana\", \"cherry\"}\n",
    "y = {\"google\", \"microsoft\", \"apple\"}\n",
    "\n",
    "z = x.intersection(y)\n",
    "\n",
    "print(z)"
   ]
  },
  {
   "cell_type": "code",
   "execution_count": 52,
   "id": "f100ba87",
   "metadata": {},
   "outputs": [
    {
     "name": "stdout",
     "output_type": "stream",
     "text": [
      "{'c'}\n"
     ]
    }
   ],
   "source": [
    "# Compare 3 sets, and return a set with items that is present in all 3 sets:\n",
    "\n",
    "x = {\"a\", \"b\", \"c\"}\n",
    "y = {\"c\", \"d\", \"e\"}\n",
    "z = {\"f\", \"g\", \"c\"}\n",
    "\n",
    "result = x.intersection(y, z)\n",
    "\n",
    "print(result)"
   ]
  },
  {
   "cell_type": "markdown",
   "id": "589f6c48",
   "metadata": {},
   "source": [
    "### 8. Set intersection_update() Method"
   ]
  },
  {
   "cell_type": "raw",
   "id": "39c50751",
   "metadata": {},
   "source": [
    "Definition and Usage\n",
    "The intersection_update() method removes the items that is not present in both sets (or in all sets if the comparison is done between more than two sets).\n",
    "\n",
    "The intersection_update() method is different from the intersection() method, because the intersection() method returns a new set, without the unwanted items, and the intersection_update() method removes the unwanted items from the original set."
   ]
  },
  {
   "cell_type": "code",
   "execution_count": 53,
   "id": "27df94dd",
   "metadata": {},
   "outputs": [
    {
     "name": "stdout",
     "output_type": "stream",
     "text": [
      "{'apple'}\n"
     ]
    }
   ],
   "source": [
    "#Remove the items that is not present in both x and y:\n",
    "\n",
    "x = {\"apple\", \"banana\", \"cherry\"}\n",
    "y = {\"google\", \"microsoft\", \"apple\"}\n",
    "\n",
    "x.intersection_update(y)\n",
    "\n",
    "print(x)"
   ]
  },
  {
   "cell_type": "code",
   "execution_count": 54,
   "id": "24223f7a",
   "metadata": {},
   "outputs": [
    {
     "name": "stdout",
     "output_type": "stream",
     "text": [
      "{'c'}\n"
     ]
    }
   ],
   "source": [
    "#Compare 3 sets, and return a set with items that is present in all 3 sets:\n",
    "\n",
    "x = {\"a\", \"b\", \"c\"}\n",
    "y = {\"c\", \"d\", \"e\"}\n",
    "z = {\"f\", \"g\", \"c\"}\n",
    "\n",
    "x.intersection_update(y, z)\n",
    "\n",
    "print(x)"
   ]
  },
  {
   "cell_type": "markdown",
   "id": "086efcc7",
   "metadata": {},
   "source": [
    "### 9. Set isdisjoint() Method"
   ]
  },
  {
   "cell_type": "raw",
   "id": "7afd30a2",
   "metadata": {},
   "source": [
    "Definition and Usage\n",
    "The isdisjoint() method returns True if none of the items are present in both sets, otherwise it returns False."
   ]
  },
  {
   "cell_type": "code",
   "execution_count": 55,
   "id": "bc469cba",
   "metadata": {},
   "outputs": [
    {
     "name": "stdout",
     "output_type": "stream",
     "text": [
      "True\n"
     ]
    }
   ],
   "source": [
    "#Return True if no items in set x is present in set y:\n",
    "\n",
    "x = {\"apple\", \"banana\", \"cherry\"}\n",
    "y = {\"google\", \"microsoft\", \"facebook\"}\n",
    "\n",
    "z = x.isdisjoint(y)\n",
    "\n",
    "print(z)"
   ]
  },
  {
   "cell_type": "code",
   "execution_count": 56,
   "id": "6fa63485",
   "metadata": {},
   "outputs": [
    {
     "name": "stdout",
     "output_type": "stream",
     "text": [
      "False\n"
     ]
    }
   ],
   "source": [
    "# What if no items are present in both sets?\n",
    "\n",
    "# Return False if one ore more items are present in both sets:\n",
    "\n",
    "x = {\"apple\", \"banana\", \"cherry\"}\n",
    "y = {\"google\", \"microsoft\", \"apple\"}\n",
    "\n",
    "z = x.isdisjoint(y)\n",
    "\n",
    "print(z)"
   ]
  },
  {
   "cell_type": "markdown",
   "id": "58d0615b",
   "metadata": {},
   "source": [
    "### 10.Set issubset() Method"
   ]
  },
  {
   "cell_type": "raw",
   "id": "c42dd021",
   "metadata": {},
   "source": [
    "Definition and Usage\n",
    "The issubset() method returns True if all items in the set exists in the specified set, otherwise it retuns False."
   ]
  },
  {
   "cell_type": "code",
   "execution_count": 57,
   "id": "7d01f096",
   "metadata": {},
   "outputs": [
    {
     "name": "stdout",
     "output_type": "stream",
     "text": [
      "True\n"
     ]
    }
   ],
   "source": [
    "x = {\"a\", \"b\", \"c\"}\n",
    "y = {\"f\", \"e\", \"d\", \"c\", \"b\", \"a\"}\n",
    "\n",
    "z = x.issubset(y)\n",
    "\n",
    "print(z)"
   ]
  },
  {
   "cell_type": "code",
   "execution_count": 59,
   "id": "5df02565",
   "metadata": {},
   "outputs": [
    {
     "name": "stdout",
     "output_type": "stream",
     "text": [
      "False\n"
     ]
    }
   ],
   "source": [
    "#What if not all items are present in the specified set?\n",
    "\n",
    "#Return False if not all items in set x are present in set y:\n",
    "\n",
    "x = {\"a\", \"b\", \"c\"}\n",
    "y = {\"f\", \"e\", \"d\", \"c\", \"b\"}\n",
    "z = x.issubset(y)\n",
    "print(z)"
   ]
  },
  {
   "cell_type": "markdown",
   "id": "edda23da",
   "metadata": {},
   "source": [
    "### 11. Set issuperset() Method"
   ]
  },
  {
   "cell_type": "raw",
   "id": "22a434c9",
   "metadata": {},
   "source": [
    "Definition and Usage\n",
    "The issuperset() method returns True if all items in the specified set exists in the original set, otherwise it retuns False."
   ]
  },
  {
   "cell_type": "code",
   "execution_count": 60,
   "id": "b4720c5a",
   "metadata": {},
   "outputs": [
    {
     "name": "stdout",
     "output_type": "stream",
     "text": [
      "True\n"
     ]
    }
   ],
   "source": [
    "# Return True if all items set y are present in set x:\n",
    "\n",
    "x = {\"f\", \"e\", \"d\", \"c\", \"b\", \"a\"}\n",
    "y = {\"a\", \"b\", \"c\"}\n",
    "\n",
    "z = x.issuperset(y)\n",
    "\n",
    "print(z)"
   ]
  },
  {
   "cell_type": "code",
   "execution_count": 61,
   "id": "0629d9f9",
   "metadata": {},
   "outputs": [
    {
     "name": "stdout",
     "output_type": "stream",
     "text": [
      "False\n"
     ]
    }
   ],
   "source": [
    "# Example\n",
    "# What if not all items are present in the specified set?\n",
    "\n",
    "# Return False if not all items in set y are present in set x:\n",
    "\n",
    "x = {\"f\", \"e\", \"d\", \"c\", \"b\"}\n",
    "y = {\"a\", \"b\", \"c\"}\n",
    "z = x.issuperset(y)\n",
    "print(z)"
   ]
  },
  {
   "cell_type": "markdown",
   "id": "0ab56410",
   "metadata": {},
   "source": [
    "### 12. Set pop() Method"
   ]
  },
  {
   "cell_type": "code",
   "execution_count": null,
   "id": "191ef2a2",
   "metadata": {},
   "outputs": [],
   "source": [
    "Definition and Usage\n",
    "The pop() method removes a random item from the set.\n",
    "\n",
    "This method returns the removed item."
   ]
  },
  {
   "cell_type": "code",
   "execution_count": 62,
   "id": "5c0f9124",
   "metadata": {},
   "outputs": [
    {
     "name": "stdout",
     "output_type": "stream",
     "text": [
      "{'cherry', 'banana'}\n"
     ]
    }
   ],
   "source": [
    "#Remove a random item from the set:\n",
    "\n",
    "fruits = {\"apple\", \"banana\", \"cherry\"}\n",
    "\n",
    "fruits.pop()\n",
    "\n",
    "print(fruits)"
   ]
  },
  {
   "cell_type": "code",
   "execution_count": 63,
   "id": "fd4f83d9",
   "metadata": {},
   "outputs": [
    {
     "name": "stdout",
     "output_type": "stream",
     "text": [
      "apple\n"
     ]
    }
   ],
   "source": [
    "# Return the removed element:\n",
    "\n",
    "fruits = {\"apple\", \"banana\", \"cherry\"}\n",
    "\n",
    "x = fruits.pop()\n",
    "\n",
    "print(x)"
   ]
  },
  {
   "cell_type": "code",
   "execution_count": null,
   "id": "066a24f8",
   "metadata": {},
   "outputs": [],
   "source": [
    "Note: The pop() method returns removed value."
   ]
  },
  {
   "cell_type": "markdown",
   "id": "503cd159",
   "metadata": {},
   "source": [
    "### 13. Set remove() Method"
   ]
  },
  {
   "cell_type": "markdown",
   "id": "d2fe61d4",
   "metadata": {},
   "source": [
    "### Definition and Usage:\n",
    "\n",
    "* The remove() method removes the specified element from the set.\n",
    "\n",
    "* This method is different from the discard() method, because the remove() method will raise an error if the specified item does not exist, and the discard() method will not."
   ]
  },
  {
   "cell_type": "code",
   "execution_count": 64,
   "id": "8d7dd5f7",
   "metadata": {},
   "outputs": [
    {
     "name": "stdout",
     "output_type": "stream",
     "text": [
      "{'apple', 'cherry'}\n"
     ]
    }
   ],
   "source": [
    "# Remove \"banana\" from the set:\n",
    "\n",
    "fruits = {\"apple\", \"banana\", \"cherry\"}\n",
    "fruits.remove(\"banana\")\n",
    "print(fruits)"
   ]
  },
  {
   "cell_type": "markdown",
   "id": "207a0951",
   "metadata": {},
   "source": [
    "### 14. Set symmetric_difference() Method"
   ]
  },
  {
   "cell_type": "raw",
   "id": "caa85a17",
   "metadata": {},
   "source": [
    "Definition and Usage:\n",
    "\n",
    "The symmetric_difference() method returns a set that contains all items from both set, but not the items that are present in both sets.\n",
    "\n",
    "Meaning: The returned set contains a mix of items that are not present in both sets."
   ]
  },
  {
   "cell_type": "code",
   "execution_count": 65,
   "id": "ad0d23d1",
   "metadata": {},
   "outputs": [
    {
     "name": "stdout",
     "output_type": "stream",
     "text": [
      "{'microsoft', 'google', 'cherry', 'banana'}\n"
     ]
    }
   ],
   "source": [
    "# Return a set that contains all items from both sets, except items that are present in both sets:\n",
    "\n",
    "x = {\"apple\", \"banana\", \"cherry\"}\n",
    "y = {\"google\", \"microsoft\", \"apple\"}\n",
    "\n",
    "z = x.symmetric_difference(y)\n",
    "\n",
    "print(z)"
   ]
  },
  {
   "cell_type": "markdown",
   "id": "01e71147",
   "metadata": {},
   "source": [
    "### 15. Set symmetric_difference_update() Method"
   ]
  },
  {
   "cell_type": "raw",
   "id": "ccfaeffa",
   "metadata": {},
   "source": [
    "Definition and Usage\n",
    "The symmetric_difference_update() method updates the original set by removing items that are present in both sets, and inserting the other items."
   ]
  },
  {
   "cell_type": "code",
   "execution_count": 66,
   "id": "8e548bf8",
   "metadata": {},
   "outputs": [
    {
     "name": "stdout",
     "output_type": "stream",
     "text": [
      "{'microsoft', 'cherry', 'banana', 'google'}\n"
     ]
    }
   ],
   "source": [
    "# Remove the items that are present in both sets, AND insert the items that is not present in both sets:\n",
    "\n",
    "x = {\"apple\", \"banana\", \"cherry\"}\n",
    "y = {\"google\", \"microsoft\", \"apple\"}\n",
    "\n",
    "x.symmetric_difference_update(y)\n",
    "\n",
    "print(x)"
   ]
  },
  {
   "cell_type": "markdown",
   "id": "af7edb79",
   "metadata": {},
   "source": [
    "### 16. Set union() Method"
   ]
  },
  {
   "cell_type": "raw",
   "id": "cc8b58e0",
   "metadata": {},
   "source": [
    "Definition and Usage\n",
    "The union() method returns a set that contains all items from the original set, and all items from the specified set(s).\n",
    "\n",
    "You can specify as many sets you want, separated by commas.\n",
    "\n",
    "It does not have to be a set, it can be any iterable object.\n",
    "\n",
    "If an item is present in more than one set, the result will contain only one appearance of this item."
   ]
  },
  {
   "cell_type": "code",
   "execution_count": 67,
   "id": "a71ee2d5",
   "metadata": {},
   "outputs": [
    {
     "name": "stdout",
     "output_type": "stream",
     "text": [
      "{'microsoft', 'apple', 'cherry', 'banana', 'google'}\n"
     ]
    }
   ],
   "source": [
    "# Return a set that contains all items from both sets, duplicates are excluded:\n",
    "\n",
    "x = {\"apple\", \"banana\", \"cherry\"}\n",
    "y = {\"google\", \"microsoft\", \"apple\"}\n",
    "\n",
    "z = x.union(y)\n",
    "\n",
    "print(z)"
   ]
  },
  {
   "cell_type": "code",
   "execution_count": 69,
   "id": "00e96fc2",
   "metadata": {},
   "outputs": [
    {
     "name": "stdout",
     "output_type": "stream",
     "text": [
      "{'c', 'f', 'e', 'b', 'd', 'a'}\n"
     ]
    }
   ],
   "source": [
    "#Unify more than 2 sets:\n",
    "\n",
    "x = {\"a\", \"b\", \"c\"}\n",
    "y = {\"f\", \"d\", \"a\"}\n",
    "z = {\"c\", \"d\", \"e\"}\n",
    "\n",
    "result = x.union(y, z)\n",
    "\n",
    "print(result)"
   ]
  },
  {
   "cell_type": "markdown",
   "id": "b1c4228d",
   "metadata": {},
   "source": [
    "### 17. Set update() Method"
   ]
  },
  {
   "cell_type": "raw",
   "id": "b1328db9",
   "metadata": {},
   "source": [
    "Definition and Usage\n",
    "The update() method updates the current set, by adding items from another set (or any other iterable).\n",
    "\n",
    "If an item is present in both sets, only one appearance of this item will be present in the updated set."
   ]
  },
  {
   "cell_type": "code",
   "execution_count": 70,
   "id": "c1d6b59f",
   "metadata": {},
   "outputs": [
    {
     "name": "stdout",
     "output_type": "stream",
     "text": [
      "{'microsoft', 'apple', 'cherry', 'banana', 'google'}\n"
     ]
    }
   ],
   "source": [
    "# Insert the items from set y into set x:\n",
    "\n",
    "x = {\"apple\", \"banana\", \"cherry\"}\n",
    "y = {\"google\", \"microsoft\", \"apple\"}\n",
    "\n",
    "x.update(y)\n",
    "\n",
    "print(x)"
   ]
  },
  {
   "cell_type": "code",
   "execution_count": null,
   "id": "ad4dfe96",
   "metadata": {},
   "outputs": [],
   "source": []
  }
 ],
 "metadata": {
  "kernelspec": {
   "display_name": "Python 3 (ipykernel)",
   "language": "python",
   "name": "python3"
  },
  "language_info": {
   "codemirror_mode": {
    "name": "ipython",
    "version": 3
   },
   "file_extension": ".py",
   "mimetype": "text/x-python",
   "name": "python",
   "nbconvert_exporter": "python",
   "pygments_lexer": "ipython3",
   "version": "3.8.12"
  }
 },
 "nbformat": 4,
 "nbformat_minor": 5
}
